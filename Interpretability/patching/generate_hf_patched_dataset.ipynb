{
 "cells": [
  {
   "cell_type": "markdown",
   "id": "e692cd1f-0226-4fa7-93ec-2e35d6502809",
   "metadata": {},
   "source": [
    "# Generate patched HF dataset:\n",
    "\n",
    "For each sequence in raw format, there will be created a set of new patched versions of the same sequence. The ID will be kept in format `{orig_id}_{patch_size}_{patch_start_index}` for easier processing of the results."
   ]
  },
  {
   "cell_type": "markdown",
   "id": "47268b90-f909-4db0-a9a0-1b62e28af195",
   "metadata": {},
   "source": [
    "Load subset of test with label 1 - 1000 random samples for each family *(if there were less than 1000 samples, they were all taken)*:"
   ]
  },
  {
   "cell_type": "code",
   "execution_count": 1,
   "id": "849d3d61-7abe-4ea4-b55d-ffe523822c74",
   "metadata": {},
   "outputs": [],
   "source": [
    "INPUT = '/home/jovyan/data/proteins_m3_v2/raw_inputs/raw_new_data_with_core_intervals.csv'\n",
    "CSV_DELIMITER = ','\n",
    "\n",
    "OVERLAP_STEP = 1\n",
    "PATCH_CHAR = 'X'\n",
    "PATCH_SIZE = 100\n",
    "HF_DATASET = f'roa7n/patched_1000_test_p_{PATCH_SIZE}'"
   ]
  },
  {
   "cell_type": "code",
   "execution_count": 2,
   "id": "1e7dd28b-47bc-4235-b921-1dafcaae5778",
   "metadata": {},
   "outputs": [
    {
     "data": {
      "text/plain": [
       "[['seq_id',\n",
       "  'sequence',\n",
       "  'global_metric_value',\n",
       "  'domain_architecture',\n",
       "  'interpro',\n",
       "  'max_knot_topology',\n",
       "  'seq_length',\n",
       "  'label',\n",
       "  'family',\n",
       "  'knot_start',\n",
       "  'knot_end',\n",
       "  'knot_len',\n",
       "  'core_percentage'],\n",
       " ['A0A533UME0',\n",
       "  'MKLSIAIPDSSVSDESTQLGKSMKISLIARACAIFRVQTVYIYHESSGSDRDRSLIRTILKYLETPQYLRRGLFQKISELKFAGSLSPLKIPHHTYTSDSHKIKAGDIREGMIVFAKGRKFVDVGLDQIITYSGEDKEGKRVTMQFKTGYPELLAKQISRNEIKQYWGYEVKESANLRTLLSGWNSNVILTTKKGKTIHKVQKYFDEISNNPVLVVFGSPERGIHEILGISIKEIPKSQNLNFFPEQATETVRLEEAILGTLAILNILIRN',\n",
       "  '92.81',\n",
       "  'PF02598;',\n",
       "  'IPR029028;IPR012340;IPR003750;IPR029026;',\n",
       "  '3_1',\n",
       "  '271',\n",
       "  '1',\n",
       "  'SPOUT',\n",
       "  '38',\n",
       "  '246',\n",
       "  '208',\n",
       "  '76.75276752767527']]"
      ]
     },
     "execution_count": 2,
     "metadata": {},
     "output_type": "execute_result"
    }
   ],
   "source": [
    "import csv\n",
    "\n",
    "with open(INPUT, newline='') as f:\n",
    "    reader = csv.reader(f, delimiter=CSV_DELIMITER)\n",
    "    data = list(reader)\n",
    "\n",
    "data[:2]"
   ]
  },
  {
   "cell_type": "markdown",
   "id": "eea8b15c-2b0c-47fa-a05f-3df0a364c023",
   "metadata": {},
   "source": [
    "Generate patched versions:"
   ]
  },
  {
   "cell_type": "code",
   "execution_count": 3,
   "id": "76497220-fb43-45f2-a210-1d05e68c9620",
   "metadata": {},
   "outputs": [],
   "source": [
    "def patch_sequence(sequence_id, sequence, patch_size, overlap_step, patch_char):\n",
    "    patched_sequences = [[f'{sequence_id}_{patch_size}_-1', sequence, 1]]\n",
    "    patch = patch_char * patch_size\n",
    "    last_patch_start_i = len(sequence) - patch_size + 1\n",
    "    \n",
    "    for i in range(0, last_patch_start_i, overlap_step):\n",
    "        patched_seq = sequence[:i] + patch + sequence[i+patch_size:]\n",
    "        patched_sequences.append([f'{sequence_id}_{patch_size}_{i}', patched_seq, 1])\n",
    "\n",
    "    return patched_sequences"
   ]
  },
  {
   "cell_type": "code",
   "execution_count": 4,
   "id": "7b37cfbe-6989-465b-b20c-7f9eed1e5012",
   "metadata": {},
   "outputs": [
    {
     "name": "stdout",
     "output_type": "stream",
     "text": [
      "Calculated sequences [1000/5731].\n",
      "Calculated sequences [2000/5731].\n",
      "Calculated sequences [3000/5731].\n",
      "Calculated sequences [4000/5731].\n",
      "Calculated sequences [5000/5731].\n"
     ]
    },
    {
     "data": {
      "text/plain": [
       "1319717"
      ]
     },
     "execution_count": 4,
     "metadata": {},
     "output_type": "execute_result"
    }
   ],
   "source": [
    "new_sequences = []\n",
    "for i in range(1, len(data)):\n",
    "    seq_id = data[i][0]\n",
    "    seq_str = data[i][1]\n",
    "    patched_versions = patch_sequence(seq_id, seq_str, PATCH_SIZE, OVERLAP_STEP, PATCH_CHAR)\n",
    "    new_sequences += patched_versions\n",
    "        \n",
    "    if i % 1000 == 0:\n",
    "        print(f'Calculated sequences [{i}/{len(data)}].')\n",
    "\n",
    "len(new_sequences)"
   ]
  },
  {
   "cell_type": "code",
   "execution_count": 5,
   "id": "d239ad3d-a95f-4ca4-8e8a-af33c954f392",
   "metadata": {},
   "outputs": [
    {
     "data": {
      "text/html": [
       "<div>\n",
       "<style scoped>\n",
       "    .dataframe tbody tr th:only-of-type {\n",
       "        vertical-align: middle;\n",
       "    }\n",
       "\n",
       "    .dataframe tbody tr th {\n",
       "        vertical-align: top;\n",
       "    }\n",
       "\n",
       "    .dataframe thead th {\n",
       "        text-align: right;\n",
       "    }\n",
       "</style>\n",
       "<table border=\"1\" class=\"dataframe\">\n",
       "  <thead>\n",
       "    <tr style=\"text-align: right;\">\n",
       "      <th></th>\n",
       "      <th>id</th>\n",
       "      <th>sequence_str</th>\n",
       "      <th>label</th>\n",
       "    </tr>\n",
       "  </thead>\n",
       "  <tbody>\n",
       "    <tr>\n",
       "      <th>0</th>\n",
       "      <td>A0A533UME0_100_-1</td>\n",
       "      <td>MKLSIAIPDSSVSDESTQLGKSMKISLIARACAIFRVQTVYIYHES...</td>\n",
       "      <td>1</td>\n",
       "    </tr>\n",
       "    <tr>\n",
       "      <th>1</th>\n",
       "      <td>A0A533UME0_100_0</td>\n",
       "      <td>XXXXXXXXXXXXXXXXXXXXXXXXXXXXXXXXXXXXXXXXXXXXXX...</td>\n",
       "      <td>1</td>\n",
       "    </tr>\n",
       "    <tr>\n",
       "      <th>2</th>\n",
       "      <td>A0A533UME0_100_1</td>\n",
       "      <td>MXXXXXXXXXXXXXXXXXXXXXXXXXXXXXXXXXXXXXXXXXXXXX...</td>\n",
       "      <td>1</td>\n",
       "    </tr>\n",
       "    <tr>\n",
       "      <th>3</th>\n",
       "      <td>A0A533UME0_100_2</td>\n",
       "      <td>MKXXXXXXXXXXXXXXXXXXXXXXXXXXXXXXXXXXXXXXXXXXXX...</td>\n",
       "      <td>1</td>\n",
       "    </tr>\n",
       "    <tr>\n",
       "      <th>4</th>\n",
       "      <td>A0A533UME0_100_3</td>\n",
       "      <td>MKLXXXXXXXXXXXXXXXXXXXXXXXXXXXXXXXXXXXXXXXXXXX...</td>\n",
       "      <td>1</td>\n",
       "    </tr>\n",
       "    <tr>\n",
       "      <th>...</th>\n",
       "      <td>...</td>\n",
       "      <td>...</td>\n",
       "      <td>...</td>\n",
       "    </tr>\n",
       "    <tr>\n",
       "      <th>1319712</th>\n",
       "      <td>A0A6A4IYK5_100_232</td>\n",
       "      <td>MSYNDGNWCLIESDPGVFSELIREFGCSGVQVEEIWSLEAGQFEDL...</td>\n",
       "      <td>1</td>\n",
       "    </tr>\n",
       "    <tr>\n",
       "      <th>1319713</th>\n",
       "      <td>A0A6A4IYK5_100_233</td>\n",
       "      <td>MSYNDGNWCLIESDPGVFSELIREFGCSGVQVEEIWSLEAGQFEDL...</td>\n",
       "      <td>1</td>\n",
       "    </tr>\n",
       "    <tr>\n",
       "      <th>1319714</th>\n",
       "      <td>A0A6A4IYK5_100_234</td>\n",
       "      <td>MSYNDGNWCLIESDPGVFSELIREFGCSGVQVEEIWSLEAGQFEDL...</td>\n",
       "      <td>1</td>\n",
       "    </tr>\n",
       "    <tr>\n",
       "      <th>1319715</th>\n",
       "      <td>A0A6A4IYK5_100_235</td>\n",
       "      <td>MSYNDGNWCLIESDPGVFSELIREFGCSGVQVEEIWSLEAGQFEDL...</td>\n",
       "      <td>1</td>\n",
       "    </tr>\n",
       "    <tr>\n",
       "      <th>1319716</th>\n",
       "      <td>A0A6A4IYK5_100_236</td>\n",
       "      <td>MSYNDGNWCLIESDPGVFSELIREFGCSGVQVEEIWSLEAGQFEDL...</td>\n",
       "      <td>1</td>\n",
       "    </tr>\n",
       "  </tbody>\n",
       "</table>\n",
       "<p>1319717 rows × 3 columns</p>\n",
       "</div>"
      ],
      "text/plain": [
       "                         id  \\\n",
       "0         A0A533UME0_100_-1   \n",
       "1          A0A533UME0_100_0   \n",
       "2          A0A533UME0_100_1   \n",
       "3          A0A533UME0_100_2   \n",
       "4          A0A533UME0_100_3   \n",
       "...                     ...   \n",
       "1319712  A0A6A4IYK5_100_232   \n",
       "1319713  A0A6A4IYK5_100_233   \n",
       "1319714  A0A6A4IYK5_100_234   \n",
       "1319715  A0A6A4IYK5_100_235   \n",
       "1319716  A0A6A4IYK5_100_236   \n",
       "\n",
       "                                              sequence_str  label  \n",
       "0        MKLSIAIPDSSVSDESTQLGKSMKISLIARACAIFRVQTVYIYHES...      1  \n",
       "1        XXXXXXXXXXXXXXXXXXXXXXXXXXXXXXXXXXXXXXXXXXXXXX...      1  \n",
       "2        MXXXXXXXXXXXXXXXXXXXXXXXXXXXXXXXXXXXXXXXXXXXXX...      1  \n",
       "3        MKXXXXXXXXXXXXXXXXXXXXXXXXXXXXXXXXXXXXXXXXXXXX...      1  \n",
       "4        MKLXXXXXXXXXXXXXXXXXXXXXXXXXXXXXXXXXXXXXXXXXXX...      1  \n",
       "...                                                    ...    ...  \n",
       "1319712  MSYNDGNWCLIESDPGVFSELIREFGCSGVQVEEIWSLEAGQFEDL...      1  \n",
       "1319713  MSYNDGNWCLIESDPGVFSELIREFGCSGVQVEEIWSLEAGQFEDL...      1  \n",
       "1319714  MSYNDGNWCLIESDPGVFSELIREFGCSGVQVEEIWSLEAGQFEDL...      1  \n",
       "1319715  MSYNDGNWCLIESDPGVFSELIREFGCSGVQVEEIWSLEAGQFEDL...      1  \n",
       "1319716  MSYNDGNWCLIESDPGVFSELIREFGCSGVQVEEIWSLEAGQFEDL...      1  \n",
       "\n",
       "[1319717 rows x 3 columns]"
      ]
     },
     "execution_count": 5,
     "metadata": {},
     "output_type": "execute_result"
    }
   ],
   "source": [
    "import pandas as pd\n",
    "\n",
    "df = pd.DataFrame(new_sequences, columns =['id','sequence_str', 'label'])\n",
    "df"
   ]
  },
  {
   "cell_type": "markdown",
   "id": "fcd94b11-3c1c-408b-829b-3502ef6870ce",
   "metadata": {},
   "source": [
    "Push to HF hub:"
   ]
  },
  {
   "cell_type": "code",
   "execution_count": 6,
   "id": "d7785780-00c2-42c5-9cad-ff3f56f2a3d7",
   "metadata": {},
   "outputs": [
    {
     "data": {
      "text/plain": [
       "Dataset({\n",
       "    features: ['id', 'sequence_str', 'label'],\n",
       "    num_rows: 1319717\n",
       "})"
      ]
     },
     "execution_count": 6,
     "metadata": {},
     "output_type": "execute_result"
    }
   ],
   "source": [
    "from datasets import Dataset, DatasetDict\n",
    "\n",
    "hf_dataset = Dataset.from_pandas(df)\n",
    "hf_dataset"
   ]
  },
  {
   "cell_type": "code",
   "execution_count": 7,
   "id": "8c87a3cc-ca2c-4ddc-9d4e-307be26728e5",
   "metadata": {},
   "outputs": [
    {
     "name": "stderr",
     "output_type": "stream",
     "text": [
      "/home/jovyan/my-conda-envs/eva_env/lib/python3.8/site-packages/huggingface_hub-0.11.1-py3.8.egg/huggingface_hub/utils/_deprecation.py:128: FutureWarning: 'set_access_token' (from 'huggingface_hub.hf_api') is deprecated and will be removed from version '0.14'. `HfApi.set_access_token` is deprecated as it is very ambiguous. Use `login` or `set_git_credential` instead.\n",
      "/home/jovyan/my-conda-envs/eva_env/lib/python3.8/site-packages/huggingface_hub-0.11.1-py3.8.egg/huggingface_hub/utils/_deprecation.py:128: FutureWarning: 'write_to_credential_store' (from 'huggingface_hub.utils._git_credential') is deprecated and will be removed from version '0.14'. Please use `huggingface_hub.set_git_credential` instead as it allows the user to chose which git-credential tool to use.\n"
     ]
    },
    {
     "data": {
      "application/vnd.jupyter.widget-view+json": {
       "model_id": "da45a348087149748d5a88e2f0d63679",
       "version_major": 2,
       "version_minor": 0
      },
      "text/plain": [
       "Pushing dataset shards to the dataset hub:   0%|          | 0/2 [00:00<?, ?it/s]"
      ]
     },
     "metadata": {},
     "output_type": "display_data"
    }
   ],
   "source": [
    "# import the relavant libraries for loggin in\n",
    "from huggingface_hub import HfApi, HfFolder\n",
    "\n",
    "# set api for login and save token\n",
    "api=HfApi()\n",
    "api.set_access_token('')\n",
    "\n",
    "hf_dataset.push_to_hub(HF_DATASET)"
   ]
  },
  {
   "cell_type": "code",
   "execution_count": 8,
   "id": "c7401af7-de14-4bc0-b586-686b74ff4a78",
   "metadata": {},
   "outputs": [],
   "source": [
    "# from huggingface_hub import notebook_login\n",
    "\n",
    "# notebook_login()"
   ]
  },
  {
   "cell_type": "code",
   "execution_count": 9,
   "id": "0b5c58d3-99ae-4460-b084-47aed8ca54f5",
   "metadata": {},
   "outputs": [],
   "source": [
    "# dataset.push_to_hub('roa7n/patched_1000_test_p_20_50_80_100_150')"
   ]
  },
  {
   "cell_type": "code",
   "execution_count": null,
   "id": "fc6e287a-060e-4877-a1c1-ae306c392c92",
   "metadata": {},
   "outputs": [],
   "source": []
  }
 ],
 "metadata": {
  "kernelspec": {
   "display_name": "Python [conda env:eva_env]",
   "language": "python",
   "name": "conda-env-eva_env-py"
  },
  "language_info": {
   "codemirror_mode": {
    "name": "ipython",
    "version": 3
   },
   "file_extension": ".py",
   "mimetype": "text/x-python",
   "name": "python",
   "nbconvert_exporter": "python",
   "pygments_lexer": "ipython3",
   "version": "3.8.15"
  }
 },
 "nbformat": 4,
 "nbformat_minor": 5
}
