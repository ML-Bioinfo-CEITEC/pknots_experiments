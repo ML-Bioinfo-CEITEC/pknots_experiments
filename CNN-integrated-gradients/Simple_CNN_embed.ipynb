{
 "cells": [
  {
   "cell_type": "code",
   "execution_count": 67,
   "id": "b737c3ed-6981-46b5-b7c5-39a4a4cd77c4",
   "metadata": {},
   "outputs": [],
   "source": [
    "import tensorflow as tf\n",
    "from tensorflow.keras import Sequential\n",
    "from tensorflow.keras.layers import Conv1D, BatchNormalization, MaxPooling1D, Dropout, GlobalAveragePooling1D, Dense\n",
    "from sklearn.model_selection import train_test_split\n",
    "import numpy as np\n",
    "import pandas as pd\n",
    "from typing import Tuple\n",
    "import matplotlib.pyplot as plt\n",
    "from IPython.display import display, HTML\n",
    "import gc"
   ]
  },
  {
   "cell_type": "code",
   "execution_count": 68,
   "id": "c3fe6c8e-abef-4006-9b66-fcf47e51e990",
   "metadata": {},
   "outputs": [],
   "source": [
    "df_embed = pd.read_csv('./all_AF/new/embeddings_clustered_short.csv', header=0).drop(columns=['seq'])"
   ]
  },
  {
   "cell_type": "code",
   "execution_count": 69,
   "id": "01082101-fc55-4c44-889d-eca77d16d24d",
   "metadata": {},
   "outputs": [],
   "source": [
    "def make_train_test_dataset(df: pd.DataFrame, test_size: float = 0.2) -> Tuple[np.ndarray, np.ndarray,\n",
    "                                                                               np.ndarray, np.ndarray]:\n",
    "    df_train, df_test = train_test_split(df, test_size=test_size, random_state=24)\n",
    "\n",
    "    train_labels = df_train.pop('label').to_numpy()\n",
    "    test_labels = df_test.pop('label').to_numpy()\n",
    "\n",
    "    X_train = np.swapaxes(np.expand_dims(df_train, axis=1), 1, 2)\n",
    "    y_train = np.expand_dims(train_labels, axis=1)\n",
    "\n",
    "    X_test = np.swapaxes(np.expand_dims(df_test, axis=1), 1, 2)\n",
    "    y_test = np.expand_dims(test_labels, axis=1)\n",
    "\n",
    "    return X_train, y_train, X_test, y_test"
   ]
  },
  {
   "cell_type": "code",
   "execution_count": 70,
   "id": "99139468-e23a-4430-998c-38947f281784",
   "metadata": {},
   "outputs": [
    {
     "data": {
      "text/plain": [
       "3323"
      ]
     },
     "execution_count": 70,
     "metadata": {},
     "output_type": "execute_result"
    }
   ],
   "source": [
    "X_train, y_train, X_test, y_test = make_train_test_dataset(df_embed)\n",
    "del(df_embed)\n",
    "gc.collect()"
   ]
  },
  {
   "cell_type": "code",
   "execution_count": 71,
   "id": "fb0c1186-5eae-46dc-923e-c7b7527f7f49",
   "metadata": {},
   "outputs": [
    {
     "data": {
      "text/plain": [
       "(192204, 1024, 1)"
      ]
     },
     "execution_count": 71,
     "metadata": {},
     "output_type": "execute_result"
    }
   ],
   "source": [
    "X_train.shape"
   ]
  },
  {
   "cell_type": "code",
   "execution_count": 72,
   "id": "183780b0-90fc-464e-867e-7eaafda0c3fc",
   "metadata": {},
   "outputs": [],
   "source": [
    "model = Sequential([\n",
    "        Conv1D(32, kernel_size=8, data_format='channels_last', activation='relu', input_shape=(1024,1)),\n",
    "        BatchNormalization(),\n",
    "        MaxPooling1D(),\n",
    "        Conv1D(16, kernel_size=8, data_format='channels_last', activation='relu'),\n",
    "        BatchNormalization(),\n",
    "        MaxPooling1D(),\n",
    "        Conv1D(4, kernel_size=8, data_format='channels_last', activation='relu'),\n",
    "        BatchNormalization(),\n",
    "        MaxPooling1D(),\n",
    "        Dropout(0.3),\n",
    "        GlobalAveragePooling1D(),\n",
    "        Dense(1, activation='sigmoid')])"
   ]
  },
  {
   "cell_type": "code",
   "execution_count": 73,
   "id": "cc378ee9-8d28-493a-8173-785a827dc3b0",
   "metadata": {},
   "outputs": [
    {
     "name": "stdout",
     "output_type": "stream",
     "text": [
      "Model: \"sequential_6\"\n",
      "_________________________________________________________________\n",
      " Layer (type)                Output Shape              Param #   \n",
      "=================================================================\n",
      " conv1d_18 (Conv1D)          (None, 1017, 32)          288       \n",
      "                                                                 \n",
      " batch_normalization_18 (Bat  (None, 1017, 32)         128       \n",
      " chNormalization)                                                \n",
      "                                                                 \n",
      " max_pooling1d_18 (MaxPoolin  (None, 508, 32)          0         \n",
      " g1D)                                                            \n",
      "                                                                 \n",
      " conv1d_19 (Conv1D)          (None, 501, 16)           4112      \n",
      "                                                                 \n",
      " batch_normalization_19 (Bat  (None, 501, 16)          64        \n",
      " chNormalization)                                                \n",
      "                                                                 \n",
      " max_pooling1d_19 (MaxPoolin  (None, 250, 16)          0         \n",
      " g1D)                                                            \n",
      "                                                                 \n",
      " conv1d_20 (Conv1D)          (None, 243, 4)            516       \n",
      "                                                                 \n",
      " batch_normalization_20 (Bat  (None, 243, 4)           16        \n",
      " chNormalization)                                                \n",
      "                                                                 \n",
      " max_pooling1d_20 (MaxPoolin  (None, 121, 4)           0         \n",
      " g1D)                                                            \n",
      "                                                                 \n",
      " dropout_6 (Dropout)         (None, 121, 4)            0         \n",
      "                                                                 \n",
      " global_average_pooling1d_6   (None, 4)                0         \n",
      " (GlobalAveragePooling1D)                                        \n",
      "                                                                 \n",
      " dense_6 (Dense)             (None, 1)                 5         \n",
      "                                                                 \n",
      "=================================================================\n",
      "Total params: 5,129\n",
      "Trainable params: 5,025\n",
      "Non-trainable params: 104\n",
      "_________________________________________________________________\n",
      "None\n"
     ]
    }
   ],
   "source": [
    "model.compile(\n",
    "    optimizer='adam',\n",
    "    loss='binary_crossentropy',\n",
    "    metrics=['accuracy']\n",
    ")\n",
    "\n",
    "print(model.summary())"
   ]
  },
  {
   "cell_type": "code",
   "execution_count": 75,
   "id": "35b4df08-0201-4a86-9531-429a950c9fb1",
   "metadata": {},
   "outputs": [
    {
     "name": "stdout",
     "output_type": "stream",
     "text": [
      "Epoch 1/10\n",
      "6007/6007 [==============================] - 346s 58ms/step - loss: 0.3862 - accuracy: 0.8465\n",
      "Epoch 2/10\n",
      "6007/6007 [==============================] - 343s 57ms/step - loss: 0.3707 - accuracy: 0.8561\n",
      "Epoch 3/10\n",
      "6007/6007 [==============================] - 311s 52ms/step - loss: 0.3634 - accuracy: 0.8603\n",
      "Epoch 4/10\n",
      "6007/6007 [==============================] - 311s 52ms/step - loss: 0.3602 - accuracy: 0.8627\n",
      "Epoch 5/10\n",
      "6007/6007 [==============================] - 307s 51ms/step - loss: 0.3557 - accuracy: 0.8648\n",
      "Epoch 6/10\n",
      "6007/6007 [==============================] - 317s 53ms/step - loss: 0.3545 - accuracy: 0.8660\n",
      "Epoch 7/10\n",
      "6007/6007 [==============================] - 381s 63ms/step - loss: 0.3524 - accuracy: 0.8666\n",
      "Epoch 8/10\n",
      "6007/6007 [==============================] - 349s 58ms/step - loss: 0.3498 - accuracy: 0.8680\n",
      "Epoch 9/10\n",
      "6007/6007 [==============================] - 367s 61ms/step - loss: 0.3481 - accuracy: 0.8696\n",
      "Epoch 10/10\n",
      "6007/6007 [==============================] - 366s 61ms/step - loss: 0.3465 - accuracy: 0.8709\n"
     ]
    },
    {
     "data": {
      "text/plain": [
       "<keras.callbacks.History at 0x1c80e042860>"
      ]
     },
     "execution_count": 75,
     "metadata": {},
     "output_type": "execute_result"
    }
   ],
   "source": [
    "model.fit(\n",
    "    X_train,\n",
    "    y_train,\n",
    "    batch_size=32,\n",
    "    epochs=10\n",
    ")\n"
   ]
  },
  {
   "cell_type": "code",
   "execution_count": 76,
   "id": "19e91345-ba6c-4dfa-a7c6-bd982626b686",
   "metadata": {},
   "outputs": [
    {
     "name": "stdout",
     "output_type": "stream",
     "text": [
      "Test loss: 1.2410563230514526\n",
      "Test accuracy: 0.3142078220844269\n"
     ]
    }
   ],
   "source": [
    "score = model.evaluate(X_test, y_test, verbose = 0) \n",
    "\n",
    "print('Test loss:', score[0]) \n",
    "print('Test accuracy:', score[1])"
   ]
  },
  {
   "cell_type": "code",
   "execution_count": 77,
   "id": "672d8cf0-8602-4939-9a94-dc040d11667d",
   "metadata": {},
   "outputs": [],
   "source": [
    "model.save(\"tf_embed_cnn_10epochs.h5\", save_format='h5')"
   ]
  },
  {
   "cell_type": "code",
   "execution_count": null,
   "id": "8dc105c1-0cda-48c2-a0a8-b077850b87e2",
   "metadata": {},
   "outputs": [],
   "source": []
  }
 ],
 "metadata": {
  "kernelspec": {
   "display_name": "Python 3 (ipykernel)",
   "language": "python",
   "name": "python3"
  },
  "language_info": {
   "codemirror_mode": {
    "name": "ipython",
    "version": 3
   },
   "file_extension": ".py",
   "mimetype": "text/x-python",
   "name": "python",
   "nbconvert_exporter": "python",
   "pygments_lexer": "ipython3",
   "version": "3.10.6"
  }
 },
 "nbformat": 4,
 "nbformat_minor": 5
}
