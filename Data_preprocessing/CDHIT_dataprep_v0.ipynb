{
 "cells": [
  {
   "cell_type": "markdown",
   "id": "1a23b5bd-57e6-4c85-a827-89fff79984fd",
   "metadata": {},
   "source": [
    "expected csv file column names:\n",
    "\n",
    "ID </br>\n",
    "uniprotEnd </br>\n",
    "uniprotSequence </br>"
   ]
  },
  {
   "cell_type": "markdown",
   "id": "e2eacd39",
   "metadata": {},
   "source": [
    "## CD-HIT clustering\n",
    "\n",
    "CD-HIT expects data as FASTA format and output them in a specific format (we use `cdhit_reader` to parse it)"
   ]
  },
  {
   "cell_type": "code",
   "execution_count": 1,
   "id": "c942ec85",
   "metadata": {},
   "outputs": [],
   "source": [
    "import pandas as pd\n",
    "from Bio import SeqIO\n",
    "from Bio.Seq import Seq\n",
    "from Bio.SeqRecord import SeqRecord\n",
    "import gzip\n",
    "from random import shuffle"
   ]
  },
  {
   "cell_type": "code",
   "execution_count": 2,
   "id": "2c74116f-2e0b-435a-9d45-21019f2ec9bd",
   "metadata": {},
   "outputs": [],
   "source": [
    "FILE_OUT_NAME = \"clustered_v3.csv.gz\""
   ]
  },
  {
   "cell_type": "markdown",
   "id": "c1362ee0",
   "metadata": {},
   "source": [
    "## FASTA input"
   ]
  },
  {
   "cell_type": "code",
   "execution_count": 3,
   "id": "3429789b",
   "metadata": {},
   "outputs": [],
   "source": [
    "MINLENGTH = 70\n",
    "MAXLENGTH = 1000\n",
    "# for most proteins uniprotEnd == Length but there are rare exceptions in knotted d.f.\n",
    "\n",
    "knotted = pd.read_csv(\"../david_all_knotted_NEW.csv.gz\", delimiter=\"\\t\").query(f\"uniprotEnd >= {MINLENGTH}\").query(f\"uniprotEnd <= {MAXLENGTH}\")\n",
    "unknotted = pd.read_csv(\"../david_all_unknotted_NEW.csv.gz\", delimiter=\"\\t\").query(f\"uniprotEnd >= {MINLENGTH}\").query(f\"uniprotEnd <= {MAXLENGTH}\")"
   ]
  },
  {
   "cell_type": "code",
   "execution_count": 4,
   "id": "ce96f6be",
   "metadata": {},
   "outputs": [
    {
     "data": {
      "text/html": [
       "<div>\n",
       "<style scoped>\n",
       "    .dataframe tbody tr th:only-of-type {\n",
       "        vertical-align: middle;\n",
       "    }\n",
       "\n",
       "    .dataframe tbody tr th {\n",
       "        vertical-align: top;\n",
       "    }\n",
       "\n",
       "    .dataframe thead th {\n",
       "        text-align: right;\n",
       "    }\n",
       "</style>\n",
       "<table border=\"1\" class=\"dataframe\">\n",
       "  <thead>\n",
       "    <tr style=\"text-align: right;\">\n",
       "      <th></th>\n",
       "      <th>ID</th>\n",
       "      <th>latestVersion</th>\n",
       "      <th>globalMetricValue</th>\n",
       "      <th>uniprotStart</th>\n",
       "      <th>uniprotEnd</th>\n",
       "      <th>uniprotSequence</th>\n",
       "      <th>Length</th>\n",
       "    </tr>\n",
       "  </thead>\n",
       "  <tbody>\n",
       "    <tr>\n",
       "      <th>0</th>\n",
       "      <td>AF-A0A009NLX4-F1</td>\n",
       "      <td>4</td>\n",
       "      <td>94.56</td>\n",
       "      <td>1</td>\n",
       "      <td>306</td>\n",
       "      <td>MALRHFLTLRDLSTLELNRILERASELKKMQHDNKVYQPFVGKVLG...</td>\n",
       "      <td>306</td>\n",
       "    </tr>\n",
       "    <tr>\n",
       "      <th>1</th>\n",
       "      <td>AF-A0A010QHM8-F1</td>\n",
       "      <td>4</td>\n",
       "      <td>74.75</td>\n",
       "      <td>1</td>\n",
       "      <td>575</td>\n",
       "      <td>MSQLRDEKDNTTLNDSKESTNPKVVVDSVFDTSEKLFLGGIDDGSD...</td>\n",
       "      <td>575</td>\n",
       "    </tr>\n",
       "    <tr>\n",
       "      <th>2</th>\n",
       "      <td>AF-A0A010R445-F1</td>\n",
       "      <td>4</td>\n",
       "      <td>91.31</td>\n",
       "      <td>1</td>\n",
       "      <td>353</td>\n",
       "      <td>MKQTAFRVTRQALNGAQSRAYSQSTGPRHLMSIADLSPAEFATLVR...</td>\n",
       "      <td>353</td>\n",
       "    </tr>\n",
       "    <tr>\n",
       "      <th>3</th>\n",
       "      <td>AF-A0A011RB99-F1</td>\n",
       "      <td>4</td>\n",
       "      <td>83.81</td>\n",
       "      <td>1</td>\n",
       "      <td>762</td>\n",
       "      <td>MAPPGDTAGPAWERRLHGYREQLACGFPQVADVFAECMREALAVLS...</td>\n",
       "      <td>762</td>\n",
       "    </tr>\n",
       "    <tr>\n",
       "      <th>4</th>\n",
       "      <td>AF-A0A014C010-F1</td>\n",
       "      <td>4</td>\n",
       "      <td>94.69</td>\n",
       "      <td>1</td>\n",
       "      <td>306</td>\n",
       "      <td>MALRHFLTLRDLSTLELNRVLQRASELKKMQQSNKVYQPFVGKVLG...</td>\n",
       "      <td>306</td>\n",
       "    </tr>\n",
       "    <tr>\n",
       "      <th>...</th>\n",
       "      <td>...</td>\n",
       "      <td>...</td>\n",
       "      <td>...</td>\n",
       "      <td>...</td>\n",
       "      <td>...</td>\n",
       "      <td>...</td>\n",
       "      <td>...</td>\n",
       "    </tr>\n",
       "    <tr>\n",
       "      <th>325243</th>\n",
       "      <td>AF-X6M7S0-F1</td>\n",
       "      <td>4</td>\n",
       "      <td>90.56</td>\n",
       "      <td>1</td>\n",
       "      <td>355</td>\n",
       "      <td>MSFFKRKIPQLFWNQLRNVSSTRTTKHVLKISDLSQKELRDVLTFA...</td>\n",
       "      <td>355</td>\n",
       "    </tr>\n",
       "    <tr>\n",
       "      <th>325244</th>\n",
       "      <td>AF-X7EDX4-F1</td>\n",
       "      <td>4</td>\n",
       "      <td>95.50</td>\n",
       "      <td>1</td>\n",
       "      <td>308</td>\n",
       "      <td>MNHFLDIHKTDPSDLEAILTQASAMKAARNGAPKATPDAEQPLKNH...</td>\n",
       "      <td>308</td>\n",
       "    </tr>\n",
       "    <tr>\n",
       "      <th>325245</th>\n",
       "      <td>AF-X7YPC5-F1</td>\n",
       "      <td>4</td>\n",
       "      <td>92.25</td>\n",
       "      <td>1</td>\n",
       "      <td>107</td>\n",
       "      <td>MSYDLDAELPAADAVLMLRVQAERMHGGFFPSAREYSVLYGLSDRR...</td>\n",
       "      <td>107</td>\n",
       "    </tr>\n",
       "    <tr>\n",
       "      <th>325246</th>\n",
       "      <td>AF-X7ZDJ7-F1</td>\n",
       "      <td>4</td>\n",
       "      <td>76.44</td>\n",
       "      <td>1</td>\n",
       "      <td>708</td>\n",
       "      <td>MGRHSLPDPEDSADEPPDEYAAEQQDWADQIADQPGGGRHSEVGYP...</td>\n",
       "      <td>708</td>\n",
       "    </tr>\n",
       "    <tr>\n",
       "      <th>325247</th>\n",
       "      <td>AF-X8AC99-F1</td>\n",
       "      <td>4</td>\n",
       "      <td>75.25</td>\n",
       "      <td>1</td>\n",
       "      <td>466</td>\n",
       "      <td>MLAELAPTVALAAALCPDGEPRTATADGSLEMARGTSRIADPPAWF...</td>\n",
       "      <td>466</td>\n",
       "    </tr>\n",
       "  </tbody>\n",
       "</table>\n",
       "<p>303351 rows × 7 columns</p>\n",
       "</div>"
      ],
      "text/plain": [
       "                      ID  latestVersion  globalMetricValue  uniprotStart  \\\n",
       "0       AF-A0A009NLX4-F1              4              94.56             1   \n",
       "1       AF-A0A010QHM8-F1              4              74.75             1   \n",
       "2       AF-A0A010R445-F1              4              91.31             1   \n",
       "3       AF-A0A011RB99-F1              4              83.81             1   \n",
       "4       AF-A0A014C010-F1              4              94.69             1   \n",
       "...                  ...            ...                ...           ...   \n",
       "325243      AF-X6M7S0-F1              4              90.56             1   \n",
       "325244      AF-X7EDX4-F1              4              95.50             1   \n",
       "325245      AF-X7YPC5-F1              4              92.25             1   \n",
       "325246      AF-X7ZDJ7-F1              4              76.44             1   \n",
       "325247      AF-X8AC99-F1              4              75.25             1   \n",
       "\n",
       "        uniprotEnd                                    uniprotSequence  Length  \n",
       "0              306  MALRHFLTLRDLSTLELNRILERASELKKMQHDNKVYQPFVGKVLG...     306  \n",
       "1              575  MSQLRDEKDNTTLNDSKESTNPKVVVDSVFDTSEKLFLGGIDDGSD...     575  \n",
       "2              353  MKQTAFRVTRQALNGAQSRAYSQSTGPRHLMSIADLSPAEFATLVR...     353  \n",
       "3              762  MAPPGDTAGPAWERRLHGYREQLACGFPQVADVFAECMREALAVLS...     762  \n",
       "4              306  MALRHFLTLRDLSTLELNRVLQRASELKKMQQSNKVYQPFVGKVLG...     306  \n",
       "...            ...                                                ...     ...  \n",
       "325243         355  MSFFKRKIPQLFWNQLRNVSSTRTTKHVLKISDLSQKELRDVLTFA...     355  \n",
       "325244         308  MNHFLDIHKTDPSDLEAILTQASAMKAARNGAPKATPDAEQPLKNH...     308  \n",
       "325245         107  MSYDLDAELPAADAVLMLRVQAERMHGGFFPSAREYSVLYGLSDRR...     107  \n",
       "325246         708  MGRHSLPDPEDSADEPPDEYAAEQQDWADQIADQPGGGRHSEVGYP...     708  \n",
       "325247         466  MLAELAPTVALAAALCPDGEPRTATADGSLEMARGTSRIADPPAWF...     466  \n",
       "\n",
       "[303351 rows x 7 columns]"
      ]
     },
     "execution_count": 4,
     "metadata": {},
     "output_type": "execute_result"
    }
   ],
   "source": [
    "unknotted"
   ]
  },
  {
   "cell_type": "code",
   "execution_count": 5,
   "id": "41faf364",
   "metadata": {},
   "outputs": [],
   "source": [
    "knotted_records = [SeqRecord(Seq(seq), id=ID, description=\"knotted\") for seq, ID in zip(knotted['uniprotSequence'], knotted['ID'])]\n",
    "unknotted_records = [SeqRecord(Seq(seq), id=ID, description=\"unknotted\") for seq, ID in zip(unknotted['uniprotSequence'], unknotted['ID'])]"
   ]
  },
  {
   "cell_type": "code",
   "execution_count": 6,
   "id": "e5c00157",
   "metadata": {},
   "outputs": [
    {
     "data": {
      "text/plain": [
       "763683"
      ]
     },
     "execution_count": 6,
     "metadata": {},
     "output_type": "execute_result"
    }
   ],
   "source": [
    "import random\n",
    "\n",
    "records = knotted_records + unknotted_records\n",
    "shuffle(records)\n",
    "\n",
    "SeqIO.write(records, \"all.fasta\", \"fasta\")"
   ]
  },
  {
   "cell_type": "markdown",
   "id": "5d60ca4e",
   "metadata": {},
   "source": [
    "## 2) CD-HIT"
   ]
  },
  {
   "cell_type": "code",
   "execution_count": 7,
   "id": "1fd53c97",
   "metadata": {},
   "outputs": [],
   "source": [
    "# Takes long time, better run it in the terminal\n",
    "#!cd-hit -i all.fasta -o all_clustered -c 0.9 -s 0.8 -G 0 -aS 0.9 -T 0\n",
    "# CD-HIT version 4.8.1 (built on Aug 20 2021)"
   ]
  },
  {
   "cell_type": "markdown",
   "id": "3c2df556",
   "metadata": {},
   "source": [
    "## 3) Parsing CD-HIT output"
   ]
  },
  {
   "cell_type": "code",
   "execution_count": 7,
   "id": "74c9233d",
   "metadata": {},
   "outputs": [],
   "source": [
    "from cdhit_reader import read_cdhit"
   ]
  },
  {
   "cell_type": "code",
   "execution_count": 8,
   "id": "1f05d546",
   "metadata": {},
   "outputs": [],
   "source": [
    "clusters = read_cdhit(\"./all_clustered.clstr\").read_items()"
   ]
  },
  {
   "cell_type": "code",
   "execution_count": 9,
   "id": "e3c107c4",
   "metadata": {},
   "outputs": [],
   "source": [
    "knotted = knotted.set_index(\"ID\")\n",
    "unknotted = unknotted.set_index(\"ID\")\n",
    "\n",
    "knotted = knotted.drop_duplicates()\n",
    "unknotted = unknotted.drop_duplicates()"
   ]
  },
  {
   "cell_type": "code",
   "execution_count": 10,
   "id": "50f18e54",
   "metadata": {},
   "outputs": [],
   "source": [
    "representants = pd.Series([cl.refname for cl in clusters])"
   ]
  },
  {
   "cell_type": "code",
   "execution_count": 11,
   "id": "3bdb4a63",
   "metadata": {},
   "outputs": [
    {
     "data": {
      "text/plain": [
       "(200477, 156906)"
      ]
     },
     "execution_count": 11,
     "metadata": {},
     "output_type": "execute_result"
    }
   ],
   "source": [
    "unknotted_sel = unknotted.loc[representants[representants.isin(unknotted.index)]]\n",
    "knotted_sel = knotted.loc[representants[representants.isin(knotted.index)]]\n",
    "\n",
    "len(knotted_sel), len(unknotted_sel)"
   ]
  },
  {
   "cell_type": "code",
   "execution_count": 12,
   "id": "3ace43b3",
   "metadata": {},
   "outputs": [],
   "source": [
    "output = pd.concat([knotted_sel, unknotted_sel], axis=0).sample(frac=1)"
   ]
  },
  {
   "cell_type": "code",
   "execution_count": 14,
   "id": "53960cbc",
   "metadata": {},
   "outputs": [],
   "source": [
    "output.to_csv(FILE_OUT_NAME)"
   ]
  },
  {
   "cell_type": "markdown",
   "id": "bb0ee331",
   "metadata": {},
   "source": [
    "##  4) Search for non-trivial cluster (= both knotted and unknotted proteins), minimal edit distance\n",
    "\n",
    "Work in progress"
   ]
  },
  {
   "cell_type": "code",
   "execution_count": 21,
   "id": "509901f2",
   "metadata": {},
   "outputs": [],
   "source": [
    "nontrivial = [cl for cl in clusters if len(cl.sequences)>1]"
   ]
  },
  {
   "cell_type": "code",
   "execution_count": 22,
   "id": "f9c139c6",
   "metadata": {},
   "outputs": [
    {
     "data": {
      "text/plain": [
       "99682"
      ]
     },
     "execution_count": 22,
     "metadata": {},
     "output_type": "execute_result"
    }
   ],
   "source": [
    "len(nontrivial)"
   ]
  },
  {
   "cell_type": "code",
   "execution_count": 24,
   "id": "147c5e29",
   "metadata": {},
   "outputs": [],
   "source": [
    "from tqdm.notebook import tqdm"
   ]
  },
  {
   "cell_type": "code",
   "execution_count": 29,
   "id": "9e8a6c56",
   "metadata": {},
   "outputs": [
    {
     "data": {
      "application/vnd.jupyter.widget-view+json": {
       "model_id": "6a0b19372cec473a90f22f481fffbf89",
       "version_major": 2,
       "version_minor": 0
      },
      "text/plain": [
       "  0%|          | 0/99663 [00:00<?, ?it/s]"
      ]
     },
     "metadata": {},
     "output_type": "display_data"
    }
   ],
   "source": [
    "for cl in tqdm(nontrivial[19:]):\n",
    "    if not (all([x.name in knotted.index for x in cl.sequences]) or all([x.name in unknotted.index for x in cl.sequences])):\n",
    "        break"
   ]
  },
  {
   "cell_type": "code",
   "execution_count": 31,
   "id": "48270658",
   "metadata": {},
   "outputs": [
    {
     "data": {
      "text/plain": [
       "[('AF-A0A6P6BU57-F1', False),\n",
       " ('AF-A0A5F9DHF8-F1', True),\n",
       " ('AF-A0A091DW59-F1', True),\n",
       " ('AF-A0A7N5JDS6-F1', False),\n",
       " ('AF-G9K6A8-F1', True),\n",
       " ('AF-A0A3Q0E8A1-F1', True),\n",
       " ('AF-D2HVG5-F1', False),\n",
       " ('AF-A0A673UQ91-F1', True),\n",
       " ('AF-A0A2K5N299-F1', False)]"
      ]
     },
     "execution_count": 31,
     "metadata": {},
     "output_type": "execute_result"
    }
   ],
   "source": [
    "[(x.name, x.name in knotted.index) for x in nontrivial[27].sequences]"
   ]
  },
  {
   "cell_type": "code",
   "execution_count": 32,
   "id": "8ab9abd7",
   "metadata": {},
   "outputs": [
    {
     "data": {
      "text/plain": [
       "[ClusterSequence(id=0, name=AF-A0A6P6BU57-F1, length=899, identity=90.05, is_ref=False, seqtype=SeqType.PROTEIN, strand=Strand.NONE),\n",
       " ClusterSequence(id=1, name=AF-A0A5F9DHF8-F1, length=963, identity=92.36, is_ref=False, seqtype=SeqType.PROTEIN, strand=Strand.NONE),\n",
       " ClusterSequence(id=2, name=AF-A0A091DW59-F1, length=995, identity=90.04, is_ref=False, seqtype=SeqType.PROTEIN, strand=Strand.NONE),\n",
       " ClusterSequence(id=3, name=AF-A0A7N5JDS6-F1, length=995, identity=92.86, is_ref=False, seqtype=SeqType.PROTEIN, strand=Strand.NONE),\n",
       " ClusterSequence(id=4, name=AF-G9K6A8-F1, length=993, identity=92.55, is_ref=False, seqtype=SeqType.PROTEIN, strand=Strand.NONE),\n",
       " ClusterSequence(id=5, name=AF-A0A3Q0E8A1-F1, length=1000, identity=100.0, is_ref=True, seqtype=SeqType.PROTEIN, strand=Strand.NONE),\n",
       " ClusterSequence(id=6, name=AF-D2HVG5-F1, length=994, identity=92.76, is_ref=False, seqtype=SeqType.PROTEIN, strand=Strand.NONE),\n",
       " ClusterSequence(id=7, name=AF-A0A673UQ91-F1, length=993, identity=90.74, is_ref=False, seqtype=SeqType.PROTEIN, strand=Strand.NONE),\n",
       " ClusterSequence(id=8, name=AF-A0A2K5N299-F1, length=940, identity=94.85, is_ref=False, seqtype=SeqType.PROTEIN, strand=Strand.NONE)]"
      ]
     },
     "execution_count": 32,
     "metadata": {},
     "output_type": "execute_result"
    }
   ],
   "source": [
    "nontrivial[27].sequences"
   ]
  },
  {
   "cell_type": "code",
   "execution_count": 36,
   "id": "d72c9179",
   "metadata": {},
   "outputs": [
    {
     "data": {
      "text/plain": [
       "'MSAGAGRGPRGSRAQPLAPLWCFSAALGMLWTPASQAFNLDVDKLTVYSGPEGSYFGYAVDFHIPAARTASVLVGAPKANTSQPDIVEGGAVYYCPWPAEGSAQCKQIPFDNTNNRKIRVNGTKEPIEFKSNQWFGATVKAHKGEVVACAPLYHWRTLKPTPEKDPVGTCYVAIQNFSAYAEYSPCRNSNADPEGQGYCQAGFSLDFYKNGDLIVGGPGSFYWQGQVITASIADIIANYSFKDILRKLAREKQTDVAPASYDDSYLGYSVAAGEFTGDSEQELVAGVPRGAQNFGYVSIINSTDMTFIQNFTGEQMASYFGYTVTVSDVNNDGMDDVLIGAPLFMERESESSPREVGQVYLYLQVSALVFRDPQILGGTEVFGRFGSAVAHLGDLNQDGYNDIAIGSPFAGKDQRGQVLIYNGNKDGLNTKPSQILQGVWASQTIPSGFGFTLRGDSDIDKNDYPDLIVGAFGTGKVAVYRARPVVTVDAQLLLHPMIINLENKTCQIPESLSVVACFSLRVCVSVTGQSISNTIGLTAELHLDSLKQKGAIKRTLFLDNHQSHRIFPLPVKRQKSLQCQDFVVYLRDETEFRDKLSPINISLNYSLDESTFKEGLEVKPILNYYRENTVTEQAHILVDCGEDNVCIPDLKLSARPDKNQVIIGDENHLTLIINARNEGEGAYEAELFVMIPEEADYVGIERSNKGLRPLSCEYKMENITRMVVCDLGNPMVAGTNYSLGLRFAVPRLEKTNMSINFDLQIRSSNKDNPDSNFVSLQINITAVAQVEIRGVSHPPQIVLPIHNWEPEEEPHKEEGVGPLVEHIYELHNIGPSTISDTLLEVGWPFSARDEFLLYIFHIQTLGPLQCQTNPDINPQDIKPAAPPEDTPELSAFLRNSTIPHLVRKRDVRMPEPHRQSPAKILNCTNIECLQISCAVGRLEGGESAVLKVRSRLWAKTFLQRKNDPYSLASLVSFKVKKMPYKDQPAKLPEGSIAV'"
      ]
     },
     "execution_count": 36,
     "metadata": {},
     "output_type": "execute_result"
    }
   ],
   "source": [
    "unknotted.loc['AF-D2HVG5-F1'].uniprotSequence"
   ]
  },
  {
   "cell_type": "code",
   "execution_count": 37,
   "id": "404777fe",
   "metadata": {},
   "outputs": [
    {
     "data": {
      "text/plain": [
       "'ASVLVGAPKANTSQPDIVEGGAVYYCPWPSEGSAQCKQIPFDNTNNRKIRVNGTKQPIEFKSNQWFGATVKAHKGEVVACAPLYHWRTLKPTPEKDPVGTCYVAIQNFSAYAEYSPCRNSNADPEGQGYCQAGFSLDFYKNGDLIVGGPGSFYWQGQVITASIADIIANYSFKDILRKLAREKQTDVAPASYDDSYLGYSVAAGEFTGDSEQELVAGVPRGAQNFGYVSIINSTDMTFIQNFTGEQMASYFGYTVTVSDVNNDGMDDVLIGAPLFMEREFDTSPREVGQVYLYLQVSALVFRDPQILAGTDVFGRFGSAVAHLGDLNQDGYNDIAIGAPFAGKDQRGKVLIYNGQKDGLNTQASQILQGLWASQTVPSGFGFTLRGDSDIDKNDYPDLIVGAFGTGKVAVYRARPVVTVDAQLLLHPMIINLENKTCQMPESVSPVACFSLKVCASVAGQSISNTIGLTVEVHLDTLKQKGAVKRTLFLDNNESHIIFPLTTQRQKPFQCRDFVVYLRDETEFRDKLSPINISLNYSLDEATFKEGLEVKPILNYYRENTVTEQAHILVDCGEDNMCIPDLKLSARPDKYQVIIGDENHLMLIINARNEGEGAYEAELFVIIPEEADYVGIERSNKGLRPLSCEYKMENVTRMVVCDLGNPMLAGTNYSLGLRFTVPRLEKTNMSINFELQIRSSNKDNPDSNFVSLQINITAVAQVEIRGVSHPPQIVLPIHNWEPEEEPHKEEGVGPLVEHIYELHNIGPSTISDTLLEVGWPFSARDEFLLYIFHIQTLGPLRCQTNPDINPQDIKPVTAPEETPELSAFLRNSTIPHLVRKRDVHAPELHRQSPAKILNCTNIECLQISCMVGRLEGGESAVLKVRSRLWAKTFLQRKNDPYSLASLVSFKVKKMPYQDQPAKLPEGSMAIKTSVIWATPNVSFSIPLWVIILAILLGLLVLAILTLALWKCGFFDRARPPQDDMNDREQLTDEKTVET'"
      ]
     },
     "execution_count": 37,
     "metadata": {},
     "output_type": "execute_result"
    }
   ],
   "source": [
    "knotted.loc['AF-A0A673UQ91-F1'].uniprotSequence"
   ]
  },
  {
   "cell_type": "code",
   "execution_count": 40,
   "id": "62e6199e",
   "metadata": {},
   "outputs": [
    {
     "data": {
      "text/plain": [
       "197"
      ]
     },
     "execution_count": 40,
     "metadata": {},
     "output_type": "execute_result"
    }
   ],
   "source": [
    "def edit_distance(s1, s2):\n",
    "    # source: https://stackoverflow.com/questions/2460177/edit-distance-in-python\n",
    "    \n",
    "    m=len(s1)+1\n",
    "    n=len(s2)+1\n",
    "\n",
    "    tbl = {}\n",
    "    for i in range(m): tbl[i,0]=i\n",
    "    for j in range(n): tbl[0,j]=j\n",
    "    for i in range(1, m):\n",
    "        for j in range(1, n):\n",
    "            cost = 0 if s1[i-1] == s2[j-1] else 1\n",
    "            tbl[i,j] = min(tbl[i, j-1]+1, tbl[i-1, j]+1, tbl[i-1, j-1]+cost)\n",
    "\n",
    "    return tbl[i,j]\n",
    "\n",
    "edit_distance(unknotted.loc['AF-A0A7N5JDS6-F1'].uniprotSequence, knotted.loc['AF-A0A3Q0E8A1-F1'].uniprotSequence)\n"
   ]
  }
 ],
 "metadata": {
  "kernelspec": {
   "display_name": "Python 3 (ipykernel)",
   "language": "python",
   "name": "python3"
  },
  "language_info": {
   "codemirror_mode": {
    "name": "ipython",
    "version": 3
   },
   "file_extension": ".py",
   "mimetype": "text/x-python",
   "name": "python",
   "nbconvert_exporter": "python",
   "pygments_lexer": "ipython3",
   "version": "3.9.5"
  }
 },
 "nbformat": 4,
 "nbformat_minor": 5
}
