{
 "cells": [
  {
   "cell_type": "markdown",
   "id": "2ccb932b-4abc-4b99-b2e6-828e9d29b865",
   "metadata": {},
   "source": [
    "expected csv file column names:\n",
    "\n",
    "Max_Topology </br>\n",
    "Length </br>"
   ]
  },
  {
   "cell_type": "code",
   "execution_count": 1,
   "id": "a37c2c87-3ccd-4c2f-8e6e-c405ada4fc44",
   "metadata": {},
   "outputs": [],
   "source": [
    "import pandas as pd\n",
    "import matplotlib.pyplot as plt\n",
    "import numpy as np\n",
    "from tqdm import tqdm"
   ]
  },
  {
   "cell_type": "code",
   "execution_count": 2,
   "id": "885e9a02-4d4c-4e24-9ff6-12f714da49c2",
   "metadata": {},
   "outputs": [],
   "source": [
    "FILE_IN_NAME = \"clustered_v2.csv.gz\"\n",
    "FILE_OUT_NAME = \"length_normalized_v2.csv.gz\"\n",
    "\n",
    "BIN_SIZE = 5"
   ]
  },
  {
   "cell_type": "code",
   "execution_count": 3,
   "id": "ee55a973-4fcf-4fcf-8376-461c5e8603ec",
   "metadata": {},
   "outputs": [
    {
     "name": "stdout",
     "output_type": "stream",
     "text": [
      "                 ID  latestVersion  globalMetricValue  uniprotStart  \\\n",
      "0  AF-A0A2I1RDW2-F1              4              74.81             1   \n",
      "1      AF-R7J1F5-F1              4              81.44             1   \n",
      "2  AF-A0A850ZUB3-F1              4              71.38             1   \n",
      "3  AF-A0A496S0D7-F1              4              87.75             1   \n",
      "4  AF-A0A4S5J7W7-F1              4              81.94             1   \n",
      "\n",
      "   uniprotEnd                                    uniprotSequence  Length  \\\n",
      "0         658  MTPYGEPPAPAGPPAEVRYPFSAVVGQEQLKLALILSAISPGIGGV...   658.0   \n",
      "1         330  MQFAHPHLLWLIPIVLALLIARYVYTARNARPTMGVSTTAPFANMP...   330.0   \n",
      "2         140  LDAELQLDRLKPKLSRRVLLLQGHQSSWHEGLVLAPATPPLCHNLT...   140.0   \n",
      "3         338  MKKTSAVKWTKKHLLGIEELSAEEILLILDQAVGFKEVLERPIPKV...   338.0   \n",
      "4         524  MIADFHFLRPWWLFALLAAPLLVRLIGRRTDIRSRWEGMIAPHLLN...   524.0   \n",
      "\n",
      "  Domain_architecture InterPro Max_Topology  Max Freq Knot Core  \n",
      "0                 NaN      NaN          NaN       NaN       NaN  \n",
      "1                 NaN      NaN          NaN       NaN       NaN  \n",
      "2                 NaN      NaN          NaN       NaN       NaN  \n",
      "3                 NaN      NaN          NaN       NaN       NaN  \n",
      "4                 NaN      NaN          NaN       NaN       NaN  \n"
     ]
    }
   ],
   "source": [
    "df_in = pd.read_csv(FILE_IN_NAME)\n",
    "print(df_in.head())"
   ]
  },
  {
   "cell_type": "code",
   "execution_count": 4,
   "id": "5dc7dcf5-431a-4e06-8381-56c244fff258",
   "metadata": {},
   "outputs": [],
   "source": [
    "df_pos = df_in[df_in['Max_Topology'].notnull()]\n",
    "df_neg = df_in[df_in['Max_Topology'].isnull()]"
   ]
  },
  {
   "cell_type": "markdown",
   "id": "29f963f7-08b5-4b24-96b0-70cc1b44ab1b",
   "metadata": {},
   "source": [
    "### Preprocess dataset"
   ]
  },
  {
   "cell_type": "code",
   "execution_count": 5,
   "id": "ecba35f9-a8f1-4691-bc42-e5a79d657840",
   "metadata": {},
   "outputs": [],
   "source": [
    "df_pos = df_pos.assign(label=1)\n",
    "df_neg = df_neg.assign(label=0)"
   ]
  },
  {
   "cell_type": "markdown",
   "id": "967732db-da2e-4eb5-b700-d77ca5360260",
   "metadata": {},
   "source": [
    "Sequence length is considered in bins of size BIN_SIZE (currently 5)"
   ]
  },
  {
   "cell_type": "code",
   "execution_count": 6,
   "id": "fd81b735-8c23-4c38-bd87-de387f32be2f",
   "metadata": {},
   "outputs": [],
   "source": [
    "df_pos = df_pos.assign(bin_len = df_pos['Length'].apply(lambda x: x - x % BIN_SIZE))\n",
    "df_neg = df_neg.assign(bin_len = df_neg['Length'].apply(lambda x: x - x % BIN_SIZE))\n",
    "\n",
    "df_pos = df_pos.sort_values(by=['bin_len'])\n",
    "df_neg = df_neg.sort_values(by=['bin_len'])\n",
    "\n",
    "df_pos = df_pos.reset_index(drop=True)\n",
    "df_neg = df_neg.reset_index(drop=True)"
   ]
  },
  {
   "cell_type": "markdown",
   "id": "474c969d-d22e-4f8d-aa24-9162eb54500f",
   "metadata": {},
   "source": [
    "### Make new dataset with similar positive and negative sequence length distribution"
   ]
  },
  {
   "cell_type": "code",
   "execution_count": 7,
   "id": "de652c11-b01a-4091-b69a-524de2abbd40",
   "metadata": {},
   "outputs": [
    {
     "name": "stderr",
     "output_type": "stream",
     "text": [
      "100%|██████████| 200477/200477 [18:25<00:00, 181.36it/s] "
     ]
    },
    {
     "name": "stdout",
     "output_type": "stream",
     "text": [
      "                      ID latestVersion  globalMetricValue uniprotStart  \\\n",
      "0       AF-A0A530NMD7-F1             4              93.94            1   \n",
      "1       AF-A0A2K3KRM4-F1             4              92.69            1   \n",
      "2       AF-A0A7Y2E992-F1             4              91.44            1   \n",
      "3       AF-A0A0D7ARU9-F1             4              80.12            1   \n",
      "4       AF-A0A2D9EXY8-F1             4              82.12            1   \n",
      "...                  ...           ...                ...          ...   \n",
      "198781  AF-A0A668VD23-F1             4              76.88            1   \n",
      "198782  AF-A0A847LGM4-F1             4              79.69            1   \n",
      "198783  AF-A0A7L9BQV1-F1             4              80.75            1   \n",
      "198784      AF-W2KIX8-F1             4              74.31            1   \n",
      "198785  AF-A0A2K5ZBM5-F1             4              84.56            1   \n",
      "\n",
      "       uniprotEnd                                    uniprotSequence  Length  \\\n",
      "0              73  LVLLTIKAAAAYTDFAFADGDVLLFGRESAGVPDPVHHAADARLTI...    73.0   \n",
      "1              71  RYMGSLTAPPCTEGITWTIDRKIRTVSRGQVKLLKNSVLKYYAKRN...    71.0   \n",
      "2              72  IWGADLDGIPVNEWRPKRPSMLVIGSEAHGLSEDVRGLLTGRVSIP...    72.0   \n",
      "3              71  MTLNDATTYAQYIPLFLSTTFAISYGLSFARITATLTHVLLYFRKQ...    71.0   \n",
      "4              70  EGVSTYVLDAQGEGMETIAKNGPLGFVLSDHQSFTEAENQLNTSLT...    70.0   \n",
      "...           ...                                                ...     ...   \n",
      "198781       1000  FSLQRLEVKSFSPHLRFCCDISYFLGAAFNLDTENRVVFTGPPGSY...  1000.0   \n",
      "198782       1000  MKRFPILFLLALCLCAWPGLAQDLPPQLLVEGTSQPLAVTKVDTQV...  1000.0   \n",
      "198783       1000  MLLHASAILLPEFDKPLWLALIPPLWIASWWIARRSLSGWSFSRRT...  1000.0   \n",
      "198784       1000  MEHRPLRQQHTRYGSVPESAAASAKAAFESKQFDVFGNAHDIERIS...  1000.0   \n",
      "198785       1000  PYNVDTESALLYQGPPNTLFGYSVVLHSHGANRWLVVGAPTANWLA...  1000.0   \n",
      "\n",
      "       Domain_architecture                                  InterPro  \\\n",
      "0                 PF00588;            IPR029028;IPR001537;IPR029026;   \n",
      "1                      NaN                                       NaN   \n",
      "2                 PF00588;            IPR029028;IPR001537;IPR029026;   \n",
      "3                      NaN                                       NaN   \n",
      "4                 PF04013;            IPR029028;IPR007158;IPR029026;   \n",
      "...                    ...                                       ...   \n",
      "198781                 NaN                                       NaN   \n",
      "198782    PF09906;PF08487;  IPR019220;IPR011990;IPR013694;IPR036465;   \n",
      "198783                 NaN                                       NaN   \n",
      "198784            PF03493;                      IPR003929;IPR036291;   \n",
      "198785                 NaN                                       NaN   \n",
      "\n",
      "       Max_Topology  Max Freq   Knot Core label  bin_len  \n",
      "0               3_1     0.534     (3, 44)     1     70.0  \n",
      "1               NaN       NaN         NaN     0     70.0  \n",
      "2               3_1     0.506     (3, 44)     1     70.0  \n",
      "3               NaN       NaN         NaN     0     70.0  \n",
      "4               3_1     0.684     (7, 48)     1     70.0  \n",
      "...             ...       ...         ...   ...      ...  \n",
      "198781          NaN       NaN         NaN     0   1000.0  \n",
      "198782          3_1     0.830   (78, 527)     1   1000.0  \n",
      "198783          NaN       NaN         NaN     0   1000.0  \n",
      "198784          3_1     0.658  (440, 904)     1   1000.0  \n",
      "198785          NaN       NaN         NaN     0   1000.0  \n",
      "\n",
      "[198786 rows x 14 columns]\n"
     ]
    },
    {
     "name": "stderr",
     "output_type": "stream",
     "text": [
      "\n"
     ]
    }
   ],
   "source": [
    "pos = 0\n",
    "neg = 0\n",
    "\n",
    "df = pd.DataFrame(columns=df_pos.columns)\n",
    "\n",
    "pbar = tqdm(total = len(df_pos))\n",
    "\n",
    "while pos < len(df_pos) and neg < len(df_neg):\n",
    "    if df_pos['bin_len'][pos] == df_neg['bin_len'][neg]:\n",
    "        df = pd.concat([df, df_pos.iloc[[pos]]], ignore_index=True)\n",
    "        df = pd.concat([df, df_neg.iloc[[neg]]], ignore_index=True)\n",
    "        pos += 1\n",
    "        neg += 1\n",
    "        pbar.update(1)\n",
    "    elif df_pos['bin_len'][pos] > df_neg['bin_len'][neg]:\n",
    "        neg += 1\n",
    "    else:\n",
    "        pos += 1\n",
    "        pbar.update(1)\n",
    "        \n",
    "pbar.close()\n",
    "\n",
    "print(df)"
   ]
  },
  {
   "cell_type": "code",
   "execution_count": 8,
   "id": "df446bd2-4e76-4168-b09e-1aa3ff8e59a1",
   "metadata": {},
   "outputs": [],
   "source": [
    "df = df.drop(columns='bin_len')\n",
    "df = df.sample(frac=1, random_state=42).reset_index(drop=True)\n",
    "df.to_csv(FILE_OUT_NAME, index=False)"
   ]
  },
  {
   "cell_type": "code",
   "execution_count": 9,
   "id": "9ecc6cff-bc56-4019-863c-ceed084fed28",
   "metadata": {},
   "outputs": [
    {
     "name": "stdout",
     "output_type": "stream",
     "text": [
      "Positives: 99393\n",
      "Negatives: 99393\n"
     ]
    }
   ],
   "source": [
    "print(f\"Positives: {len(df[df['label'] == 1])}\")\n",
    "print(f\"Negatives: {len(df[df['label'] == 0])}\")"
   ]
  },
  {
   "cell_type": "code",
   "execution_count": 10,
   "id": "35e0fbf1-3d6d-4578-b479-b39519e5cdbb",
   "metadata": {},
   "outputs": [
    {
     "data": {
      "image/png": "[encoded data removed]",
      "text/plain": [
       "<Figure size 640x480 with 1 Axes>"
      ]
     },
     "metadata": {},
     "output_type": "display_data"
    }
   ],
   "source": [
    "plt.hist(df[df['label'] == 1]['Length'].tolist(), bins=np.linspace(0, 1000, 100), alpha=0.5, label='knotted')\n",
    "\n",
    "plt.hist(df[df['label'] == 0]['Length'].tolist(), bins=np.linspace(0, 1000, 100), alpha=0.5, color='orange', label='unknotted')\n",
    "\n",
    "plt.legend()\n",
    "plt.xlabel('Sequence length')\n",
    "plt.ylabel('count')\n",
    "\n",
    "plt.show()"
   ]
  },
  {
   "cell_type": "code",
   "execution_count": null,
   "id": "cd46c16c-7e0e-4c89-bfea-f3f293193e22",
   "metadata": {},
   "outputs": [],
   "source": []
  }
 ],
 "metadata": {
  "kernelspec": {
   "display_name": "Python [conda env:knots_ML]",
   "language": "python",
   "name": "conda-env-knots_ML-py"
  },
  "language_info": {
   "codemirror_mode": {
    "name": "ipython",
    "version": 3
   },
   "file_extension": ".py",
   "mimetype": "text/x-python",
   "name": "python",
   "nbconvert_exporter": "python",
   "pygments_lexer": "ipython3",
   "version": "3.8.13"
  }
 },
 "nbformat": 4,
 "nbformat_minor": 5
}
