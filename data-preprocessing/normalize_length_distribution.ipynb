{
 "cells": [
  {
   "cell_type": "code",
   "execution_count": 32,
   "id": "a37c2c87-3ccd-4c2f-8e6e-c405ada4fc44",
   "metadata": {},
   "outputs": [],
   "source": [
    "import pandas as pd\n",
    "import matplotlib.pyplot as plt\n",
    "import numpy as np\n",
    "from tqdm import tqdm"
   ]
  },
  {
   "cell_type": "code",
   "execution_count": 33,
   "id": "885e9a02-4d4c-4e24-9ff6-12f714da49c2",
   "metadata": {},
   "outputs": [],
   "source": [
    "FILE_IN_NAME = \"clustered_v0.csv.gz\" # TODO\n",
    "FILE_OUT_NAME = \"length_normalized_v0.csv.gz\"\n",
    "\n",
    "BIN_SIZE = 5"
   ]
  },
  {
   "cell_type": "code",
   "execution_count": 34,
   "id": "ee55a973-4fcf-4fcf-8376-461c5e8603ec",
   "metadata": {},
   "outputs": [
    {
     "name": "stdout",
     "output_type": "stream",
     "text": [
      "                 ID latestVersion  globalMetricValue uniprotStart uniprotEnd  \\\n",
      "0  AF-A0A3T1DUE9-F1             4              93.62            1         73   \n",
      "1  AF-A0A1G0MFV9-F1             4              75.75            1         71   \n",
      "2  AF-A0A6M1Z002-F1             4              95.00            1         71   \n",
      "3  AF-A0A7Z7D1Z9-F1             4              95.50            1         71   \n",
      "4  AF-A0A529X7M2-F1             4              91.81            1         74   \n",
      "\n",
      "                                     uniprotSequence  Length Max Topology  \\\n",
      "0  MLSQRRGLVAHPGMANACPRGISDPTLLLVGPEGGFIAWEVEQLLL...    73.0          3_1   \n",
      "1  MLLWIGLTASAAAIVYSGTKLSRYGDVIAEKTGMGRTWIGVLLMAS...    71.0          NaN   \n",
      "2  MPAFFGDLSPEAPRFTPPSSDLLIFIGPESGFSDEEIALLQGPLKG...    71.0          3_1   \n",
      "3  MFGTESTGIPKKIMQDKIANCLRIPMNAQCRSLNLANSVAIVLYEI...    71.0          NaN   \n",
      "4  LGFSQLALSPHGETDIRAAERTSRLALYLGTEGEGLPEALLERLRT...    74.0          3_1   \n",
      "\n",
      "   Max Freq Knot Core label  bin_len  \n",
      "0     0.506   (9, 52)     1     70.0  \n",
      "1       NaN       NaN     0     70.0  \n",
      "2     0.566   (4, 49)     1     70.0  \n",
      "3       NaN       NaN     0     70.0  \n",
      "4     0.760   (5, 47)     1     70.0  \n"
     ]
    }
   ],
   "source": [
    "df_in = pd.read_csv(FILE_IN_NAME)\n",
    "print(df.head())"
   ]
  },
  {
   "cell_type": "code",
   "execution_count": 35,
   "id": "5dc7dcf5-431a-4e06-8381-56c244fff258",
   "metadata": {},
   "outputs": [],
   "source": [
    "df_pos = df_in[df_in['Max Topology'].notnull()]\n",
    "df_neg = df_in[df_in['Max Topology'].isnull()]"
   ]
  },
  {
   "cell_type": "markdown",
   "id": "29f963f7-08b5-4b24-96b0-70cc1b44ab1b",
   "metadata": {},
   "source": [
    "### Preprocess dataset"
   ]
  },
  {
   "cell_type": "code",
   "execution_count": 36,
   "id": "ecba35f9-a8f1-4691-bc42-e5a79d657840",
   "metadata": {},
   "outputs": [],
   "source": [
    "df_pos = df_pos.assign(label=1)\n",
    "df_neg = df_neg.assign(label=0)"
   ]
  },
  {
   "cell_type": "markdown",
   "id": "967732db-da2e-4eb5-b700-d77ca5360260",
   "metadata": {},
   "source": [
    "Sequence length is considered in bins of size BIN_SIZE (currently 5)"
   ]
  },
  {
   "cell_type": "code",
   "execution_count": 37,
   "id": "fd81b735-8c23-4c38-bd87-de387f32be2f",
   "metadata": {},
   "outputs": [],
   "source": [
    "df_pos = df_pos.assign(bin_len = df_pos['Length'].apply(lambda x: x - x % BIN_SIZE))\n",
    "df_neg = df_neg.assign(bin_len = df_neg['Length'].apply(lambda x: x - x % BIN_SIZE))\n",
    "\n",
    "df_pos = df_pos.sort_values(by=['bin_len'])\n",
    "df_neg = df_neg.sort_values(by=['bin_len'])\n",
    "\n",
    "df_pos = df_pos.reset_index(drop=True)\n",
    "df_neg = df_neg.reset_index(drop=True)"
   ]
  },
  {
   "cell_type": "markdown",
   "id": "474c969d-d22e-4f8d-aa24-9162eb54500f",
   "metadata": {},
   "source": [
    "### Make new dataset with similar positive and negative sequence length distribution"
   ]
  },
  {
   "cell_type": "code",
   "execution_count": 38,
   "id": "de652c11-b01a-4091-b69a-524de2abbd40",
   "metadata": {},
   "outputs": [
    {
     "name": "stderr",
     "output_type": "stream",
     "text": [
      "100%|██████████| 204440/204440 [19:15<00:00, 176.89it/s] "
     ]
    },
    {
     "name": "stdout",
     "output_type": "stream",
     "text": [
      "                      ID latestVersion  globalMetricValue uniprotStart  \\\n",
      "0       AF-A0A3T1DUE9-F1             4              93.62            1   \n",
      "1       AF-A0A1G0MFV9-F1             4              75.75            1   \n",
      "2       AF-A0A6M1Z002-F1             4              95.00            1   \n",
      "3       AF-A0A7Z7D1Z9-F1             4              95.50            1   \n",
      "4       AF-A0A529X7M2-F1             4              91.81            1   \n",
      "...                  ...           ...                ...          ...   \n",
      "205989  AF-A0A669C463-F1             4              72.69            1   \n",
      "205990  AF-A0A1V9Y6D9-F1             4              76.44            1   \n",
      "205991  AF-A0A7N6ADZ2-F1             4              77.00            1   \n",
      "205992      AF-W2R2X0-F1             4              74.31            1   \n",
      "205993  AF-A0A401SDS5-F1             4              82.50            1   \n",
      "\n",
      "       uniprotEnd                                    uniprotSequence  Length  \\\n",
      "0              73  MLSQRRGLVAHPGMANACPRGISDPTLLLVGPEGGFIAWEVEQLLL...    73.0   \n",
      "1              71  MLLWIGLTASAAAIVYSGTKLSRYGDVIAEKTGMGRTWIGVLLMAS...    71.0   \n",
      "2              71  MPAFFGDLSPEAPRFTPPSSDLLIFIGPESGFSDEEIALLQGPLKG...    71.0   \n",
      "3              71  MFGTESTGIPKKIMQDKIANCLRIPMNAQCRSLNLANSVAIVLYEI...    71.0   \n",
      "4              74  LGFSQLALSPHGETDIRAAERTSRLALYLGTEGEGLPEALLERLRT...    74.0   \n",
      "...           ...                                                ...     ...   \n",
      "205989       1000  KIRILWVFLILHLVLHFSKQIFLFKLNCVCVLKKYKDIEGTVKIEE...  1000.0   \n",
      "205990       1000  MTLGPQRRMTRRAAAVVQNNYTSKLTSTFHLDTSVLAGNTPQAHWI...  1000.0   \n",
      "205991       1000  MFAVLFSYARCRSHHCFNIDIKKHRIIKGPKQAQFGYTVQQHVAAG...  1000.0   \n",
      "205992       1000  MEHRPLRQQHTRYGSVPESAAASAKAAFESKQFDVFGNAHDIERIS...  1000.0   \n",
      "205993       1000  MRRERTGTLYNLDSENPVLVKGPARTLFGYSVLLHSYRDEKWCVVG...  1000.0   \n",
      "\n",
      "       Max Topology  Max Freq   Knot Core label  bin_len  \n",
      "0               3_1     0.506     (9, 52)     1     70.0  \n",
      "1               NaN       NaN         NaN     0     70.0  \n",
      "2               3_1     0.566     (4, 49)     1     70.0  \n",
      "3               NaN       NaN         NaN     0     70.0  \n",
      "4               3_1     0.760     (5, 47)     1     70.0  \n",
      "...             ...       ...         ...   ...      ...  \n",
      "205989          NaN       NaN         NaN     0   1000.0  \n",
      "205990          3_1     0.530  (371, 890)     1   1000.0  \n",
      "205991          NaN       NaN         NaN     0   1000.0  \n",
      "205992          3_1     0.650  (440, 904)     1   1000.0  \n",
      "205993          NaN       NaN         NaN     0   1000.0  \n",
      "\n",
      "[205994 rows x 12 columns]\n"
     ]
    },
    {
     "name": "stderr",
     "output_type": "stream",
     "text": [
      "\n"
     ]
    }
   ],
   "source": [
    "pos = 0\n",
    "neg = 0\n",
    "\n",
    "df = pd.DataFrame(columns=df_pos.columns)\n",
    "\n",
    "pbar = tqdm(total = len(df_pos))\n",
    "\n",
    "while pos < len(df_pos) and neg < len(df_neg):\n",
    "    if df_pos['bin_len'][pos] == df_neg['bin_len'][neg]:\n",
    "        df = pd.concat([df, df_pos.iloc[[pos]]], ignore_index=True)\n",
    "        df = pd.concat([df, df_neg.iloc[[neg]]], ignore_index=True)\n",
    "        pos += 1\n",
    "        neg += 1\n",
    "        pbar.update(1)\n",
    "    elif df_pos['bin_len'][pos] > df_neg['bin_len'][neg]:\n",
    "        neg += 1\n",
    "    else:\n",
    "        pos += 1\n",
    "        pbar.update(1)\n",
    "        \n",
    "pbar.close()\n",
    "\n",
    "print(df)"
   ]
  },
  {
   "cell_type": "code",
   "execution_count": 39,
   "id": "df446bd2-4e76-4168-b09e-1aa3ff8e59a1",
   "metadata": {},
   "outputs": [],
   "source": [
    "df = df.drop(columns='bin_len')\n",
    "df.to_csv(FILE_OUT_NAME, index=False)"
   ]
  },
  {
   "cell_type": "code",
   "execution_count": 40,
   "id": "9ecc6cff-bc56-4019-863c-ceed084fed28",
   "metadata": {},
   "outputs": [
    {
     "name": "stdout",
     "output_type": "stream",
     "text": [
      "Positives: 102997\n",
      "Negatives: 102997\n"
     ]
    }
   ],
   "source": [
    "print(f\"Positives: {len(df[df['label'] == 1])}\")\n",
    "print(f\"Negatives: {len(df[df['label'] == 0])}\")"
   ]
  },
  {
   "cell_type": "code",
   "execution_count": 41,
   "id": "35e0fbf1-3d6d-4578-b479-b39519e5cdbb",
   "metadata": {},
   "outputs": [
    {
     "data": {
      "image/png": "[encoded data removed]",
      "text/plain": [
       "<Figure size 640x480 with 1 Axes>"
      ]
     },
     "metadata": {},
     "output_type": "display_data"
    }
   ],
   "source": [
    "plt.hist(df[df['label'] == 1]['Length'].tolist(), bins=np.linspace(0, 1000, 100), alpha=0.5, label='knotted')\n",
    "\n",
    "plt.hist(df[df['label'] == 0]['Length'].tolist(), bins=np.linspace(0, 1000, 100), alpha=0.5, color='orange', label='unknotted')\n",
    "\n",
    "plt.legend()\n",
    "plt.xlabel('Sequence length')\n",
    "plt.ylabel('count')\n",
    "\n",
    "plt.show()"
   ]
  },
  {
   "cell_type": "code",
   "execution_count": null,
   "id": "cd46c16c-7e0e-4c89-bfea-f3f293193e22",
   "metadata": {},
   "outputs": [],
   "source": []
  }
 ],
 "metadata": {
  "kernelspec": {
   "display_name": "Python [conda env:knots_ML]",
   "language": "python",
   "name": "conda-env-knots_ML-py"
  },
  "language_info": {
   "codemirror_mode": {
    "name": "ipython",
    "version": 3
   },
   "file_extension": ".py",
   "mimetype": "text/x-python",
   "name": "python",
   "nbconvert_exporter": "python",
   "pygments_lexer": "ipython3",
   "version": "3.8.13"
  }
 },
 "nbformat": 4,
 "nbformat_minor": 5
}
