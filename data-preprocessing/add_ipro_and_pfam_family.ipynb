{
 "cells": [
  {
   "cell_type": "markdown",
   "id": "d42d5c96-744b-4894-9866-639e74ac734d",
   "metadata": {},
   "source": [
    "expected csv file column names:\n",
    "\n",
    "ID </br>\n",
    "InterPro </br>\n",
    "Domain_architecture </br>"
   ]
  },
  {
   "cell_type": "code",
   "execution_count": 1,
   "id": "74de7c0f-946a-4534-b7b0-7c54db8ee7fc",
   "metadata": {},
   "outputs": [
    {
     "name": "stdout",
     "output_type": "stream",
     "text": [
      "Requirement already satisfied: spyprot in /home/jovyan/my-conda-envs/tmp/lib/python3.8/site-packages (0.7.28)\n",
      "Requirement already satisfied: lxml>=4.5.0 in /home/jovyan/my-conda-envs/tmp/lib/python3.8/site-packages (from spyprot) (4.9.2)\n",
      "Requirement already satisfied: requests>=2.0.0 in /home/jovyan/my-conda-envs/tmp/lib/python3.8/site-packages (from spyprot) (2.28.1)\n",
      "Requirement already satisfied: pysolr>=3.9.0 in /home/jovyan/my-conda-envs/tmp/lib/python3.8/site-packages (from spyprot) (3.9.0)\n",
      "Requirement already satisfied: tqdm>=4.31.1 in /home/jovyan/my-conda-envs/tmp/lib/python3.8/site-packages (from spyprot) (4.64.1)\n",
      "Requirement already satisfied: wget>=3.0 in /home/jovyan/my-conda-envs/tmp/lib/python3.8/site-packages (from spyprot) (3.2)\n",
      "Requirement already satisfied: biopython>1.60 in /home/jovyan/my-conda-envs/tmp/lib/python3.8/site-packages (from spyprot) (1.80)\n",
      "Requirement already satisfied: subprocess32>=3.5.0 in /home/jovyan/my-conda-envs/tmp/lib/python3.8/site-packages (from spyprot) (3.5.4)\n",
      "Requirement already satisfied: psutil>5.6.0 in /home/jovyan/my-conda-envs/tmp/lib/python3.8/site-packages (from spyprot) (5.9.4)\n",
      "Requirement already satisfied: numpy in /home/jovyan/my-conda-envs/tmp/lib/python3.8/site-packages (from biopython>1.60->spyprot) (1.24.1)\n",
      "Requirement already satisfied: charset-normalizer<3,>=2 in /home/jovyan/my-conda-envs/tmp/lib/python3.8/site-packages (from requests>=2.0.0->spyprot) (2.1.1)\n",
      "Requirement already satisfied: idna<4,>=2.5 in /home/jovyan/my-conda-envs/tmp/lib/python3.8/site-packages (from requests>=2.0.0->spyprot) (3.4)\n",
      "Requirement already satisfied: certifi>=2017.4.17 in /home/jovyan/my-conda-envs/tmp/lib/python3.8/site-packages (from requests>=2.0.0->spyprot) (2022.12.7)\n",
      "Requirement already satisfied: urllib3<1.27,>=1.21.1 in /home/jovyan/my-conda-envs/tmp/lib/python3.8/site-packages (from requests>=2.0.0->spyprot) (1.26.13)\n"
     ]
    }
   ],
   "source": [
    "!pip install spyprot"
   ]
  },
  {
   "cell_type": "code",
   "execution_count": 1,
   "id": "92738471-3299-450e-b7b1-1d2f45d22692",
   "metadata": {},
   "outputs": [
    {
     "name": "stderr",
     "output_type": "stream",
     "text": [
      "/home/jovyan/my-conda-envs/tmp/lib/python3.8/site-packages/Bio/pairwise2.py:278: BiopythonDeprecationWarning: Bio.pairwise2 has been deprecated, and we intend to remove it in a future release of Biopython. As an alternative, please consider using Bio.Align.PairwiseAligner as a replacement, and contact the Biopython developers if you still need the Bio.pairwise2 module.\n",
      "  warnings.warn(\n"
     ]
    }
   ],
   "source": [
    "import spyprot\n",
    "import pandas as pd\n",
    "from tqdm import tqdm"
   ]
  },
  {
   "cell_type": "markdown",
   "id": "769c9858-b33c-4ce2-9f18-d2f1fdc71b15",
   "metadata": {},
   "source": [
    "### Test Uniprot search"
   ]
  },
  {
   "cell_type": "code",
   "execution_count": 2,
   "id": "9dda295d-2e92-4304-a74b-e2411314449a",
   "metadata": {},
   "outputs": [
    {
     "name": "stdout",
     "output_type": "stream",
     "text": [
      "['IPR029028;IPR003742;IPR029026;', 'PF02590;']\n"
     ]
    }
   ],
   "source": [
    "uni = spyprot.UniprotSearch(\n",
    "    ['xref_interpro', 'xref_pfam'], accessions=['A0A011VZ55'])\n",
    "res = uni.get()\n",
    "print(res['A0A011VZ55'])"
   ]
  },
  {
   "cell_type": "markdown",
   "id": "d623cc05-1a13-434d-b95a-ec7eff4cfe6e",
   "metadata": {},
   "source": [
    "## Add IPRO and PFAM to the csv"
   ]
  },
  {
   "cell_type": "code",
   "execution_count": 3,
   "id": "8bb76187-524a-420f-a714-6fd7daf805be",
   "metadata": {},
   "outputs": [],
   "source": [
    "# size of accessions list in the UniprotSearch, 100 looks like reasonable constant, bigger numbers do weird things\n",
    "SIZE = 100\n",
    "\n",
    "FILE_IN_NAME = \"length_normalized_v2.csv.gz\"\n",
    "FILE_OUT_NAME = \"families_added_v2.csv.gz\""
   ]
  },
  {
   "cell_type": "code",
   "execution_count": 4,
   "id": "16675f75-81c1-4ab9-b06e-ea8f929d922e",
   "metadata": {},
   "outputs": [
    {
     "name": "stdout",
     "output_type": "stream",
     "text": [
      "           ID  latestVersion  globalMetricValue  uniprotStart  uniprotEnd  \\\n",
      "0  A0A7M7PLY5              4              86.25             1         343   \n",
      "1      U3KBG8              4              72.88             1         727   \n",
      "2  A0A6L8UGY5              4              95.88             1         333   \n",
      "3  A0A1E4KET7              4              88.75             1         359   \n",
      "4  A0A2D6DPQ0              4              86.19             1         317   \n",
      "\n",
      "                                     uniprotSequence  Length  \\\n",
      "0  MAGASAGDWCLIESDPGVFTELIRGFGVGGMQVEEIWTLDDDTALE...   343.0   \n",
      "1  MKATAIATFFGVFLTCTYTAKEATKKTKKAKLYVPQIDCDVKAGKI...   727.0   \n",
      "2  MTISFRNRSFLKLLDFETEEIQYLLDLAASLKKAKRSGTEQQYLKG...   333.0   \n",
      "3  MLYLTFAAGLVLLILGADVLVRGASKLALSWGISPLVVGLTVVAFG...   359.0   \n",
      "4  MTFVYFGIFITSFFILAYASSRLISSLTDIAKFLGWKEFVVAFFTM...   317.0   \n",
      "\n",
      "  Domain_architecture                                           InterPro  \\\n",
      "0    PF01088;PF18031;  IPR038765;IPR001578;IPR036959;IPR017390;IPR041...   \n",
      "1                 NaN                                                NaN   \n",
      "2                 NaN                                                NaN   \n",
      "3            PF01699;                     IPR004481;IPR004837;IPR044880;   \n",
      "4            PF01699;                     IPR004481;IPR004837;IPR044880;   \n",
      "\n",
      "  Max_Topology  Max Freq  Knot Core  label  \n",
      "0          5_2     0.748  (10, 223)      1  \n",
      "1          NaN       NaN        NaN      0  \n",
      "2          NaN       NaN        NaN      0  \n",
      "3          3_1     0.742  (20, 238)      1  \n",
      "4          3_1     0.704  (53, 251)      1  \n",
      "['A0A7M7PLY5', 'U3KBG8', 'A0A6L8UGY5', 'A0A1E4KET7', 'A0A2D6DPQ0', 'A0A1F6HWA4', 'A0A1X1CVR6', 'A0A350LZ69', 'A0A0C3B0M8', 'A0A3B7L4L8']\n"
     ]
    },
    {
     "name": "stderr",
     "output_type": "stream",
     "text": [
      "100%|██████████| 1987/1987 [07:11<00:00,  4.61it/s]\n",
      "100%|██████████| 198786/198786 [00:00<00:00, 930178.16it/s]\n",
      "100%|██████████| 198786/198786 [00:00<00:00, 1154886.17it/s]\n"
     ]
    }
   ],
   "source": [
    "tqdm.pandas()\n",
    "df = pd.read_csv(FILE_IN_NAME)\n",
    "df['ID'] = df['ID'].apply(lambda x: x.split(sep='-')[1])\n",
    "\n",
    "print(df.head())\n",
    "\n",
    "accessions = df['ID'].tolist()\n",
    "print(accessions[:10])\n",
    "\n",
    "final_res = {}\n",
    "\n",
    "for i in tqdm(range(0, len(accessions) - SIZE, SIZE)):\n",
    "    uni = spyprot.UniprotSearch(['xref_interpro', 'xref_pfam'], accessions=accessions[i:i + SIZE])\n",
    "    res = uni.get()\n",
    "    final_res.update(res)\n",
    "    \n",
    "uni = spyprot.UniprotSearch(['xref_interpro', 'xref_pfam'], accessions=accessions[len(accessions) - SIZE:])\n",
    "res = uni.get()\n",
    "final_res.update(res)\n",
    "\n",
    "\n",
    "df['InterPro'] = df['ID'].progress_apply(lambda x: final_res[x][0])\n",
    "df['Domain_architecture'] = df['ID'].progress_apply(lambda x: final_res[x][1])\n"
   ]
  },
  {
   "cell_type": "code",
   "execution_count": 10,
   "id": "e286894d-661a-446d-93dd-afa80eedddc9",
   "metadata": {},
   "outputs": [
    {
     "name": "stdout",
     "output_type": "stream",
     "text": [
      "           ID  latestVersion  globalMetricValue  uniprotStart  uniprotEnd  \\\n",
      "0  A0A7M7PLY5              4              86.25             1         343   \n",
      "1      U3KBG8              4              72.88             1         727   \n",
      "2  A0A6L8UGY5              4              95.88             1         333   \n",
      "3  A0A1E4KET7              4              88.75             1         359   \n",
      "4  A0A2D6DPQ0              4              86.19             1         317   \n",
      "\n",
      "                                     uniprotSequence  Length  \\\n",
      "0  MAGASAGDWCLIESDPGVFTELIRGFGVGGMQVEEIWTLDDDTALE...   343.0   \n",
      "1  MKATAIATFFGVFLTCTYTAKEATKKTKKAKLYVPQIDCDVKAGKI...   727.0   \n",
      "2  MTISFRNRSFLKLLDFETEEIQYLLDLAASLKKAKRSGTEQQYLKG...   333.0   \n",
      "3  MLYLTFAAGLVLLILGADVLVRGASKLALSWGISPLVVGLTVVAFG...   359.0   \n",
      "4  MTFVYFGIFITSFFILAYASSRLISSLTDIAKFLGWKEFVVAFFTM...   317.0   \n",
      "\n",
      "  Domain_architecture                                           InterPro  \\\n",
      "0    PF01088;PF18031;  IPR038765;IPR001578;IPR036959;IPR017390;IPR041...   \n",
      "1    PF03815;PF00092;           IPR004043;IPR036609;IPR002035;IPR036465;   \n",
      "2    PF00185;PF02729;  IPR006132;IPR006130;IPR036901;IPR006131;IPR002...   \n",
      "3            PF01699;                     IPR004481;IPR004837;IPR044880;   \n",
      "4            PF01699;                     IPR004481;IPR004837;IPR044880;   \n",
      "\n",
      "  Max_Topology  Max Freq  Knot Core  label     FamilyName  \n",
      "0          5_2     0.748  (10, 223)      1            UCH  \n",
      "1          NaN       NaN        NaN      0            VIT  \n",
      "2          NaN       NaN        NaN      0  ATCase/OTCase  \n",
      "3          3_1     0.742  (20, 238)      1       membrane  \n",
      "4          3_1     0.704  (53, 251)      1       membrane  \n"
     ]
    }
   ],
   "source": [
    "print(df.head())"
   ]
  },
  {
   "cell_type": "markdown",
   "id": "68aed027-3f15-42ce-abae-47d01fde3bba",
   "metadata": {},
   "source": [
    "## Map InterPro numbers to readable family names"
   ]
  },
  {
   "cell_type": "code",
   "execution_count": 6,
   "id": "96cf3619-c8ab-43a5-9618-4ffbce131b1f",
   "metadata": {},
   "outputs": [],
   "source": [
    "family_mapping = {\n",
    "'IPR029026': 'SPOUT',\n",
    "'IPR004837': 'membrane',\n",
    "'IPR036398': 'Carbonic anhydrase',\n",
    "'IPR036901': 'ATCase/OTCase',\n",
    "'IPR006131': 'ATCase/OTCase',\n",
    "'IPR032695': 'membrane',\n",
    "'IPR013649': 'membrane',\n",
    "'IPR004813': 'membrane',\n",
    "'IPR013694': 'VIT',\n",
    "'IPR018723': 'DUF',\n",
    "'IPR002035': 'VIT',\n",
    "'IPR022628': 'AdoMet synthase',\n",
    "'IPR002133': 'AdoMet synthase',\n",
    "'IPR022636': 'AdoMet synthase',\n",
    "'IPR008927': 'PGluconate dehydrogenase',\n",
    "'IPR013328': 'PGluconate dehydrogenase',\n",
    "'IPR013023': 'PGluconate dehydrogenase',\n",
    "'IPR003929': 'membrane',\n",
    "'IPR001578': 'UCH',\n",
    "'IPR036959': 'UCH',\n",
    "'IPR006827': 'biosynthesis of lantibiotics',\n",
    "'IPR005636': 'TDD',\n",
    "'IPR038459': 'SPOUT',\n",
    "'IPR007209': 'TDD',\n",
    "'IPR022968': 'TDD',\n",
    "'IPR007177': 'TDD',\n",
    "'IPR010793': 'ribosomal-mitochondrial',\n",
    "'IPR025349': 'DUF',\n",
    "'IPR027790': 'AdoMet synthase',\n",
    "'IPR042544': 'AdoMet synthase',\n",
    "'IPR002795': 'AdoMet synthase',\n",
    "'IPR018883': 'Carbonic anhydrase'\n",
    "}"
   ]
  },
  {
   "cell_type": "code",
   "execution_count": 7,
   "id": "e77b54ca-3c65-45fe-8d25-316dac3ffbfe",
   "metadata": {},
   "outputs": [],
   "source": [
    "def map_family(ipro):\n",
    "    if pd.isna(ipro):\n",
    "        return ''\n",
    "    ipro = ipro.split(';')\n",
    "    families = set()\n",
    "    for fam in ipro:\n",
    "        if fam in family_mapping.keys():\n",
    "            families.add(family_mapping[fam])\n",
    "    return ','.join(families)"
   ]
  },
  {
   "cell_type": "code",
   "execution_count": 8,
   "id": "2df532a2-6b43-4b6e-86e5-e3b05c4708fa",
   "metadata": {},
   "outputs": [
    {
     "name": "stderr",
     "output_type": "stream",
     "text": [
      "100%|██████████| 198786/198786 [00:00<00:00, 554149.14it/s]"
     ]
    },
    {
     "name": "stdout",
     "output_type": "stream",
     "text": [
      "                ID  latestVersion  globalMetricValue  uniprotStart  \\\n",
      "0       A0A7M7PLY5              4              86.25             1   \n",
      "1           U3KBG8              4              72.88             1   \n",
      "2       A0A6L8UGY5              4              95.88             1   \n",
      "3       A0A1E4KET7              4              88.75             1   \n",
      "4       A0A2D6DPQ0              4              86.19             1   \n",
      "...            ...            ...                ...           ...   \n",
      "198781  A0A7W0S8Y7              4              83.31             1   \n",
      "198782  A0A0F7ZYI8              4              90.31             1   \n",
      "198783  A0A6J1SY01              4              95.06             1   \n",
      "198784  A0A2I4F3K1              4              79.38             1   \n",
      "198785  A0A4D6XUF1              4              96.25             1   \n",
      "\n",
      "        uniprotEnd                                    uniprotSequence  Length  \\\n",
      "0              343  MAGASAGDWCLIESDPGVFTELIRGFGVGGMQVEEIWTLDDDTALE...   343.0   \n",
      "1              727  MKATAIATFFGVFLTCTYTAKEATKKTKKAKLYVPQIDCDVKAGKI...   727.0   \n",
      "2              333  MTISFRNRSFLKLLDFETEEIQYLLDLAASLKKAKRSGTEQQYLKG...   333.0   \n",
      "3              359  MLYLTFAAGLVLLILGADVLVRGASKLALSWGISPLVVGLTVVAFG...   359.0   \n",
      "4              317  MTFVYFGIFITSFFILAYASSRLISSLTDIAKFLGWKEFVVAFFTM...   317.0   \n",
      "...            ...                                                ...     ...   \n",
      "198781         370  MLLSSQRILLLVIFLSVSFSAAVKGQSPTPTPLQTDDTEKIFTEEI...   370.0   \n",
      "198782         341  MSYHERQSKKRKTAHNGQQDQVSFKPSASFTPVSGGRDWTISVAIP...   341.0   \n",
      "198783         400  MPDTMKNGYMNGHSDAEMNEGETFLFSSESVGEGHPDKMCDQISDA...   400.0   \n",
      "198784         456  MSSNVALPPRHHEPWLLENGNPKSLSKEIMRHGRTAHNMSSSSLRK...   456.0   \n",
      "198785         379  MNEYLFTSESVSEGHPDKIADQISDALLDEIIKQDIKARVACETYV...   379.0   \n",
      "\n",
      "             Domain_architecture  \\\n",
      "0               PF01088;PF18031;   \n",
      "1               PF03815;PF00092;   \n",
      "2               PF00185;PF02729;   \n",
      "3                       PF01699;   \n",
      "4                       PF01699;   \n",
      "...                          ...   \n",
      "198781                  PF13519;   \n",
      "198782                  PF02598;   \n",
      "198783  PF02773;PF02772;PF00438;   \n",
      "198784                  PF01699;   \n",
      "198785  PF02773;PF02772;PF00438;   \n",
      "\n",
      "                                                 InterPro Max_Topology  \\\n",
      "0       IPR038765;IPR001578;IPR036959;IPR017390;IPR041...          5_2   \n",
      "1                IPR004043;IPR036609;IPR002035;IPR036465;          NaN   \n",
      "2       IPR006132;IPR006130;IPR036901;IPR006131;IPR002...          NaN   \n",
      "3                          IPR004481;IPR004837;IPR044880;          3_1   \n",
      "4                          IPR004481;IPR004837;IPR044880;          3_1   \n",
      "...                                                   ...          ...   \n",
      "198781                               IPR002035;IPR036465;          NaN   \n",
      "198782           IPR029028;IPR012340;IPR003750;IPR029026;          3_1   \n",
      "198783  IPR022631;IPR022630;IPR022629;IPR022628;IPR002...          3_1   \n",
      "198784           IPR004713;IPR004798;IPR004837;IPR044880;          NaN   \n",
      "198785  IPR022631;IPR022630;IPR022629;IPR022628;IPR002...          3_1   \n",
      "\n",
      "        Max Freq   Knot Core  label       FamilyName  \n",
      "0          0.748   (10, 223)      1              UCH  \n",
      "1            NaN         NaN      0              VIT  \n",
      "2            NaN         NaN      0    ATCase/OTCase  \n",
      "3          0.742   (20, 238)      1         membrane  \n",
      "4          0.704   (53, 251)      1         membrane  \n",
      "...          ...         ...    ...              ...  \n",
      "198781       NaN         NaN      0              VIT  \n",
      "198782     0.782  (247, 310)      1            SPOUT  \n",
      "198783     0.736   (45, 292)      1  AdoMet synthase  \n",
      "198784       NaN         NaN      0         membrane  \n",
      "198785     0.732   (12, 266)      1  AdoMet synthase  \n",
      "\n",
      "[198786 rows x 14 columns]\n"
     ]
    },
    {
     "name": "stderr",
     "output_type": "stream",
     "text": [
      "\n"
     ]
    }
   ],
   "source": [
    "df['FamilyName'] = df['InterPro'].progress_apply(map_family)\n",
    "print(df)"
   ]
  },
  {
   "cell_type": "code",
   "execution_count": 9,
   "id": "e3e794b1-6946-4f3d-b329-6eb45c456387",
   "metadata": {},
   "outputs": [],
   "source": [
    "df.to_csv(FILE_OUT_NAME, index=False)"
   ]
  },
  {
   "cell_type": "code",
   "execution_count": null,
   "id": "be22bb8b-032f-48ff-84f4-a971288f9ab0",
   "metadata": {},
   "outputs": [],
   "source": []
  }
 ],
 "metadata": {
  "kernelspec": {
   "display_name": "Python [conda env:tmp]",
   "language": "python",
   "name": "conda-env-tmp-py"
  },
  "language_info": {
   "codemirror_mode": {
    "name": "ipython",
    "version": 3
   },
   "file_extension": ".py",
   "mimetype": "text/x-python",
   "name": "python",
   "nbconvert_exporter": "python",
   "pygments_lexer": "ipython3",
   "version": "3.8.15"
  }
 },
 "nbformat": 4,
 "nbformat_minor": 5
}
