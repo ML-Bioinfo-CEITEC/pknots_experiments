{
 "cells": [
  {
   "cell_type": "code",
   "execution_count": 1,
   "id": "74de7c0f-946a-4534-b7b0-7c54db8ee7fc",
   "metadata": {},
   "outputs": [
    {
     "name": "stdout",
     "output_type": "stream",
     "text": [
      "Collecting spyprot\n",
      "  Downloading spyprot-0.7.28-py3-none-any.whl (41 kB)\n",
      "\u001b[2K     \u001b[90m━━━━━━━━━━━━━━━━━━━━━━━━━━━━━━━━━━━━━━━━\u001b[0m \u001b[32m41.9/41.9 kB\u001b[0m \u001b[31m1.3 MB/s\u001b[0m eta \u001b[36m0:00:00\u001b[0m\n",
      "\u001b[?25hRequirement already satisfied: psutil>5.6.0 in ./my-conda-envs/tmp/lib/python3.8/site-packages (from spyprot) (5.9.4)\n",
      "Collecting pysolr>=3.9.0\n",
      "  Downloading pysolr-3.9.0.tar.gz (55 kB)\n",
      "\u001b[2K     \u001b[90m━━━━━━━━━━━━━━━━━━━━━━━━━━━━━━━━━━━━━━━━\u001b[0m \u001b[32m55.8/55.8 kB\u001b[0m \u001b[31m2.7 MB/s\u001b[0m eta \u001b[36m0:00:00\u001b[0m\n",
      "\u001b[?25h  Preparing metadata (setup.py) ... \u001b[?25ldone\n",
      "\u001b[?25hCollecting wget>=3.0\n",
      "  Downloading wget-3.2.zip (10 kB)\n",
      "  Preparing metadata (setup.py) ... \u001b[?25ldone\n",
      "\u001b[?25hCollecting lxml>=4.5.0\n",
      "  Downloading lxml-4.9.2-cp38-cp38-manylinux_2_17_x86_64.manylinux2014_x86_64.manylinux_2_24_x86_64.whl (7.1 MB)\n",
      "\u001b[2K     \u001b[90m━━━━━━━━━━━━━━━━━━━━━━━━━━━━━━━━━━━━━━━━\u001b[0m \u001b[32m7.1/7.1 MB\u001b[0m \u001b[31m76.0 MB/s\u001b[0m eta \u001b[36m0:00:00\u001b[0m:00:01\u001b[0m0:01\u001b[0m\n",
      "\u001b[?25hCollecting subprocess32>=3.5.0\n",
      "  Downloading subprocess32-3.5.4.tar.gz (97 kB)\n",
      "\u001b[2K     \u001b[90m━━━━━━━━━━━━━━━━━━━━━━━━━━━━━━━━━━━━━━━━\u001b[0m \u001b[32m97.4/97.4 kB\u001b[0m \u001b[31m7.4 MB/s\u001b[0m eta \u001b[36m0:00:00\u001b[0m\n",
      "\u001b[?25h  Preparing metadata (setup.py) ... \u001b[?25ldone\n",
      "\u001b[?25hCollecting requests>=2.0.0\n",
      "  Downloading requests-2.28.1-py3-none-any.whl (62 kB)\n",
      "\u001b[2K     \u001b[90m━━━━━━━━━━━━━━━━━━━━━━━━━━━━━━━━━━━━━━━━\u001b[0m \u001b[32m62.8/62.8 kB\u001b[0m \u001b[31m4.4 MB/s\u001b[0m eta \u001b[36m0:00:00\u001b[0m\n",
      "\u001b[?25hCollecting biopython>1.60\n",
      "  Downloading biopython-1.80-cp38-cp38-manylinux_2_17_x86_64.manylinux2014_x86_64.whl (3.1 MB)\n",
      "\u001b[2K     \u001b[90m━━━━━━━━━━━━━━━━━━━━━━━━━━━━━━━━━━━━━━━━\u001b[0m \u001b[32m3.1/3.1 MB\u001b[0m \u001b[31m86.1 MB/s\u001b[0m eta \u001b[36m0:00:00\u001b[0m:00:01\u001b[0m\n",
      "\u001b[?25hCollecting tqdm>=4.31.1\n",
      "  Downloading tqdm-4.64.1-py2.py3-none-any.whl (78 kB)\n",
      "\u001b[2K     \u001b[90m━━━━━━━━━━━━━━━━━━━━━━━━━━━━━━━━━━━━━━━━\u001b[0m \u001b[32m78.5/78.5 kB\u001b[0m \u001b[31m6.0 MB/s\u001b[0m eta \u001b[36m0:00:00\u001b[0m\n",
      "\u001b[?25hRequirement already satisfied: numpy in ./my-conda-envs/tmp/lib/python3.8/site-packages (from biopython>1.60->spyprot) (1.24.1)\n",
      "Collecting idna<4,>=2.5\n",
      "  Downloading idna-3.4-py3-none-any.whl (61 kB)\n",
      "\u001b[2K     \u001b[90m━━━━━━━━━━━━━━━━━━━━━━━━━━━━━━━━━━━━━━━━\u001b[0m \u001b[32m61.5/61.5 kB\u001b[0m \u001b[31m4.1 MB/s\u001b[0m eta \u001b[36m0:00:00\u001b[0m\n",
      "\u001b[?25hCollecting charset-normalizer<3,>=2\n",
      "  Downloading charset_normalizer-2.1.1-py3-none-any.whl (39 kB)\n",
      "Collecting certifi>=2017.4.17\n",
      "  Downloading certifi-2022.12.7-py3-none-any.whl (155 kB)\n",
      "\u001b[2K     \u001b[90m━━━━━━━━━━━━━━━━━━━━━━━━━━━━━━━━━━━━━━\u001b[0m \u001b[32m155.3/155.3 kB\u001b[0m \u001b[31m10.7 MB/s\u001b[0m eta \u001b[36m0:00:00\u001b[0m\n",
      "\u001b[?25hCollecting urllib3<1.27,>=1.21.1\n",
      "  Downloading urllib3-1.26.13-py2.py3-none-any.whl (140 kB)\n",
      "\u001b[2K     \u001b[90m━━━━━━━━━━━━━━━━━━━━━━━━━━━━━━━━━━━━━━\u001b[0m \u001b[32m140.6/140.6 kB\u001b[0m \u001b[31m10.6 MB/s\u001b[0m eta \u001b[36m0:00:00\u001b[0m\n",
      "\u001b[?25hBuilding wheels for collected packages: pysolr, subprocess32, wget\n",
      "  Building wheel for pysolr (setup.py) ... \u001b[?25ldone\n",
      "\u001b[?25h  Created wheel for pysolr: filename=pysolr-3.9.0-py2.py3-none-any.whl size=19674 sha256=c7324bd81669c3576b9b9a0fa30f7d536af96af9be5902feb77b8af81f62169a\n",
      "  Stored in directory: /home/jovyan/.cache/pip/wheels/b9/17/86/0fe1f3d17a60871bb2e0511274e01c755575357c19e2534cfc\n",
      "  Building wheel for subprocess32 (setup.py) ... \u001b[?25ldone\n",
      "\u001b[?25h  Created wheel for subprocess32: filename=subprocess32-3.5.4-py3-none-any.whl size=6487 sha256=810dd8d44aabe1a81e8383215b21783da0960d8c1878b45d9d58cae9f3b71a5c\n",
      "  Stored in directory: /home/jovyan/.cache/pip/wheels/d9/c2/8d/5c99974968d6da1e9563ebad4c4a33f473bbe5c63fd4e8f015\n",
      "  Building wheel for wget (setup.py) ... \u001b[?25ldone\n",
      "\u001b[?25h  Created wheel for wget: filename=wget-3.2-py3-none-any.whl size=9656 sha256=585b53c6f7fb3c946adb2aebe1490cd0d6ea87d2665427ad95c6463d8a0e2c6b\n",
      "  Stored in directory: /home/jovyan/.cache/pip/wheels/46/4a/43/6e71c9584e8b20b326931deaf89f11bf4db1bda170ac38e7b4\n",
      "Successfully built pysolr subprocess32 wget\n",
      "Installing collected packages: wget, urllib3, tqdm, subprocess32, lxml, idna, charset-normalizer, certifi, biopython, requests, pysolr, spyprot\n",
      "Successfully installed biopython-1.80 certifi-2022.12.7 charset-normalizer-2.1.1 idna-3.4 lxml-4.9.2 pysolr-3.9.0 requests-2.28.1 spyprot-0.7.28 subprocess32-3.5.4 tqdm-4.64.1 urllib3-1.26.13 wget-3.2\n"
     ]
    }
   ],
   "source": [
    "!pip install spyprot"
   ]
  },
  {
   "cell_type": "code",
   "execution_count": 1,
   "id": "92738471-3299-450e-b7b1-1d2f45d22692",
   "metadata": {},
   "outputs": [
    {
     "name": "stderr",
     "output_type": "stream",
     "text": [
      "/home/jovyan/my-conda-envs/tmp/lib/python3.8/site-packages/Bio/pairwise2.py:278: BiopythonDeprecationWarning: Bio.pairwise2 has been deprecated, and we intend to remove it in a future release of Biopython. As an alternative, please consider using Bio.Align.PairwiseAligner as a replacement, and contact the Biopython developers if you still need the Bio.pairwise2 module.\n",
      "  warnings.warn(\n"
     ]
    }
   ],
   "source": [
    "import spyprot\n",
    "import pandas as pd\n",
    "from tqdm import tqdm"
   ]
  },
  {
   "cell_type": "markdown",
   "id": "769c9858-b33c-4ce2-9f18-d2f1fdc71b15",
   "metadata": {},
   "source": [
    "### Test Uniprot search"
   ]
  },
  {
   "cell_type": "code",
   "execution_count": 10,
   "id": "9dda295d-2e92-4304-a74b-e2411314449a",
   "metadata": {},
   "outputs": [
    {
     "name": "stdout",
     "output_type": "stream",
     "text": [
      "['IPR029028;IPR003742;IPR029026;', 'PF02590;']\n"
     ]
    }
   ],
   "source": [
    "uni = spyprot.UniprotSearch(\n",
    "    ['xref_interpro', 'xref_pfam'], accessions=['A0A011VZ55'])\n",
    "res = uni.get()\n",
    "print(res['A0A011VZ55'])"
   ]
  },
  {
   "cell_type": "markdown",
   "id": "d623cc05-1a13-434d-b95a-ec7eff4cfe6e",
   "metadata": {},
   "source": [
    "## Add IPRO and PFAM to the csv"
   ]
  },
  {
   "cell_type": "code",
   "execution_count": 3,
   "id": "8bb76187-524a-420f-a714-6fd7daf805be",
   "metadata": {},
   "outputs": [],
   "source": [
    "# size of accessions list in the UniprotSearch, 100 looks like reasonable constant, bigger numbers do weird things\n",
    "SIZE = 100\n",
    "\n",
    "FILE_IN_NAME = \"spout_all_unknotted.csv\"\n",
    "FILE_OUT_NAME = \"spout_all_unknotted_ipro.csv\""
   ]
  },
  {
   "cell_type": "code",
   "execution_count": 4,
   "id": "16675f75-81c1-4ab9-b06e-ea8f929d922e",
   "metadata": {},
   "outputs": [
    {
     "name": "stdout",
     "output_type": "stream",
     "text": [
      "           ID  latestVersion  globalMetricValue  uniprotStart  uniprotEnd  \\\n",
      "0  A0A009NLX4              4              94.56             1         306   \n",
      "1  A0A010QHM8              4              74.75             1         575   \n",
      "2  A0A010R445              4              91.31             1         353   \n",
      "3  A0A014C010              4              94.69             1         306   \n",
      "4  A0A014CD17              4              94.38             1         306   \n",
      "\n",
      "                                     uniprotSequence  Length  \n",
      "0  MALRHFLTLRDLSTLELNRILERASELKKMQHDNKVYQPFVGKVLG...     306  \n",
      "1  MSQLRDEKDNTTLNDSKESTNPKVVVDSVFDTSEKLFLGGIDDGSD...     575  \n",
      "2  MKQTAFRVTRQALNGAQSRAYSQSTGPRHLMSIADLSPAEFATLVR...     353  \n",
      "3  MALRHFLTLRDLSTLELNRVLQRASELKKMQQSNKVYQPFVGKVLG...     306  \n",
      "4  MALRHFLTLRDLSTLELNRVLQRASELKKMQQSNKVYQPFVGKVLG...     306  \n",
      "['A0A009NLX4', 'A0A010QHM8', 'A0A010R445', 'A0A014C010', 'A0A014CD17', 'A0A015X2G2', 'A0A015YLP7', 'A0A016URG5', 'A0A016WIA3', 'A0A017TC45']\n"
     ]
    },
    {
     "name": "stderr",
     "output_type": "stream",
     "text": [
      "100%|██████████| 3310/3310 [55:22<00:00,  1.00s/it]t]\n",
      "100%|██████████| 331052/331052 [00:00<00:00, 1066553.13it/s]\n"
     ]
    }
   ],
   "source": [
    "tqdm.pandas()\n",
    "df = pd.read_csv(FILE_IN_NAME)\n",
    "df['ID'] = df['ID'].apply(lambda x: x.split(sep='-')[1])\n",
    "\n",
    "print(df.head())\n",
    "\n",
    "accessions = df['ID'].tolist()\n",
    "print(accessions[:10])\n",
    "\n",
    "final_res = {}\n",
    "\n",
    "for i in tqdm(range(0, len(accessions) - SIZE, SIZE)):\n",
    "    uni = spyprot.UniprotSearch(['xref_interpro', 'xref_pfam'], accessions=accessions[i:i + SIZE])\n",
    "    res = uni.get()\n",
    "    final_res.update(res)\n",
    "    \n",
    "uni = spyprot.UniprotSearch(['xref_interpro''xref_pfam'], accessions=accessions[len(accessions) - SIZE:])\n",
    "res = uni.get()\n",
    "final_res.update(res)\n",
    "\n",
    "\n",
    "df['InterPro'] = df['ID'].progress_apply(lambda x: final_res[x][0])\n",
    "df['Domain architecture'] = df['ID'].progress_apply(lambda x: final_res[x][1])\n"
   ]
  },
  {
   "cell_type": "code",
   "execution_count": 6,
   "id": "e286894d-661a-446d-93dd-afa80eedddc9",
   "metadata": {},
   "outputs": [
    {
     "name": "stdout",
     "output_type": "stream",
     "text": [
      "           ID  latestVersion  globalMetricValue  uniprotStart  uniprotEnd  \\\n",
      "0  A0A009NLX4              4              94.56             1         306   \n",
      "1  A0A010QHM8              4              74.75             1         575   \n",
      "2  A0A010R445              4              91.31             1         353   \n",
      "3  A0A014C010              4              94.69             1         306   \n",
      "4  A0A014CD17              4              94.38             1         306   \n",
      "\n",
      "                                     uniprotSequence  Length  \\\n",
      "0  MALRHFLTLRDLSTLELNRILERASELKKMQHDNKVYQPFVGKVLG...     306   \n",
      "1  MSQLRDEKDNTTLNDSKESTNPKVVVDSVFDTSEKLFLGGIDDGSD...     575   \n",
      "2  MKQTAFRVTRQALNGAQSRAYSQSTGPRHLMSIADLSPAEFATLVR...     353   \n",
      "3  MALRHFLTLRDLSTLELNRVLQRASELKKMQQSNKVYQPFVGKVLG...     306   \n",
      "4  MALRHFLTLRDLSTLELNRVLQRASELKKMQQSNKVYQPFVGKVLG...     306   \n",
      "\n",
      "                                            InterPro  \n",
      "0  IPR006132;IPR006130;IPR036901;IPR006131;IPR002...  \n",
      "1                               IPR004648;IPR004813;  \n",
      "2  IPR006132;IPR006130;IPR036901;IPR006131;IPR002...  \n",
      "3  IPR006132;IPR006130;IPR036901;IPR006131;IPR002...  \n",
      "4  IPR006132;IPR006130;IPR036901;IPR006131;IPR002...  \n"
     ]
    }
   ],
   "source": [
    "print(df.head())"
   ]
  },
  {
   "cell_type": "code",
   "execution_count": 7,
   "id": "e3e794b1-6946-4f3d-b329-6eb45c456387",
   "metadata": {},
   "outputs": [],
   "source": [
    "df.to_csv(FILE_OUT_NAME, index=False)"
   ]
  },
  {
   "cell_type": "code",
   "execution_count": null,
   "id": "84c62cdd-e45e-49c4-913b-0da6ff95d0db",
   "metadata": {},
   "outputs": [],
   "source": []
  }
 ],
 "metadata": {
  "kernelspec": {
   "display_name": "Python [conda env:tmp]",
   "language": "python",
   "name": "conda-env-tmp-py"
  },
  "language_info": {
   "codemirror_mode": {
    "name": "ipython",
    "version": 3
   },
   "file_extension": ".py",
   "mimetype": "text/x-python",
   "name": "python",
   "nbconvert_exporter": "python",
   "pygments_lexer": "ipython3",
   "version": "3.8.15"
  }
 },
 "nbformat": 4,
 "nbformat_minor": 5
}
