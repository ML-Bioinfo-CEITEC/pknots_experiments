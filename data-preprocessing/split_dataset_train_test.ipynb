{
 "cells": [
  {
   "cell_type": "code",
   "execution_count": 1,
   "id": "0f59fd7f-98d4-4930-bbcb-f27387963539",
   "metadata": {},
   "outputs": [],
   "source": [
    "from datasets import Dataset\n",
    "import pandas as pd"
   ]
  },
  {
   "cell_type": "code",
   "execution_count": 2,
   "id": "de7bcbbe-c3e3-4cc0-9f25-43bec8b1efd6",
   "metadata": {},
   "outputs": [
    {
     "name": "stdout",
     "output_type": "stream",
     "text": [
      "DatasetDict({\n",
      "    train: Dataset({\n",
      "        features: ['ID', 'latestVersion', 'globalMetricValue', 'uniprotStart', 'uniprotEnd', 'uniprotSequence', 'Length', 'Domain_architecture', 'InterPro', 'Max_Topology', 'Max Freq', 'Knot Core', 'label', 'FamilyName'],\n",
      "        num_rows: 159028\n",
      "    })\n",
      "    test: Dataset({\n",
      "        features: ['ID', 'latestVersion', 'globalMetricValue', 'uniprotStart', 'uniprotEnd', 'uniprotSequence', 'Length', 'Domain_architecture', 'InterPro', 'Max_Topology', 'Max Freq', 'Knot Core', 'label', 'FamilyName'],\n",
      "        num_rows: 39758\n",
      "    })\n",
      "})\n",
      "{'ID': 'A0A2C6L2N7', 'latestVersion': 4, 'globalMetricValue': 74.0, 'uniprotStart': 1, 'uniprotEnd': 200, 'uniprotSequence': 'MEQIKVDLALDKTFLLHGNKQVAYLMVKLAAPEQIVKERPVQNFSFVIDRSGSMSGEKLDYTKKAVTFAVGHLRPQDYCSVVAFDDMVTMVAPSHKVENKDALKMAVESIYPGGSTNLSGGMLLGLREVKLAHKENQINRVLLLTDGMANVGVTDHGAWWRRRGKWQPVRLISLPLDWVMTLKKICCRQWPRPAEVTFII', 'Length': 200.0, 'Domain_architecture': 'PF13519;', 'InterPro': 'IPR002035;IPR036465;', 'Max_Topology': None, 'Max Freq': None, 'Knot Core': None, 'label': 0, 'FamilyName': 'VIT'}\n"
     ]
    }
   ],
   "source": [
    "df = pd.read_csv(\"families_added_v2.csv.gz\")\n",
    "dss = Dataset.from_pandas(df).train_test_split(test_size=0.2, seed=42, shuffle=True)\n",
    "print(dss)\n",
    "print(dss['train'][0])"
   ]
  },
  {
   "cell_type": "code",
   "execution_count": 3,
   "id": "e17795c8-32d3-487d-9050-ca070f0a4baa",
   "metadata": {},
   "outputs": [
    {
     "data": {
      "application/vnd.jupyter.widget-view+json": {
       "model_id": "73143966ff2543889ef5073ad5b03696",
       "version_major": 2,
       "version_minor": 0
      },
      "text/plain": [
       "VBox(children=(HTML(value='<center> <img\\nsrc=https://huggingface.co/front/assets/huggingface_logo-noborder.sv…"
      ]
     },
     "metadata": {},
     "output_type": "display_data"
    }
   ],
   "source": [
    "from huggingface_hub import notebook_login\n",
    "\n",
    "notebook_login()"
   ]
  },
  {
   "cell_type": "code",
   "execution_count": 4,
   "id": "9600ffce-2052-4a45-b9a4-915ac7e3e051",
   "metadata": {},
   "outputs": [
    {
     "name": "stderr",
     "output_type": "stream",
     "text": [
      "Pushing split train to the Hub.\n"
     ]
    },
    {
     "data": {
      "application/vnd.jupyter.widget-view+json": {
       "model_id": "4292696e1d5648bcbcd673843d11159f",
       "version_major": 2,
       "version_minor": 0
      },
      "text/plain": [
       "Pushing dataset shards to the dataset hub:   0%|          | 0/1 [00:00<?, ?it/s]"
      ]
     },
     "metadata": {},
     "output_type": "display_data"
    },
    {
     "data": {
      "application/vnd.jupyter.widget-view+json": {
       "model_id": "4014bd989feb4c46a0efd8479aa91791",
       "version_major": 2,
       "version_minor": 0
      },
      "text/plain": [
       "Deleting unused files from dataset repository:   0%|          | 0/1 [00:00<?, ?it/s]"
      ]
     },
     "metadata": {},
     "output_type": "display_data"
    },
    {
     "name": "stderr",
     "output_type": "stream",
     "text": [
      "Pushing split test to the Hub.\n"
     ]
    },
    {
     "data": {
      "application/vnd.jupyter.widget-view+json": {
       "model_id": "af5a70a3c7ea415a9f1ce061bc8dfd09",
       "version_major": 2,
       "version_minor": 0
      },
      "text/plain": [
       "Pushing dataset shards to the dataset hub:   0%|          | 0/1 [00:00<?, ?it/s]"
      ]
     },
     "metadata": {},
     "output_type": "display_data"
    },
    {
     "data": {
      "application/vnd.jupyter.widget-view+json": {
       "model_id": "9dd2481a7fa948ada8adcd4a303de6eb",
       "version_major": 2,
       "version_minor": 0
      },
      "text/plain": [
       "Deleting unused files from dataset repository:   0%|          | 0/1 [00:00<?, ?it/s]"
      ]
     },
     "metadata": {},
     "output_type": "display_data"
    },
    {
     "data": {
      "application/vnd.jupyter.widget-view+json": {
       "model_id": "cc569841a9cf4608a93f372ebb24a807",
       "version_major": 2,
       "version_minor": 0
      },
      "text/plain": [
       "Downloading metadata:   0%|          | 0.00/918 [00:00<?, ?B/s]"
      ]
     },
     "metadata": {},
     "output_type": "display_data"
    }
   ],
   "source": [
    "dss.push_to_hub(\"EvaKlimentova/knots_AF\", private=False)"
   ]
  },
  {
   "cell_type": "code",
   "execution_count": null,
   "id": "23483ea2-2997-461e-a006-8f16f6d088a1",
   "metadata": {},
   "outputs": [],
   "source": []
  }
 ],
 "metadata": {
  "kernelspec": {
   "display_name": "Python [conda env:tmp]",
   "language": "python",
   "name": "conda-env-tmp-py"
  },
  "language_info": {
   "codemirror_mode": {
    "name": "ipython",
    "version": 3
   },
   "file_extension": ".py",
   "mimetype": "text/x-python",
   "name": "python",
   "nbconvert_exporter": "python",
   "pygments_lexer": "ipython3",
   "version": "3.8.15"
  }
 },
 "nbformat": 4,
 "nbformat_minor": 5
}
