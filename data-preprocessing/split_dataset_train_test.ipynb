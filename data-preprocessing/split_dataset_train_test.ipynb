{
 "cells": [
  {
   "cell_type": "code",
   "execution_count": 5,
   "id": "0f59fd7f-98d4-4930-bbcb-f27387963539",
   "metadata": {},
   "outputs": [],
   "source": [
    "from datasets import Dataset\n",
    "import pandas as pd"
   ]
  },
  {
   "cell_type": "code",
   "execution_count": 6,
   "id": "de7bcbbe-c3e3-4cc0-9f25-43bec8b1efd6",
   "metadata": {},
   "outputs": [
    {
     "name": "stdout",
     "output_type": "stream",
     "text": [
      "DatasetDict({\n",
      "    train: Dataset({\n",
      "        features: ['ID', 'latestVersion', 'globalMetricValue', 'uniprotStart', 'uniprotEnd', 'uniprotSequence', 'Length', 'Max Topology', 'Max Freq', 'Knot Core', 'label', 'InterPro', 'Domain architecture'],\n",
      "        num_rows: 164795\n",
      "    })\n",
      "    test: Dataset({\n",
      "        features: ['ID', 'latestVersion', 'globalMetricValue', 'uniprotStart', 'uniprotEnd', 'uniprotSequence', 'Length', 'Max Topology', 'Max Freq', 'Knot Core', 'label', 'InterPro', 'Domain architecture'],\n",
      "        num_rows: 41199\n",
      "    })\n",
      "})\n",
      "{'ID': 'A0A1G7EBT5', 'latestVersion': 4, 'globalMetricValue': 84.0, 'uniprotStart': 1, 'uniprotEnd': 379, 'uniprotSequence': 'MNNVLPLLRRIRNSISFITMCIALGFGVLALALVFFRPNLLTDYPRLAITDKENIKFILSFTIGGVFTLTIFTFTMVMNVLDRSISNYSPRLIPLILREKKHQILLGVTSGTLLYALVMAIVISNSNNEDFPPMAASLAIIMSMANIVLFIYFIHSVSQTIQVNFILYKSFKNTRDNLMKLIYSDLQFISNKEEDVWIDTICFKHCGYLNKIRLQKLIGISEKQGISFKLLKTMGSFVMENEPVLAASAKIDTKSVNSIKRCISIDRVEAIDVFEIGFKHLVEVAVKASSPAINDPGTALTAIDYLTQLFILRHKLPDAKGMKSAKGGVLFFEFVPSTQLAEFCFVEMEAYMGDDPLLMRKLAQSKKSIAQNGNSKKIK', 'Length': 379.0, 'Max Topology': None, 'Max Freq': None, 'Knot Core': None, 'label': 0, 'InterPro': 'IPR018723;', 'Domain architecture': 'PF10011;'}\n"
     ]
    }
   ],
   "source": [
    "df = pd.read_csv(\"families_added_v0.csv.gz\")\n",
    "dss = Dataset.from_pandas(df).train_test_split(test_size=0.2, seed=42, shuffle=True)\n",
    "print(dss)\n",
    "print(dss['train'][0])"
   ]
  },
  {
   "cell_type": "code",
   "execution_count": 7,
   "id": "e17795c8-32d3-487d-9050-ca070f0a4baa",
   "metadata": {},
   "outputs": [
    {
     "data": {
      "application/vnd.jupyter.widget-view+json": {
       "model_id": "3163fa20040e4d5da50f1df9598a0d9f",
       "version_major": 2,
       "version_minor": 0
      },
      "text/plain": [
       "VBox(children=(HTML(value='<center> <img\\nsrc=https://huggingface.co/front/assets/huggingface_logo-noborder.sv…"
      ]
     },
     "metadata": {},
     "output_type": "display_data"
    }
   ],
   "source": [
    "from huggingface_hub import notebook_login\n",
    "\n",
    "notebook_login()"
   ]
  },
  {
   "cell_type": "code",
   "execution_count": 8,
   "id": "9600ffce-2052-4a45-b9a4-915ac7e3e051",
   "metadata": {},
   "outputs": [
    {
     "name": "stderr",
     "output_type": "stream",
     "text": [
      "Pushing split train to the Hub.\n"
     ]
    },
    {
     "data": {
      "application/vnd.jupyter.widget-view+json": {
       "model_id": "cb58737306694840a494c7206916aad7",
       "version_major": 2,
       "version_minor": 0
      },
      "text/plain": [
       "Pushing dataset shards to the dataset hub:   0%|          | 0/1 [00:00<?, ?it/s]"
      ]
     },
     "metadata": {},
     "output_type": "display_data"
    },
    {
     "data": {
      "application/vnd.jupyter.widget-view+json": {
       "model_id": "736b846876e84eb2a42370061ce35ca3",
       "version_major": 2,
       "version_minor": 0
      },
      "text/plain": [
       "Deleting unused files from dataset repository:   0%|          | 0/1 [00:00<?, ?it/s]"
      ]
     },
     "metadata": {},
     "output_type": "display_data"
    },
    {
     "name": "stderr",
     "output_type": "stream",
     "text": [
      "Pushing split test to the Hub.\n"
     ]
    },
    {
     "data": {
      "application/vnd.jupyter.widget-view+json": {
       "model_id": "3d2a97b23ea641bfb8bddb07dc94c5ae",
       "version_major": 2,
       "version_minor": 0
      },
      "text/plain": [
       "Pushing dataset shards to the dataset hub:   0%|          | 0/1 [00:00<?, ?it/s]"
      ]
     },
     "metadata": {},
     "output_type": "display_data"
    },
    {
     "data": {
      "application/vnd.jupyter.widget-view+json": {
       "model_id": "796bca48da284ea598f0539c0996af45",
       "version_major": 2,
       "version_minor": 0
      },
      "text/plain": [
       "Deleting unused files from dataset repository:   0%|          | 0/1 [00:00<?, ?it/s]"
      ]
     },
     "metadata": {},
     "output_type": "display_data"
    },
    {
     "data": {
      "application/vnd.jupyter.widget-view+json": {
       "model_id": "3e9079d4f5b7426583ea14e42d795f38",
       "version_major": 2,
       "version_minor": 0
      },
      "text/plain": [
       "Downloading metadata:   0%|          | 0.00/833 [00:00<?, ?B/s]"
      ]
     },
     "metadata": {},
     "output_type": "display_data"
    }
   ],
   "source": [
    "dss.push_to_hub(\"EvaKlimentova/knots_AF\", private=False)"
   ]
  },
  {
   "cell_type": "code",
   "execution_count": null,
   "id": "23483ea2-2997-461e-a006-8f16f6d088a1",
   "metadata": {},
   "outputs": [],
   "source": []
  }
 ],
 "metadata": {
  "kernelspec": {
   "display_name": "Python [conda env:transformers]",
   "language": "python",
   "name": "conda-env-transformers-py"
  },
  "language_info": {
   "codemirror_mode": {
    "name": "ipython",
    "version": 3
   },
   "file_extension": ".py",
   "mimetype": "text/x-python",
   "name": "python",
   "nbconvert_exporter": "python",
   "pygments_lexer": "ipython3",
   "version": "3.8.15"
  }
 },
 "nbformat": 4,
 "nbformat_minor": 5
}
