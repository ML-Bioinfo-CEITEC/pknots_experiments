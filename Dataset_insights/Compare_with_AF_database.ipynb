{
 "cells": [
  {
   "cell_type": "code",
   "execution_count": 1,
   "id": "eede0e71-f505-4761-8d73-ef7e6e09d32e",
   "metadata": {},
   "outputs": [],
   "source": [
    "import pandas as pd\n",
    "from datasets import Dataset, load_dataset\n",
    "from tqdm import tqdm"
   ]
  },
  {
   "cell_type": "code",
   "execution_count": 2,
   "id": "416bd867-cff9-4ba8-ac6c-accefbf3623c",
   "metadata": {},
   "outputs": [],
   "source": [
    "tqdm.pandas()"
   ]
  },
  {
   "cell_type": "markdown",
   "source": [
    "## Load your dataset"
   ],
   "metadata": {
    "collapsed": false
   }
  },
  {
   "cell_type": "code",
   "execution_count": 3,
   "outputs": [],
   "source": [
    "# train or test part\n",
    "PART = 'test'"
   ],
   "metadata": {
    "collapsed": false
   }
  },
  {
   "cell_type": "code",
   "execution_count": 4,
   "id": "f259d1d5-6835-4f03-8f8e-78f01bf5b3f7",
   "metadata": {},
   "outputs": [
    {
     "name": "stderr",
     "output_type": "stream",
     "text": [
      "Using custom data configuration EvaKlimentova--knots_AF-cd42605bc53e4fb3\n",
      "Found cached dataset parquet (/home/jovyan/.cache/huggingface/datasets/EvaKlimentova___parquet/EvaKlimentova--knots_AF-cd42605bc53e4fb3/0.0.0/2a3b91fbd88a2c90d1dbbb32b460cf621d31bd5b05b934492fdef7d8d6f236ec)\n"
     ]
    },
    {
     "data": {
      "application/vnd.jupyter.widget-view+json": {
       "model_id": "56af94c42c664f65a68bcc5f9b4a54b9",
       "version_major": 2,
       "version_minor": 0
      },
      "text/plain": [
       "  0%|          | 0/2 [00:00<?, ?it/s]"
      ]
     },
     "metadata": {},
     "output_type": "display_data"
    },
    {
     "name": "stdout",
     "output_type": "stream",
     "text": [
      "(39758, 14)\n"
     ]
    }
   ],
   "source": [
    "dss = load_dataset('EvaKlimentova/knots_AF')\n",
    "dss = dss[PART]\n",
    "dss = dss.filter(lambda x: x['label']==0)\n",
    "df = pd.DataFrame(dss)\n",
    "print(df.shape)"
   ]
  },
  {
   "cell_type": "markdown",
   "source": [
    "## Download structure from AF database based on ID and run topoly"
   ],
   "metadata": {
    "collapsed": false
   }
  },
  {
   "cell_type": "code",
   "execution_count": 5,
   "id": "9969a2d0-2bfe-4d65-bd2f-eec0225d58b3",
   "metadata": {},
   "outputs": [],
   "source": [
    "from topoly import alexander"
   ]
  },
  {
   "cell_type": "code",
   "execution_count": 6,
   "id": "bbe6cb6f-f128-4673-97fb-fd0c65d70c0c",
   "metadata": {},
   "outputs": [],
   "source": [
    "import requests\n",
    "\n",
    "def get_AF_knot(ID):\n",
    "    response = requests.get(f'https://alphafold.ebi.ac.uk/files/AF-{ID}-F1-model_v4.pdb')\n",
    "    if not response.ok or response.text == 'N/A':\n",
    "        return {}\n",
    "    structure = response.text\n",
    "    with open('tmp.pdb', 'w') as f:\n",
    "        f.write(structure)\n",
    "    try:\n",
    "        knot_types = alexander('tmp.pdb')\n",
    "    except:\n",
    "        return {}\n",
    "    return knot_types"
   ]
  },
  {
   "cell_type": "code",
   "execution_count": null,
   "id": "0785f492-2188-471c-ace1-117554a90da1",
   "metadata": {},
   "outputs": [
    {
     "name": "stderr",
     "output_type": "stream",
     "text": [
      "  7%|▋         | 2944/39758 [2:41:55<53:33:25,  5.24s/it]"
     ]
    }
   ],
   "source": [
    "df['AF_knot_prediction'] = df['ID'].progress_apply(get_AF_knot)"
   ]
  },
  {
   "cell_type": "code",
   "execution_count": null,
   "id": "3e2775fc-c8ce-4f3a-b21d-bd10ab16f669",
   "metadata": {},
   "outputs": [],
   "source": [
    "df['AF_knotted'] = df['AF_knot_prediction'].apply(lambda x: 0 if ('0_1' in x.keys() and x['0_1'] > 0.5) else 1)"
   ]
  },
  {
   "cell_type": "markdown",
   "id": "29a4f2ea-71f5-49bd-b1d6-0616a62fd2b4",
   "metadata": {},
   "source": [
    "In the final csv, 'AF_knotted' column represents summarized topoly result: 0 -> quite surely unknotted, 1 -> might be knotted\n",
    "\n",
    "When we get empty result in the 'AF_knot_prediction' column, it means some error occured during the computation (eg. protein structure couldn't be downloaded from AF database, the downloaded structure is somehow corrupted, topoly throwed some error...)\n"
   ]
  },
  {
   "cell_type": "code",
   "execution_count": null,
   "id": "22c75a34-3ba9-4a1a-aa8f-733ff49d3bdf",
   "metadata": {},
   "outputs": [],
   "source": [
    "df"
   ]
  },
  {
   "cell_type": "code",
   "execution_count": null,
   "id": "0c444c8c-58ac-4513-a869-094afb85698f",
   "metadata": {},
   "outputs": [],
   "source": [
    "df.to_csv('AF_recomputed_' + PART + '.csv', index=False)"
   ]
  },
  {
   "cell_type": "code",
   "execution_count": null,
   "id": "20606e12-d381-41af-bf6c-23a6c2fc581e",
   "metadata": {},
   "outputs": [],
   "source": []
  }
 ],
 "metadata": {
  "kernelspec": {
   "display_name": "Python [conda env:transformers]",
   "language": "python",
   "name": "conda-env-transformers-py"
  },
  "language_info": {
   "codemirror_mode": {
    "name": "ipython",
    "version": 3
   },
   "file_extension": ".py",
   "mimetype": "text/x-python",
   "name": "python",
   "nbconvert_exporter": "python",
   "pygments_lexer": "ipython3",
   "version": "3.8.15"
  }
 },
 "nbformat": 4,
 "nbformat_minor": 5
}
