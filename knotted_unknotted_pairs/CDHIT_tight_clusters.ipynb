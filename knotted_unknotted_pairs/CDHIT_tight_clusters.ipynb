{
 "cells": [
  {
   "cell_type": "markdown",
   "id": "69bb974d",
   "metadata": {},
   "source": [
    "## CD-HIT clustering\n",
    "\n",
    "CD-HIT expects data as FASTA format and output them in a specific format (we use `cdhit_reader` to parse it)"
   ]
  },
  {
   "cell_type": "code",
   "execution_count": 5,
   "id": "c942ec85",
   "metadata": {},
   "outputs": [],
   "source": [
    "import pandas as pd\n",
    "from Bio import SeqIO\n",
    "from Bio.Seq import Seq\n",
    "from Bio.SeqRecord import SeqRecord\n",
    "import gzip\n",
    "from random import shuffle"
   ]
  },
  {
   "cell_type": "markdown",
   "id": "0d579df7",
   "metadata": {},
   "source": [
    "## FASTA input"
   ]
  },
  {
   "cell_type": "code",
   "execution_count": 6,
   "id": "3429789b",
   "metadata": {},
   "outputs": [],
   "source": [
    "MINLENGTH = 70\n",
    "MAXLENGTH = 1000\n",
    "# for most proteins uniprotEnd == Length but there are rare exceptions in knotted d.f.\n",
    "\n",
    "knotted = pd.read_csv(\"spout_all_knotted.csv.gz\").query(f\"uniprotEnd >= {MINLENGTH}\").query(f\"uniprotEnd <= {MAXLENGTH}\")\n",
    "unknotted = pd.read_csv(\"spout_all_unknotted.csv.gz\").query(f\"uniprotEnd >= {MINLENGTH}\").query(f\"uniprotEnd <= {MAXLENGTH}\")"
   ]
  },
  {
   "cell_type": "code",
   "execution_count": 3,
   "id": "ce96f6be",
   "metadata": {},
   "outputs": [
    {
     "data": {
      "text/html": [
       "<div>\n",
       "<style scoped>\n",
       "    .dataframe tbody tr th:only-of-type {\n",
       "        vertical-align: middle;\n",
       "    }\n",
       "\n",
       "    .dataframe tbody tr th {\n",
       "        vertical-align: top;\n",
       "    }\n",
       "\n",
       "    .dataframe thead th {\n",
       "        text-align: right;\n",
       "    }\n",
       "</style>\n",
       "<table border=\"1\" class=\"dataframe\">\n",
       "  <thead>\n",
       "    <tr style=\"text-align: right;\">\n",
       "      <th></th>\n",
       "      <th>ID</th>\n",
       "      <th>latestVersion</th>\n",
       "      <th>globalMetricValue</th>\n",
       "      <th>uniprotStart</th>\n",
       "      <th>uniprotEnd</th>\n",
       "      <th>uniprotSequence</th>\n",
       "      <th>Length</th>\n",
       "    </tr>\n",
       "  </thead>\n",
       "  <tbody>\n",
       "    <tr>\n",
       "      <th>0</th>\n",
       "      <td>AF-A0A009NLX4-F1</td>\n",
       "      <td>4</td>\n",
       "      <td>94.56</td>\n",
       "      <td>1</td>\n",
       "      <td>306</td>\n",
       "      <td>MALRHFLTLRDLSTLELNRILERASELKKMQHDNKVYQPFVGKVLG...</td>\n",
       "      <td>306</td>\n",
       "    </tr>\n",
       "    <tr>\n",
       "      <th>1</th>\n",
       "      <td>AF-A0A010QHM8-F1</td>\n",
       "      <td>4</td>\n",
       "      <td>74.75</td>\n",
       "      <td>1</td>\n",
       "      <td>575</td>\n",
       "      <td>MSQLRDEKDNTTLNDSKESTNPKVVVDSVFDTSEKLFLGGIDDGSD...</td>\n",
       "      <td>575</td>\n",
       "    </tr>\n",
       "    <tr>\n",
       "      <th>2</th>\n",
       "      <td>AF-A0A010R445-F1</td>\n",
       "      <td>4</td>\n",
       "      <td>91.31</td>\n",
       "      <td>1</td>\n",
       "      <td>353</td>\n",
       "      <td>MKQTAFRVTRQALNGAQSRAYSQSTGPRHLMSIADLSPAEFATLVR...</td>\n",
       "      <td>353</td>\n",
       "    </tr>\n",
       "    <tr>\n",
       "      <th>3</th>\n",
       "      <td>AF-A0A014C010-F1</td>\n",
       "      <td>4</td>\n",
       "      <td>94.69</td>\n",
       "      <td>1</td>\n",
       "      <td>306</td>\n",
       "      <td>MALRHFLTLRDLSTLELNRVLQRASELKKMQQSNKVYQPFVGKVLG...</td>\n",
       "      <td>306</td>\n",
       "    </tr>\n",
       "    <tr>\n",
       "      <th>4</th>\n",
       "      <td>AF-A0A014CD17-F1</td>\n",
       "      <td>4</td>\n",
       "      <td>94.38</td>\n",
       "      <td>1</td>\n",
       "      <td>306</td>\n",
       "      <td>MALRHFLTLRDLSTLELNRVLQRASELKKMQQSNKVYQPFVGKVLG...</td>\n",
       "      <td>306</td>\n",
       "    </tr>\n",
       "    <tr>\n",
       "      <th>...</th>\n",
       "      <td>...</td>\n",
       "      <td>...</td>\n",
       "      <td>...</td>\n",
       "      <td>...</td>\n",
       "      <td>...</td>\n",
       "      <td>...</td>\n",
       "      <td>...</td>\n",
       "    </tr>\n",
       "    <tr>\n",
       "      <th>331047</th>\n",
       "      <td>AF-X5X2N4-F1</td>\n",
       "      <td>4</td>\n",
       "      <td>76.69</td>\n",
       "      <td>1</td>\n",
       "      <td>632</td>\n",
       "      <td>MAGPGDNTRNKSKTGSEADSFKRAVTVCMRAIAGDKELEVGFAKDR...</td>\n",
       "      <td>632</td>\n",
       "    </tr>\n",
       "    <tr>\n",
       "      <th>331048</th>\n",
       "      <td>AF-X6E033-F1</td>\n",
       "      <td>4</td>\n",
       "      <td>90.69</td>\n",
       "      <td>1</td>\n",
       "      <td>492</td>\n",
       "      <td>MRNYRGLVHAVGGFAGDRSGNFAVLFGFAASVLALAAGFSVNITQL...</td>\n",
       "      <td>492</td>\n",
       "    </tr>\n",
       "    <tr>\n",
       "      <th>331049</th>\n",
       "      <td>AF-X6M7S0-F1</td>\n",
       "      <td>4</td>\n",
       "      <td>90.56</td>\n",
       "      <td>1</td>\n",
       "      <td>355</td>\n",
       "      <td>MSFFKRKIPQLFWNQLRNVSSTRTTKHVLKISDLSQKELRDVLTFA...</td>\n",
       "      <td>355</td>\n",
       "    </tr>\n",
       "    <tr>\n",
       "      <th>331050</th>\n",
       "      <td>AF-X7ZDJ7-F1</td>\n",
       "      <td>4</td>\n",
       "      <td>76.44</td>\n",
       "      <td>1</td>\n",
       "      <td>708</td>\n",
       "      <td>MGRHSLPDPEDSADEPPDEYAAEQQDWADQIADQPGGGRHSEVGYP...</td>\n",
       "      <td>708</td>\n",
       "    </tr>\n",
       "    <tr>\n",
       "      <th>331051</th>\n",
       "      <td>AF-X8AC99-F1</td>\n",
       "      <td>4</td>\n",
       "      <td>75.25</td>\n",
       "      <td>1</td>\n",
       "      <td>466</td>\n",
       "      <td>MLAELAPTVALAAALCPDGEPRTATADGSLEMARGTSRIADPPAWF...</td>\n",
       "      <td>466</td>\n",
       "    </tr>\n",
       "  </tbody>\n",
       "</table>\n",
       "<p>309012 rows × 7 columns</p>\n",
       "</div>"
      ],
      "text/plain": [
       "                      ID  latestVersion  globalMetricValue  uniprotStart  \\\n",
       "0       AF-A0A009NLX4-F1              4              94.56             1   \n",
       "1       AF-A0A010QHM8-F1              4              74.75             1   \n",
       "2       AF-A0A010R445-F1              4              91.31             1   \n",
       "3       AF-A0A014C010-F1              4              94.69             1   \n",
       "4       AF-A0A014CD17-F1              4              94.38             1   \n",
       "...                  ...            ...                ...           ...   \n",
       "331047      AF-X5X2N4-F1              4              76.69             1   \n",
       "331048      AF-X6E033-F1              4              90.69             1   \n",
       "331049      AF-X6M7S0-F1              4              90.56             1   \n",
       "331050      AF-X7ZDJ7-F1              4              76.44             1   \n",
       "331051      AF-X8AC99-F1              4              75.25             1   \n",
       "\n",
       "        uniprotEnd                                    uniprotSequence  Length  \n",
       "0              306  MALRHFLTLRDLSTLELNRILERASELKKMQHDNKVYQPFVGKVLG...     306  \n",
       "1              575  MSQLRDEKDNTTLNDSKESTNPKVVVDSVFDTSEKLFLGGIDDGSD...     575  \n",
       "2              353  MKQTAFRVTRQALNGAQSRAYSQSTGPRHLMSIADLSPAEFATLVR...     353  \n",
       "3              306  MALRHFLTLRDLSTLELNRVLQRASELKKMQQSNKVYQPFVGKVLG...     306  \n",
       "4              306  MALRHFLTLRDLSTLELNRVLQRASELKKMQQSNKVYQPFVGKVLG...     306  \n",
       "...            ...                                                ...     ...  \n",
       "331047         632  MAGPGDNTRNKSKTGSEADSFKRAVTVCMRAIAGDKELEVGFAKDR...     632  \n",
       "331048         492  MRNYRGLVHAVGGFAGDRSGNFAVLFGFAASVLALAAGFSVNITQL...     492  \n",
       "331049         355  MSFFKRKIPQLFWNQLRNVSSTRTTKHVLKISDLSQKELRDVLTFA...     355  \n",
       "331050         708  MGRHSLPDPEDSADEPPDEYAAEQQDWADQIADQPGGGRHSEVGYP...     708  \n",
       "331051         466  MLAELAPTVALAAALCPDGEPRTATADGSLEMARGTSRIADPPAWF...     466  \n",
       "\n",
       "[309012 rows x 7 columns]"
      ]
     },
     "execution_count": 3,
     "metadata": {},
     "output_type": "execute_result"
    }
   ],
   "source": [
    "unknotted"
   ]
  },
  {
   "cell_type": "code",
   "execution_count": 4,
   "id": "41faf364",
   "metadata": {},
   "outputs": [],
   "source": [
    "knotted_records = [SeqRecord(Seq(seq), id=ID, description=\"knotted\") for seq, ID in zip(knotted['uniprotSequence'], knotted['ID'])]\n",
    "unknotted_records = [SeqRecord(Seq(seq), id=ID, description=\"unknotted\") for seq, ID in zip(unknotted['uniprotSequence'], unknotted['ID'])]"
   ]
  },
  {
   "cell_type": "code",
   "execution_count": 5,
   "id": "e5c00157",
   "metadata": {},
   "outputs": [
    {
     "data": {
      "text/plain": [
       "759683"
      ]
     },
     "execution_count": 5,
     "metadata": {},
     "output_type": "execute_result"
    }
   ],
   "source": [
    "import random\n",
    "\n",
    "records = knotted_records + unknotted_records\n",
    "shuffle(records)\n",
    "\n",
    "SeqIO.write(records, \"all.fasta\", \"fasta\")"
   ]
  },
  {
   "cell_type": "markdown",
   "id": "f950191e",
   "metadata": {},
   "source": [
    "## 2) CD-HIT"
   ]
  },
  {
   "cell_type": "code",
   "execution_count": null,
   "id": "1fd53c97",
   "metadata": {},
   "outputs": [],
   "source": [
    "# Takes long time, better run it in the terminal\n",
    "#!cd-hit -i all.fasta -o tight_clusters -c 0.97 -s 0.95 -G 0 -aS 0.9 -T 0\n",
    "# CD-HIT version 4.8.1 (built on Aug 20 2021)"
   ]
  },
  {
   "cell_type": "markdown",
   "id": "335f58f7",
   "metadata": {},
   "source": [
    "## 3) Parsing CD-HIT output"
   ]
  },
  {
   "cell_type": "code",
   "execution_count": 1,
   "id": "74c9233d",
   "metadata": {},
   "outputs": [],
   "source": [
    "from cdhit_reader import read_cdhit"
   ]
  },
  {
   "cell_type": "code",
   "execution_count": 2,
   "id": "83e0ad8d",
   "metadata": {},
   "outputs": [],
   "source": [
    "clusters = read_cdhit(\"./tight_clusters.clstr\").read_items()"
   ]
  },
  {
   "cell_type": "code",
   "execution_count": 7,
   "id": "2726a998",
   "metadata": {},
   "outputs": [],
   "source": [
    "knotted = knotted.set_index(\"ID\")\n",
    "unknotted = unknotted.set_index(\"ID\")"
   ]
  },
  {
   "cell_type": "markdown",
   "id": "f01f4a3a",
   "metadata": {},
   "source": [
    "##  4) Search for non-trivial cluster (= both knotted and unknotted proteins), minimal edit distance\n",
    "\n",
    "Work in progress"
   ]
  },
  {
   "cell_type": "code",
   "execution_count": 8,
   "id": "48eae4f4",
   "metadata": {},
   "outputs": [],
   "source": [
    "nontrivial = [cl for cl in clusters if len(cl.sequences)>1]"
   ]
  },
  {
   "cell_type": "code",
   "execution_count": 9,
   "id": "089fe204",
   "metadata": {},
   "outputs": [
    {
     "data": {
      "text/plain": [
       "97327"
      ]
     },
     "execution_count": 9,
     "metadata": {},
     "output_type": "execute_result"
    }
   ],
   "source": [
    "len(nontrivial)"
   ]
  },
  {
   "cell_type": "code",
   "execution_count": 10,
   "id": "1514fd40",
   "metadata": {},
   "outputs": [],
   "source": [
    "from tqdm.notebook import tqdm"
   ]
  },
  {
   "cell_type": "code",
   "execution_count": 31,
   "id": "d97f668a",
   "metadata": {},
   "outputs": [
    {
     "data": {
      "application/vnd.jupyter.widget-view+json": {
       "model_id": "a2d76b53167c4ff6a2dd05b712ecc00e",
       "version_major": 2,
       "version_minor": 0
      },
      "text/plain": [
       "  0%|          | 0/97327 [00:00<?, ?it/s]"
      ]
     },
     "metadata": {},
     "output_type": "display_data"
    }
   ],
   "source": [
    "both_knotted_and_unknotted = []\n",
    "\n",
    "for cl in tqdm(nontrivial):\n",
    "    if not (all([x.name in knotted.index for x in cl.sequences]) or all([x.name in unknotted.index for x in cl.sequences])):\n",
    "        both_knotted_and_unknotted.append(cl)"
   ]
  },
  {
   "cell_type": "code",
   "execution_count": 40,
   "id": "dc182112",
   "metadata": {},
   "outputs": [
    {
     "data": {
      "text/plain": [
       "2136"
      ]
     },
     "execution_count": 40,
     "metadata": {},
     "output_type": "execute_result"
    }
   ],
   "source": [
    "import pickle\n",
    "\n",
    "with open(\"both_knotted_and_unknotted.pkl\", \"wb\") as fw:\n",
    "    pickle.dump(both_knotted_and_unknotted, fw)\n",
    "\n",
    "len(both_knotted_and_unknotted)"
   ]
  },
  {
   "cell_type": "code",
   "execution_count": 35,
   "id": "6b01e2a6",
   "metadata": {},
   "outputs": [
    {
     "data": {
      "text/plain": [
       "[('AF-A0A5D2WZ99-F1', True),\n",
       " ('AF-A0A5D2WXX5-F1', True),\n",
       " ('AF-A0A5D2WXV2-F1', False)]"
      ]
     },
     "execution_count": 35,
     "metadata": {},
     "output_type": "execute_result"
    }
   ],
   "source": [
    "[(x.name, x.name in knotted.index) for x in both_knotted_and_unknotted[2].sequences]"
   ]
  },
  {
   "cell_type": "code",
   "execution_count": 37,
   "id": "32318e31",
   "metadata": {},
   "outputs": [
    {
     "data": {
      "text/plain": [
       "[ClusterSequence(id=0, name=AF-A0A5D2WZ99-F1, length=996, identity=100.0, is_ref=True, seqtype=SeqType.PROTEIN, strand=Strand.NONE),\n",
       " ClusterSequence(id=1, name=AF-A0A5D2WXX5-F1, length=980, identity=98.39, is_ref=False, seqtype=SeqType.PROTEIN, strand=Strand.NONE),\n",
       " ClusterSequence(id=2, name=AF-A0A5D2WXV2-F1, length=955, identity=100.0, is_ref=False, seqtype=SeqType.PROTEIN, strand=Strand.NONE)]"
      ]
     },
     "execution_count": 37,
     "metadata": {},
     "output_type": "execute_result"
    }
   ],
   "source": [
    "both_knotted_and_unknotted[2].sequences"
   ]
  },
  {
   "cell_type": "code",
   "execution_count": 38,
   "id": "f971372f",
   "metadata": {},
   "outputs": [
    {
     "data": {
      "text/plain": [
       "'MQRRKHGPKVQTKFEIQQLETEEQSSEAEASNIYNMFTDSLLLILEELVSFCNLSCSIFSSGSDIEDKVLPSSVRGKLGGPSQRRLSISLTTAVLQATISVKAVAYIYAWCAQHRTGILLNSAFTAVWKFFCNTITSPTCNSESEAEVRIAAYEALAPALKALVSVLAPQILVLFMENSKSLQPAIEGEPWLDTLVLSFLQNINNLLAVGFMVRTRRAVLLNWKWVILESLLSIPSYSFGSKLQQEDGSFFFSDAALINIFTDTVESLENAGEGSVLPILRSIRLALELFASRRLSLVVSRFTGVDSQMIWRLVHSSWILHSSCNKRRVAHIAALLSSVLHPSLFSDGDMHDADNEPGPLKWFVEKLLEEGTKSPRTIRLAALHLTGLLLSNPTTIKYYIKELKLLTLYGSVAFDEDFEAELSENDDARTEVTLLTKIQDSELTEAFINTELYARVCVANLFYKLADLTNRSGSSTGDKASQSALESGKLFLLELLDTVLNDKELAKELYKKYSAIHRRKIRAWQMICVLSQFVDDDIVEEVTQCLQIALYRNNLPSVRQYLETFAINIYMKFPSLVAEQLVPLLRDYDMRPQALSSYVFIAANVILHASKDIQLRHLDELLPPILPLLTSHHHSLRGFTQVLLHQVLRNFFPSLDSKSSEIIPLEKRCFEDLKLYLAKNSDCMRLRASMEGYLDAYNPKTCVTPAGIFVSRVEEIGFECVPTSLMEQVINFLNDVREDLRCSMAKDIVTIKNESLNMAAGSGSTEEVSSACEEKLELPKDAHLDFQKKITFSKHEKPDLGSSSLLCKGEVYKQLLEMEKEDDLLDQLWKSRSLAMERIRGNRQHIILVASLIDRIPNLAGLARTCEVFKTQGLAVADAKIVQDKQFQLISVTAEKWVPVIEVPVNSVKQFLEKKKREGFSILGLEQTANSVPLDQYIYPKKTVLVLGREKEGIPVDIIHVLDACIEIPQLGVVRSLNVHVSGAIALWEYTRQQRL'"
      ]
     },
     "execution_count": 38,
     "metadata": {},
     "output_type": "execute_result"
    }
   ],
   "source": [
    "knotted.loc['AF-A0A5D2WZ99-F1'].uniprotSequence"
   ]
  },
  {
   "cell_type": "code",
   "execution_count": 22,
   "id": "7d0e79fc",
   "metadata": {},
   "outputs": [
    {
     "data": {
      "text/plain": [
       "'MRKGMAPLRGQKTGLQNVFYVCLSISVAYSYNIDLEHPLVFRGPNNSFFGYSVLEHYHDNTRWVIVGAPRANSTYSSSVHSPGAVYKCRVHSNPERRCTEMDLGRGNKPRESCGKTCQGDRDDEWMGVSLARQDRADGKILACAHRWKNVYYDSEHILPHGYCSIIPPTLQGRTKPLIPCYEGKENTKISRILRTDLLCMICLKSKLVVMGAPGSYYWTGTIKVYNLTSDSFYSPIKENIDSHRYSYLGYAVTAGHFSSPNVIDVAAGAPQHNGVGKVYIFKIDDGSLVKSFQDSGKMMGSYFGSSLCAVDLNQDGLSDLLVGAPMHSQLRDEGQVSVYLSKGNGVMEEQDVLTGDSSFNAHFGECITAIGDIDDDGYQDVAIGAPKEDDYAGAVYIYHGDPAGIISKYSMKLSGRSVNPGLQMFGQSISGNVDMDGNGYADVTIGAFMADSVVLLRSRPVITVDVSIFLPVSINISVPQCHEGHQNINCFNVSVCMRFRGRQLPGQIELLYNLTADVDKRQKSQPARVYFTQSGSQISQMSRQLSLDINREECQRYTAYVKKDVKEVFTAITFEVAYSLGKHVLTGHQERDLPALTPVLRWGKGKQIAVRNETWFEKNCLSDDCAADLRLHGKMLLSGKPHLALGGVKNVSLNLTISNAGDDAYDTNIYFNFSREVFYINFWQKEEKGISCGLVDLDFLKCSVGFPFMRAQTKYHFAVIFDTSQLSGENDTLQFLVQAKSVVTPSSFVYGNSIDASRFVQLEDMECNFQPLNLTFQAINKGPSRLPGSTVDIRIPNRLAGSGADMFHIIETQVADGRGNCTPHRNPTPCTIPQDRESIFHTIFAFFTKSGRKVLDCDRPGRACMTISCSLGPQLTEEALSIDIKLLLNTEILKRDSSSVIQFVTRGNVQVNDRTLEVPNGLPEDISLVFEALHSQEPRGYVVGWIIAISLLVGILIFLLLAVLLWKMGFFRRRYREIIEAEKNRKDSDESWDWMEKNH'"
      ]
     },
     "execution_count": 22,
     "metadata": {},
     "output_type": "execute_result"
    }
   ],
   "source": [
    "unknotted.loc['AF-A0A671YMH3-F1'].uniprotSequence"
   ]
  },
  {
   "cell_type": "code",
   "execution_count": 23,
   "id": "e193f139",
   "metadata": {},
   "outputs": [
    {
     "data": {
      "text/plain": [
       "24"
      ]
     },
     "execution_count": 23,
     "metadata": {},
     "output_type": "execute_result"
    }
   ],
   "source": [
    "def edit_distance(s1, s2):\n",
    "    # source: https://stackoverflow.com/questions/2460177/edit-distance-in-python\n",
    "    \n",
    "    m=len(s1)+1\n",
    "    n=len(s2)+1\n",
    "\n",
    "    tbl = {}\n",
    "    for i in range(m): tbl[i,0]=i\n",
    "    for j in range(n): tbl[0,j]=j\n",
    "    for i in range(1, m):\n",
    "        for j in range(1, n):\n",
    "            cost = 0 if s1[i-1] == s2[j-1] else 1\n",
    "            tbl[i,j] = min(tbl[i, j-1]+1, tbl[i-1, j]+1, tbl[i-1, j-1]+cost)\n",
    "\n",
    "    return tbl[i,j]\n",
    "\n",
    "edit_distance(knotted.loc['AF-A0A671YRA8-F1'].uniprotSequence, unknotted.loc['AF-A0A671YMH3-F1'].uniprotSequence)"
   ]
  },
  {
   "cell_type": "code",
   "execution_count": null,
   "id": "b4f4e894",
   "metadata": {},
   "outputs": [],
   "source": []
  }
 ],
 "metadata": {
  "kernelspec": {
   "display_name": "Python 3 (ipykernel)",
   "language": "python",
   "name": "python3"
  },
  "language_info": {
   "codemirror_mode": {
    "name": "ipython",
    "version": 3
   },
   "file_extension": ".py",
   "mimetype": "text/x-python",
   "name": "python",
   "nbconvert_exporter": "python",
   "pygments_lexer": "ipython3",
   "version": "3.9.5"
  }
 },
 "nbformat": 4,
 "nbformat_minor": 5
}
