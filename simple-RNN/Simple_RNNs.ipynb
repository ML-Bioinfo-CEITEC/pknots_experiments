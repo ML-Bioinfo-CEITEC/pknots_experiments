{
 "cells": [
  {
   "cell_type": "code",
   "execution_count": null,
   "metadata": {
    "id": "_0L0XoBwzyID"
   },
   "outputs": [],
   "source": [
    "import tensorflow as tf\n",
    "from tensorflow.keras import Sequential\n",
    "from tensorflow.keras.layers import Dense, Conv1D, BatchNormalization, MaxPooling1D, LSTM, Bidirectional\n",
    "from sklearn.model_selection import train_test_split\n",
    "from typing import Tuple\n",
    "import numpy as np\n",
    "import pandas as pd\n",
    "import gc\n",
    "\n",
    "tf.config.run_functions_eagerly(True)\n",
    "tf.random.set_seed(10)"
   ]
  },
  {
   "cell_type": "markdown",
   "metadata": {},
   "source": [
    "The input csv file contains embeddings from ProtBert and labels (additional seq column is dropped)."
   ]
  },
  {
   "cell_type": "code",
   "execution_count": null,
   "metadata": {
    "id": "wPtKt_Zw1cNa"
   },
   "outputs": [],
   "source": [
    "df_embed = pd.read_csv('embeddings.csv', header=0).drop(columns=['seq'])"
   ]
  },
  {
   "cell_type": "code",
   "execution_count": null,
   "metadata": {
    "id": "wizPXNnV-96I"
   },
   "outputs": [],
   "source": [
    "df_embed.head(10)"
   ]
  },
  {
   "cell_type": "code",
   "execution_count": null,
   "metadata": {
    "id": "tbNG8OWy9NAh"
   },
   "outputs": [],
   "source": [
    "def make_train_test_dataset(df: pd.DataFrame, test_size: float = 0.2) -> Tuple[np.ndarray, np.ndarray,\n",
    "                                                                               np.ndarray, np.ndarray]:\n",
    "    df_train, df_test = train_test_split(df, test_size=test_size, random_state=42)\n",
    "\n",
    "    train_labels = df_train.pop('label').to_numpy()\n",
    "    test_labels = df_test.pop('label').to_numpy()\n",
    "\n",
    "    X_train = np.expand_dims(df_train, axis=1)\n",
    "    y_train = np.expand_dims(train_labels, axis=1)\n",
    "\n",
    "    X_test = np.expand_dims(df_test, axis=1)\n",
    "    y_test = np.expand_dims(test_labels, axis=1)\n",
    "\n",
    "    return X_train, y_train, X_test, y_test"
   ]
  },
  {
   "cell_type": "code",
   "execution_count": null,
   "metadata": {
    "colab": {
     "base_uri": "https://localhost:8080/"
    },
    "id": "-Qy38Hih3gny",
    "outputId": "2547c2f6-d24a-4376-c807-eda9b76af166"
   },
   "outputs": [],
   "source": [
    "X_train, y_train, X_test, y_test = make_train_test_dataset(df_embed)\n",
    "del(df_embed)\n",
    "gc.collect()"
   ]
  },
  {
   "cell_type": "code",
   "execution_count": null,
   "metadata": {
    "id": "OrSPMz5Y3rsC"
   },
   "outputs": [],
   "source": [
    "model_1 = Sequential([\n",
    "        Bidirectional(LSTM(64, dropout=0.3, recurrent_dropout=0.3, return_sequences=True), input_shape=(1, 1024)),\n",
    "        Bidirectional(LSTM(32, dropout=0.2, recurrent_dropout=0.2)),\n",
    "        Dense(32, activation='relu'),\n",
    "        Dense(1, activation='sigmoid')])"
   ]
  },
  {
   "cell_type": "code",
   "execution_count": null,
   "metadata": {
    "id": "f3Qe7Hv9ozcG"
   },
   "outputs": [],
   "source": [
    "model_2 = Sequential([\n",
    "        Conv1D(64, kernel_size=10, padding='same', activation='relu', input_shape=(1, 1024)),\n",
    "        BatchNormalization(),\n",
    "        MaxPooling1D(padding='same'),\n",
    "        LSTM(64, dropout=0.3, recurrent_dropout=0.3),\n",
    "        Dense(1, activation='sigmoid')])"
   ]
  },
  {
   "cell_type": "code",
   "execution_count": null,
   "metadata": {
    "colab": {
     "base_uri": "https://localhost:8080/"
    },
    "id": "Kdh_hlJz4-N7",
    "outputId": "ad89ab0c-737c-4ccc-9d71-633c4f02396f"
   },
   "outputs": [],
   "source": [
    "model = model_1\n",
    "\n",
    "model.compile(\n",
    "    optimizer='adam',\n",
    "    loss='binary_crossentropy',\n",
    "    metrics=['accuracy']\n",
    ")\n",
    "\n",
    "model.summary()"
   ]
  },
  {
   "cell_type": "code",
   "execution_count": null,
   "metadata": {
    "colab": {
     "base_uri": "https://localhost:8080/"
    },
    "id": "Ph_t27us4_S3",
    "outputId": "8b9cb70a-ed7c-476d-813c-29d7e5f239eb"
   },
   "outputs": [],
   "source": [
    "model.fit(\n",
    "    X_train,\n",
    "    y_train,\n",
    "    batch_size=32,\n",
    "    epochs=10,\n",
    "    validation_split=0.3\n",
    ")\n",
    "model.save(\"simple_rnn_model.h5\", save_format='h5')"
   ]
  },
  {
   "cell_type": "code",
   "execution_count": null,
   "metadata": {
    "colab": {
     "base_uri": "https://localhost:8080/"
    },
    "id": "vFHlOAaD5NA_",
    "outputId": "c7aa3623-5bc0-479b-de09-fa828849d5f2"
   },
   "outputs": [],
   "source": [
    "score = model.evaluate(X_test, y_test, verbose=0)\n",
    "\n",
    "print('Test loss:', score[0]) \n",
    "print('Test accuracy:', score[1])"
   ]
  },
  {
   "cell_type": "code",
   "execution_count": null,
   "metadata": {},
   "outputs": [],
   "source": []
  }
 ],
 "metadata": {
  "accelerator": "GPU",
  "colab": {
   "provenance": []
  },
  "gpuClass": "standard",
  "kernelspec": {
   "display_name": "Python 3 (ipykernel)",
   "language": "python",
   "name": "python3"
  },
  "language_info": {
   "codemirror_mode": {
    "name": "ipython",
    "version": 3
   },
   "file_extension": ".py",
   "mimetype": "text/x-python",
   "name": "python",
   "nbconvert_exporter": "python",
   "pygments_lexer": "ipython3",
   "version": "3.10.6"
  }
 },
 "nbformat": 4,
 "nbformat_minor": 4
}
