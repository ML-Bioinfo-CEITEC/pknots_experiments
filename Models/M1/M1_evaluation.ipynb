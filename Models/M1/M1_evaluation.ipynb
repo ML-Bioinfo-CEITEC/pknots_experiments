{
 "cells": [
  {
   "cell_type": "code",
   "execution_count": 1,
   "id": "c0430d75-ce68-4ad4-9e38-febfcd63034c",
   "metadata": {},
   "outputs": [
    {
     "name": "stderr",
     "output_type": "stream",
     "text": [
      "2023-03-20 10:52:51.125282: I tensorflow/core/platform/cpu_feature_guard.cc:193] This TensorFlow binary is optimized with oneAPI Deep Neural Network Library (oneDNN) to use the following CPU instructions in performance-critical operations:  SSE4.1 SSE4.2 AVX AVX2 FMA\n",
      "To enable them in other operations, rebuild TensorFlow with the appropriate compiler flags.\n"
     ]
    }
   ],
   "source": [
    "import transformers, datasets, torch\n",
    "import torch\n",
    "import numpy as np\n",
    "import pandas as pd\n",
    "from transformers import AutoModelForSequenceClassification, AutoTokenizer, DataCollator, Trainer, TrainingArguments\n",
    "from datasets import Dataset, load_metric, load_dataset, Features, Value\n",
    "from sklearn.metrics import accuracy_score, precision_recall_fscore_support, recall_score"
   ]
  },
  {
   "cell_type": "markdown",
   "id": "3cf8cd6b-0e8e-449a-ae6f-d9544fddf7d0",
   "metadata": {},
   "source": [
    "# Dataset info"
   ]
  },
  {
   "cell_type": "code",
   "execution_count": 2,
   "id": "de8f1266-4bc6-4702-8217-2f00a9ab8194",
   "metadata": {},
   "outputs": [
    {
     "name": "stderr",
     "output_type": "stream",
     "text": [
      "Using custom data configuration EvaKlimentova--knots_AF-293560de9ceccb3f\n",
      "Found cached dataset parquet (/home/jovyan/.cache/huggingface/datasets/EvaKlimentova___parquet/EvaKlimentova--knots_AF-293560de9ceccb3f/0.0.0/2a3b91fbd88a2c90d1dbbb32b460cf621d31bd5b05b934492fdef7d8d6f236ec)\n"
     ]
    },
    {
     "data": {
      "application/vnd.jupyter.widget-view+json": {
       "model_id": "b4ed93017a2a440d8999fc7e7e7d6156",
       "version_major": 2,
       "version_minor": 0
      },
      "text/plain": [
       "  0%|          | 0/2 [00:00<?, ?it/s]"
      ]
     },
     "metadata": {},
     "output_type": "display_data"
    },
    {
     "name": "stdout",
     "output_type": "stream",
     "text": [
      "DatasetDict({\n",
      "    test: Dataset({\n",
      "        features: ['ID', 'latestVersion', 'globalMetricValue', 'uniprotStart', 'uniprotEnd', 'uniprotSequence', 'Length', 'Domain_architecture', 'InterPro', 'Max_Topology', 'Max Freq', 'Knot Core', 'label', 'FamilyName'],\n",
      "        num_rows: 39412\n",
      "    })\n",
      "    train: Dataset({\n",
      "        features: ['ID', 'latestVersion', 'globalMetricValue', 'uniprotStart', 'uniprotEnd', 'uniprotSequence', 'Length', 'Domain_architecture', 'InterPro', 'Max_Topology', 'Max Freq', 'Knot Core', 'label', 'FamilyName'],\n",
      "        num_rows: 157644\n",
      "    })\n",
      "})\n"
     ]
    }
   ],
   "source": [
    "dss = load_dataset('EvaKlimentova/knots_AF')\n",
    "print(dss)"
   ]
  },
  {
   "cell_type": "code",
   "execution_count": 4,
   "id": "ffcb7a86-2b0a-43d5-8232-f5c2fa7b0b19",
   "metadata": {},
   "outputs": [
    {
     "name": "stderr",
     "output_type": "stream",
     "text": [
      "Loading cached processed dataset at /home/jovyan/.cache/huggingface/datasets/EvaKlimentova___parquet/EvaKlimentova--knots_AF-293560de9ceccb3f/0.0.0/2a3b91fbd88a2c90d1dbbb32b460cf621d31bd5b05b934492fdef7d8d6f236ec/cache-4c60d0b73ff9532e.arrow\n",
      "Loading cached processed dataset at /home/jovyan/.cache/huggingface/datasets/EvaKlimentova___parquet/EvaKlimentova--knots_AF-293560de9ceccb3f/0.0.0/2a3b91fbd88a2c90d1dbbb32b460cf621d31bd5b05b934492fdef7d8d6f236ec/cache-07d32d2becbfd561.arrow\n"
     ]
    },
    {
     "name": "stdout",
     "output_type": "stream",
     "text": [
      "Dataset({\n",
      "    features: ['ID', 'latestVersion', 'globalMetricValue', 'uniprotStart', 'uniprotEnd', 'uniprotSequence', 'Length', 'Domain_architecture', 'InterPro', 'Max_Topology', 'Max Freq', 'Knot Core', 'label', 'FamilyName'],\n",
      "    num_rows: 78810\n",
      "})\n",
      "Dataset({\n",
      "    features: ['ID', 'latestVersion', 'globalMetricValue', 'uniprotStart', 'uniprotEnd', 'uniprotSequence', 'Length', 'Domain_architecture', 'InterPro', 'Max_Topology', 'Max Freq', 'Knot Core', 'label', 'FamilyName'],\n",
      "    num_rows: 19718\n",
      "})\n"
     ]
    }
   ],
   "source": [
    "print(dss['train'].filter(lambda x: x['label'] == 0))\n",
    "print(dss['test'].filter(lambda x: x['label'] == 0))"
   ]
  },
  {
   "cell_type": "code",
   "execution_count": 5,
   "id": "9b495e4e-d6db-4e12-a9cb-38467dcee95e",
   "metadata": {},
   "outputs": [
    {
     "data": {
      "application/vnd.jupyter.widget-view+json": {
       "model_id": "1c2019c2c4b84f588dc59f9c06ba7f2d",
       "version_major": 2,
       "version_minor": 0
      },
      "text/plain": [
       "  0%|          | 0/158 [00:00<?, ?ba/s]"
      ]
     },
     "metadata": {},
     "output_type": "display_data"
    },
    {
     "name": "stdout",
     "output_type": "stream",
     "text": [
      "Dataset({\n",
      "    features: ['ID', 'latestVersion', 'globalMetricValue', 'uniprotStart', 'uniprotEnd', 'uniprotSequence', 'Length', 'Domain_architecture', 'InterPro', 'Max_Topology', 'Max Freq', 'Knot Core', 'label', 'FamilyName'],\n",
      "    num_rows: 78834\n",
      "})\n"
     ]
    },
    {
     "data": {
      "application/vnd.jupyter.widget-view+json": {
       "model_id": "003c9d2ac5fb44c7a29914b560633835",
       "version_major": 2,
       "version_minor": 0
      },
      "text/plain": [
       "  0%|          | 0/40 [00:00<?, ?ba/s]"
      ]
     },
     "metadata": {},
     "output_type": "display_data"
    },
    {
     "name": "stdout",
     "output_type": "stream",
     "text": [
      "Dataset({\n",
      "    features: ['ID', 'latestVersion', 'globalMetricValue', 'uniprotStart', 'uniprotEnd', 'uniprotSequence', 'Length', 'Domain_architecture', 'InterPro', 'Max_Topology', 'Max Freq', 'Knot Core', 'label', 'FamilyName'],\n",
      "    num_rows: 19694\n",
      "})\n"
     ]
    }
   ],
   "source": [
    "print(dss['train'].filter(lambda x: x['label'] == 1))\n",
    "print(dss['test'].filter(lambda x: x['label'] == 1))"
   ]
  },
  {
   "cell_type": "code",
   "execution_count": 7,
   "id": "95944853-d67c-43ad-893a-e2ed052c9894",
   "metadata": {},
   "outputs": [
    {
     "name": "stderr",
     "output_type": "stream",
     "text": [
      "Loading cached processed dataset at /home/jovyan/.cache/huggingface/datasets/EvaKlimentova___parquet/EvaKlimentova--knots_AF-293560de9ceccb3f/0.0.0/2a3b91fbd88a2c90d1dbbb32b460cf621d31bd5b05b934492fdef7d8d6f236ec/cache-7b6e535b4791517e.arrow\n"
     ]
    },
    {
     "name": "stdout",
     "output_type": "stream",
     "text": [
      "Dataset({\n",
      "    features: ['ID', 'latestVersion', 'globalMetricValue', 'uniprotStart', 'uniprotEnd', 'uniprotSequence', 'Length', 'Domain_architecture', 'InterPro', 'Max_Topology', 'Max Freq', 'Knot Core', 'label', 'FamilyName'],\n",
      "    num_rows: 0\n",
      "})\n"
     ]
    },
    {
     "data": {
      "application/vnd.jupyter.widget-view+json": {
       "model_id": "13f3f305cb574baebb47f217aab71737",
       "version_major": 2,
       "version_minor": 0
      },
      "text/plain": [
       "  0%|          | 0/40 [00:00<?, ?ba/s]"
      ]
     },
     "metadata": {},
     "output_type": "display_data"
    },
    {
     "name": "stdout",
     "output_type": "stream",
     "text": [
      "Dataset({\n",
      "    features: ['ID', 'latestVersion', 'globalMetricValue', 'uniprotStart', 'uniprotEnd', 'uniprotSequence', 'Length', 'Domain_architecture', 'InterPro', 'Max_Topology', 'Max Freq', 'Knot Core', 'label', 'FamilyName'],\n",
      "    num_rows: 0\n",
      "})\n"
     ]
    }
   ],
   "source": [
    "print(dss['train'].filter(lambda x: x['FamilyName'] == 'PGluconate dehydrogenase'))\n",
    "print(dss['test'].filter(lambda x: x['FamilyName'] == 'PGluconate dehydrogenase'))"
   ]
  },
  {
   "cell_type": "markdown",
   "id": "31ba20bf-ba85-49c0-94f7-4d311552f029",
   "metadata": {},
   "source": [
    "# Model evaluation"
   ]
  },
  {
   "cell_type": "code",
   "execution_count": 3,
   "id": "5ce16c9d-93f8-49b3-91ee-69f00ec15a7d",
   "metadata": {},
   "outputs": [],
   "source": [
    "def tokenize_function(s):\n",
    "  seq_split = \" \".join(s['uniprotSequence'])\n",
    "  return tokenizerM1(seq_split)"
   ]
  },
  {
   "cell_type": "code",
   "execution_count": 2,
   "id": "1c9e8521-ce7b-4fdb-99e4-89c10984cefe",
   "metadata": {},
   "outputs": [],
   "source": [
    "tokenizerM1 = AutoTokenizer.from_pretrained(\"roa7n/knots_protbertBFD_alphafold\")\n",
    "modelM1 = AutoModelForSequenceClassification.from_pretrained(\"roa7n/knots_protbertBFD_alphafold\")"
   ]
  },
  {
   "cell_type": "code",
   "execution_count": 6,
   "id": "34b11059-a13a-4813-8288-3b20dbffcf24",
   "metadata": {},
   "outputs": [
    {
     "data": {
      "text/plain": [
       "419933186"
      ]
     },
     "execution_count": 6,
     "metadata": {},
     "output_type": "execute_result"
    }
   ],
   "source": [
    "modelM1.num_parameters()"
   ]
  },
  {
   "cell_type": "code",
   "execution_count": 17,
   "id": "d8d11bcd-023e-4a1b-90db-ffbf4288cf82",
   "metadata": {},
   "outputs": [
    {
     "data": {
      "text/plain": [
       "419933186"
      ]
     },
     "execution_count": 17,
     "metadata": {},
     "output_type": "execute_result"
    }
   ],
   "source": [
    "model_parameters = filter(lambda p: p.requires_grad, modelM1.parameters())\n",
    "params = sum([np.prod(p.size()) for p in model_parameters])\n",
    "params"
   ]
  },
  {
   "cell_type": "code",
   "execution_count": 5,
   "id": "a3686f0f-b6f1-44a5-81b7-41333fd890e2",
   "metadata": {},
   "outputs": [],
   "source": [
    "family_mapping = {\n",
    "'IPR029026': 'SPOUT',\n",
    "'IPR004837': 'Sodium/calcium exchanger',\n",
    "'IPR036398': 'Carbonic anhydrase',\n",
    "'IPR036901': 'ATCase/OTCase',\n",
    "'IPR006131': 'ATCase/OTCase',\n",
    "'IPR032695': 'Integrin alpha',\n",
    "'IPR013649': 'Integrin alpha',\n",
    "'IPR004813': 'OPT Oligopeptide transporter',\n",
    "'IPR013694': 'ITIH',\n",
    "'IPR018723': 'DUF2254 membrane',\n",
    "'IPR002035': 'ITIH',\n",
    "'IPR022628': 'AdoMet synthase',\n",
    "'IPR002133': 'AdoMet synthase',\n",
    "'IPR022636': 'AdoMet synthase',\n",
    "'IPR003929': 'Calcium-activated potassium channel BK, alpha subunit',\n",
    "'IPR001578': 'UCH',\n",
    "'IPR036959': 'UCH',\n",
    "'IPR006827': 'Lantibiotic dehydratase',\n",
    "'IPR005636': 'TDD',\n",
    "'IPR038459': 'SPOUT',\n",
    "'IPR007209': 'TDD',\n",
    "'IPR022968': 'TDD',\n",
    "'IPR007177': 'TDD',\n",
    "'IPR010793': 'Ribosomal protein L37/S30',\n",
    "'IPR025349': 'DUF4253',\n",
    "'IPR027790': 'AdoMet synthase',\n",
    "'IPR042544': 'AdoMet synthase',\n",
    "'IPR002795': 'AdoMet synthase',\n",
    "'IPR018883': 'Carbonic anhydrase'\n",
    "}"
   ]
  },
  {
   "cell_type": "code",
   "execution_count": 6,
   "id": "4b2be813-6e2e-4b81-9709-96f03201cc8b",
   "metadata": {},
   "outputs": [],
   "source": [
    "def map_family(row):\n",
    "    ipro = row['InterPro']\n",
    "    if pd.isna(ipro):\n",
    "        row['FamilyName'] = ''\n",
    "        return row\n",
    "    ipro = ipro.split(';')\n",
    "    families = set()\n",
    "    for fam in ipro:\n",
    "        if fam in family_mapping.keys():\n",
    "            families.add(family_mapping[fam])\n",
    "    row['FamilyName'] = ','.join(list(families))\n",
    "    return row"
   ]
  },
  {
   "cell_type": "code",
   "execution_count": 7,
   "id": "0ec1e5aa-3243-4309-95aa-bb3b22a5ebf7",
   "metadata": {},
   "outputs": [
    {
     "name": "stderr",
     "output_type": "stream",
     "text": [
      "Loading cached processed dataset at /home/jovyan/.cache/huggingface/datasets/EvaKlimentova___parquet/EvaKlimentova--knots_AF-293560de9ceccb3f/0.0.0/2a3b91fbd88a2c90d1dbbb32b460cf621d31bd5b05b934492fdef7d8d6f236ec/cache-b4031a95253fbe4c.arrow\n"
     ]
    }
   ],
   "source": [
    "test_dss = dss['test'].map(map_family)\n",
    "test_df = pd.DataFrame(test_dss)\n",
    "\n",
    "family_groups = test_df.groupby(\"FamilyName\")"
   ]
  },
  {
   "cell_type": "code",
   "execution_count": 9,
   "id": "6b012a32-852a-46b1-92fa-f95fd651f98a",
   "metadata": {},
   "outputs": [],
   "source": [
    "def compute_metrics(pred):\n",
    "    labels = pred.label_ids\n",
    "    preds = pred.predictions.argmax(-1)\n",
    "    precision, recall, f1, _ = precision_recall_fscore_support(labels, preds, average='binary')\n",
    "    acc = accuracy_score(labels, preds)\n",
    "    specificity=recall_score(labels, preds, pos_label=0)\n",
    "    return {\n",
    "        'accuracy': acc,\n",
    "        'f1': f1,\n",
    "        'precision': precision,\n",
    "        'recall (TPR)': recall,\n",
    "        'specificity (TNR)': specificity\n",
    "    }"
   ]
  },
  {
   "cell_type": "code",
   "execution_count": null,
   "id": "c368ba4c-a0b4-41aa-a6f5-e72c982eb353",
   "metadata": {},
   "outputs": [],
   "source": [
    "table = \"Name, Size, Negatives, Accuracy, TPR, TNR \\n\"\n",
    "for i, df in family_groups:\n",
    "    # print(family)\n",
    "    dataset = Dataset.from_pandas(df)\n",
    "    dataset = dataset.map(tokenize_function, remove_columns=['uniprotSequence', 'ID', 'latestVersion', 'globalMetricValue', 'uniprotStart', 'uniprotEnd', 'Length', 'Domain_architecture', 'InterPro', 'Max_Topology', 'Max Freq', 'Knot Core', 'FamilyName'], num_proc=4)\n",
    "    dataset.set_format(\"pt\")\n",
    "\n",
    "    training_args = TrainingArguments('outputs', fp16=True, per_device_eval_batch_size=1, report_to='none')  \n",
    "    trainer = Trainer(\n",
    "        modelM1,\n",
    "        training_args,\n",
    "        train_dataset=dataset,\n",
    "        eval_dataset=dataset,\n",
    "        tokenizer=tokenizerM1,\n",
    "        compute_metrics=compute_metrics\n",
    "    )\n",
    "\n",
    "    metrics = trainer.evaluate()\n",
    "    table = table + f\"{i}, {df.shape[0]}, {df[df['label'] == 0].shape[0]}, {round(metrics['eval_accuracy'], 4)}, {round(metrics['eval_recall (TPR)'], 4)}, {round(metrics['eval_specificity (TNR)'], 4)} \\n\""
   ]
  },
  {
   "cell_type": "code",
   "execution_count": 16,
   "id": "558fc851-3fb6-466d-99ed-bf39b9645bfc",
   "metadata": {},
   "outputs": [
    {
     "name": "stdout",
     "output_type": "stream",
     "text": [
      "Name, Size, Negatives, Accuracy, TPR, TNR \n",
      ", 1, 0, 1.0, 1.0, 0.0 \n",
      "ATCase/OTCase, 3799, 3352, 0.9995, 0.9978, 0.9997 \n",
      "AdoMet synthase, 1794, 240, 0.99, 0.9929, 0.9708 \n",
      "Calcium-activated potassium channel BK, alpha subunit, 127, 87, 0.8898, 0.975, 0.8506 \n",
      "Carbonic anhydrase, 1531, 539, 0.9589, 0.9738, 0.9314 \n",
      "DUF2254 membrane, 593, 376, 0.9983, 0.9954, 1.0 \n",
      "DUF4253, 123, 53, 0.8618, 0.9, 0.8113 \n",
      "ITIH, 14263, 12555, 0.9872, 0.942, 0.9934 \n",
      "ITIH,Integrin alpha, 84, 84, 1.0, 0.0, 1.0 \n",
      "Integrin alpha, 332, 224, 0.8313, 0.6667, 0.9107 \n",
      "Lantibiotic dehydratase, 392, 286, 0.9643, 0.9528, 0.9685 \n",
      "OPT Oligopeptide transporter, 2510, 456, 0.9865, 0.9951, 0.9474 \n",
      "Ribosomal protein L37/S30, 147, 41, 0.8571, 1.0, 0.4878 \n",
      "SPOUT, 7371, 550, 0.9889, 0.9953, 0.9091 \n",
      "Sodium/calcium exchanger, 5256, 726, 0.9905, 0.9965, 0.9532 \n",
      "TDD, 612, 24, 0.9902, 0.9966, 0.8333 \n",
      "UCH, 477, 125, 0.9057, 0.9602, 0.752 \n",
      "\n"
     ]
    }
   ],
   "source": [
    "print(table)"
   ]
  },
  {
   "cell_type": "code",
   "execution_count": 18,
   "id": "6c3a4dc4-0b3e-4958-bbc1-f0ddaf510b09",
   "metadata": {},
   "outputs": [
    {
     "name": "stdout",
     "output_type": "stream",
     "text": [
      "       "
     ]
    },
    {
     "data": {
      "application/vnd.jupyter.widget-view+json": {
       "model_id": "49120a8c2ff7490a93048b6027ef6aa4",
       "version_major": 2,
       "version_minor": 0
      },
      "text/plain": [
       "#0:   0%|          | 0/9853 [00:00<?, ?ex/s]"
      ]
     },
     "metadata": {},
     "output_type": "display_data"
    },
    {
     "name": "stdout",
     "output_type": "stream",
     "text": [
      " "
     ]
    },
    {
     "data": {
      "application/vnd.jupyter.widget-view+json": {
       "model_id": "a12030d0b46d4df38ea7c3ce2f84674f",
       "version_major": 2,
       "version_minor": 0
      },
      "text/plain": [
       "#1:   0%|          | 0/9853 [00:00<?, ?ex/s]"
      ]
     },
     "metadata": {},
     "output_type": "display_data"
    },
    {
     "data": {
      "application/vnd.jupyter.widget-view+json": {
       "model_id": "a5b4b0df0238485a96652c4ec663d625",
       "version_major": 2,
       "version_minor": 0
      },
      "text/plain": [
       "#2:   0%|          | 0/9853 [00:00<?, ?ex/s]"
      ]
     },
     "metadata": {},
     "output_type": "display_data"
    },
    {
     "data": {
      "application/vnd.jupyter.widget-view+json": {
       "model_id": "d670304293ef4792bc871e29b9a46b6e",
       "version_major": 2,
       "version_minor": 0
      },
      "text/plain": [
       "#3:   0%|          | 0/9853 [00:00<?, ?ex/s]"
      ]
     },
     "metadata": {},
     "output_type": "display_data"
    },
    {
     "name": "stderr",
     "output_type": "stream",
     "text": [
      "PyTorch: setting up devices\n",
      "Using cuda_amp half precision backend\n",
      "***** Running Evaluation *****\n",
      "  Num examples = 39412\n",
      "  Batch size = 1\n"
     ]
    },
    {
     "data": {
      "text/html": [
       "\n",
       "    <div>\n",
       "      \n",
       "      <progress value='39412' max='39412' style='width:300px; height:20px; vertical-align: middle;'></progress>\n",
       "      [39412/39412 14:32]\n",
       "    </div>\n",
       "    "
      ],
      "text/plain": [
       "<IPython.core.display.HTML object>"
      ]
     },
     "metadata": {},
     "output_type": "display_data"
    },
    {
     "data": {
      "text/plain": [
       "{'eval_loss': 0.0637286975979805,\n",
       " 'eval_accuracy': 0.9846493453770425,\n",
       " 'eval_f1': 0.9846722910491247,\n",
       " 'eval_precision': 0.9826060575415887,\n",
       " 'eval_recall (TPR)': 0.9867472326596933,\n",
       " 'eval_specificity (TNR)': 0.9825540115630389,\n",
       " 'eval_runtime': 872.5216,\n",
       " 'eval_samples_per_second': 45.17,\n",
       " 'eval_steps_per_second': 45.17}"
      ]
     },
     "execution_count": 18,
     "metadata": {},
     "output_type": "execute_result"
    }
   ],
   "source": [
    "test_dss = test_dss.map(tokenize_function, remove_columns=['uniprotSequence', 'ID', 'latestVersion', 'globalMetricValue', 'uniprotStart', 'uniprotEnd', 'Length', 'Domain_architecture', 'InterPro', 'Max_Topology', 'Max Freq', 'Knot Core', 'FamilyName'], num_proc=4)\n",
    "test_dss.set_format(\"pt\")\n",
    "\n",
    "\n",
    "training_args = TrainingArguments('outputs', fp16=True, per_device_eval_batch_size=1, report_to='none')  \n",
    "trainer = Trainer(\n",
    "    modelM1,\n",
    "    training_args,\n",
    "    train_dataset=test_dss,\n",
    "    eval_dataset=test_dss,\n",
    "    tokenizer=tokenizerM1,\n",
    "    compute_metrics=compute_metrics\n",
    ")\n",
    "\n",
    "trainer.evaluate()"
   ]
  },
  {
   "cell_type": "markdown",
   "id": "2410f8e3-15cc-4984-8087-e538935d976d",
   "metadata": {},
   "source": [
    "------------------------------------------"
   ]
  },
  {
   "cell_type": "code",
   "execution_count": 9,
   "id": "499d4c3b-a4f2-48a2-b8ae-974b6d4689a4",
   "metadata": {},
   "outputs": [],
   "source": [
    "from torch import nn\n",
    "from huggingface_hub import hf_hub_download"
   ]
  },
  {
   "cell_type": "code",
   "execution_count": 11,
   "id": "834f2154-b35f-49f8-b580-45e3500ff9ee",
   "metadata": {},
   "outputs": [],
   "source": [
    "class CNN(nn.Module):\n",
    "    def __init__(self, device):\n",
    "        super(CNN, self).__init__()\n",
    "        \n",
    "        self.device = device\n",
    "\n",
    "        self.conv1 = nn.Conv1d(in_channels=1, out_channels=32, kernel_size=7, padding=0)\n",
    "        self.batchnorm = nn.BatchNorm1d(32)\n",
    "        self.relu = nn.ReLU()\n",
    "        self.flat = nn.Flatten()\n",
    "        self.lin1 = nn.Linear(32576, 512)\n",
    "        self.lin2 = nn.Linear(512, 1)\n",
    "        self.sigmoid = nn.Sigmoid()\n",
    "        \n",
    "        self.loss = nn.functional.binary_cross_entropy\n",
    " \n",
    "\n",
    "    def forward(self, X):\n",
    "        X = self.conv1(X)\n",
    "        X = self.batchnorm(X)\n",
    "        X = self.relu(X)\n",
    "        X = self.flat(X)\n",
    "        X = self.lin1(X)\n",
    "        X = self.lin2(X)\n",
    "        X = self.sigmoid(X)\n",
    "        return X\n",
    "    \n",
    "    def train_model(self, dataset, epochs):  \n",
    "        model.train()\n",
    "        optimizer = torch.optim.Adam(self.parameters())\n",
    "        \n",
    "        for epoch in range(epochs):\n",
    "            with tqdm(dataset, unit=\"batch\") as tepoch:\n",
    "                for inputs, targets in tepoch:\n",
    "                    \n",
    "                    inputs, targets = inputs.to(self.device), targets.to(self.device)\n",
    "                    tepoch.set_description(f\"Epoch {epoch + 1}\")\n",
    "                    \n",
    "                    # clear the gradients\n",
    "                    optimizer.zero_grad()\n",
    "                    # compute the model output\n",
    "                    yhat = self(inputs.float())\n",
    "                    # calculate accuracy\n",
    "                    correct = (torch.round(yhat) == targets).sum().item()\n",
    "                    accuracy = correct / len(inputs)\n",
    "                    # calculate loss\n",
    "                    loss = self.loss(yhat, targets.float())\n",
    "                    # credit assignment\n",
    "                    loss.backward()\n",
    "                    # update model weights\n",
    "                    optimizer.step()\n",
    "                    \n",
    "                    tepoch.set_postfix(loss=loss.item(), accuracy=100. * accuracy)\n",
    "                \n",
    "    def test(self, dataloader):\n",
    "        model.eval()\n",
    "        predictions, actuals = list(), list()\n",
    "        \n",
    "        with torch.no_grad():\n",
    "            for inputs, targets in dataloader:\n",
    "                inputs = inputs.to(self.device)\n",
    "                \n",
    "                # evaluate the model on the test set\n",
    "                yhat = self(inputs.float())\n",
    "                yhat = yhat.cpu().detach().numpy()\n",
    "                actual = targets.numpy()\n",
    "                # reshape for stacking\n",
    "                actual = actual.reshape((len(actual), 1))\n",
    "                yhat = yhat.reshape((len(yhat), 1))\n",
    "                # store\n",
    "                predictions.append(yhat)\n",
    "                actuals.append(actual)\n",
    "        predictions, actuals = np.vstack(predictions), np.vstack(actuals)\n",
    "        print(\"Predictions: \", predictions[:10])\n",
    "        print(\"Real labels: \", actuals[:10])\n",
    "        # calculate accuracy\n",
    "        pred_label = np.round(predictions)\n",
    "        acc = metrics.accuracy_score(actuals, pred_label)\n",
    "        f1 = metrics.f1_score(actuals, pred_label, average='binary', zero_division=0)\n",
    "        precision, recall, thresholds = metrics.precision_recall_curve(actuals, predictions)\n",
    "        auprc = metrics.auc(recall, precision)\n",
    "        print(f\"Test metrics: \\n Accuracy: {float(acc):>6f}, F1 score: {float(f1):>6f}, AUPRC: {float(auprc):>6f}\\n\")\n",
    "        return acc, f1, auprc\n"
   ]
  },
  {
   "cell_type": "code",
   "execution_count": 12,
   "id": "2de38de5-e536-44ef-a1cb-02a6a47cf5ee",
   "metadata": {},
   "outputs": [],
   "source": [
    "def test_model(model, dataloader):\n",
    "    predictions, actuals = list(), list()\n",
    "        \n",
    "    with torch.no_grad():\n",
    "            for inputs, targets in dataloader:\n",
    "                inputs = inputs.to(device)\n",
    "                \n",
    "                # evaluate the model on the test set\n",
    "                yhat = model(inputs.float())\n",
    "                yhat = yhat.cpu().detach().numpy()\n",
    "                actual = targets.numpy()\n",
    "                # reshape for stacking\n",
    "                actual = actual.reshape((len(actual), 1))\n",
    "                yhat = yhat.reshape((len(yhat), 1))\n",
    "                # store\n",
    "                predictions.append(yhat)\n",
    "                actuals.append(actual)\n",
    "    predictions, actuals = np.vstack(predictions), np.vstack(actuals)\n",
    "    return predictions"
   ]
  },
  {
   "cell_type": "code",
   "execution_count": 22,
   "id": "f0bb11ef-35ce-4257-8f19-540220035037",
   "metadata": {},
   "outputs": [],
   "source": [
    "path = hf_hub_download(repo_id=\"EvaKlimentova/knots_M2_embeddings_alphafold\", filename=\"M2_embedding_CNN.pth\")"
   ]
  },
  {
   "cell_type": "code",
   "execution_count": 23,
   "id": "bf91d860-467a-494f-b877-0409a78d4af3",
   "metadata": {},
   "outputs": [
    {
     "data": {
      "text/plain": [
       "CNN(\n",
       "  (conv1): Conv1d(1, 32, kernel_size=(7,), stride=(1,))\n",
       "  (batchnorm): BatchNorm1d(32, eps=1e-05, momentum=0.1, affine=True, track_running_stats=True)\n",
       "  (relu): ReLU()\n",
       "  (flat): Flatten(start_dim=1, end_dim=-1)\n",
       "  (lin1): Linear(in_features=32576, out_features=512, bias=True)\n",
       "  (lin2): Linear(in_features=512, out_features=1, bias=True)\n",
       "  (sigmoid): Sigmoid()\n",
       ")"
      ]
     },
     "execution_count": 23,
     "metadata": {},
     "output_type": "execute_result"
    }
   ],
   "source": [
    "model = torch.load(path)\n",
    "model.eval()"
   ]
  },
  {
   "cell_type": "code",
   "execution_count": 26,
   "id": "7bd4cf34-2781-4230-be21-ef070c45583b",
   "metadata": {},
   "outputs": [
    {
     "name": "stdout",
     "output_type": "stream",
     "text": [
      "16680257\n"
     ]
    }
   ],
   "source": [
    "model_parameters = filter(lambda p: p.requires_grad, model.parameters())\n",
    "params = sum([np.prod(p.size()) for p in model_parameters])\n",
    "print(params)"
   ]
  },
  {
   "cell_type": "markdown",
   "id": "f3fdaa85-80f9-467e-8e91-41e72d5aebbc",
   "metadata": {},
   "source": [
    "------------------------------------------"
   ]
  },
  {
   "cell_type": "code",
   "execution_count": 19,
   "id": "700f3ee5-a855-46c2-825d-bca8657d09d9",
   "metadata": {},
   "outputs": [],
   "source": [
    "import tensorflow as tf\n",
    "gpus = tf.config.experimental.list_physical_devices('GPU')\n",
    "for gpu in gpus:\n",
    "    tf.config.experimental.set_memory_growth(gpu, True)"
   ]
  },
  {
   "cell_type": "code",
   "execution_count": 20,
   "id": "a3b89804-d5e7-4f8b-b40a-27bf045c4ce2",
   "metadata": {},
   "outputs": [
    {
     "name": "stderr",
     "output_type": "stream",
     "text": [
      "2023-03-20 12:54:51.631244: I tensorflow/core/platform/cpu_feature_guard.cc:193] This TensorFlow binary is optimized with oneAPI Deep Neural Network Library (oneDNN) to use the following CPU instructions in performance-critical operations:  SSE4.1 SSE4.2 AVX AVX2 FMA\n",
      "To enable them in other operations, rebuild TensorFlow with the appropriate compiler flags.\n",
      "2023-03-20 12:54:51.644882: I tensorflow/core/common_runtime/gpu/gpu_device.cc:1613] Created device /job:localhost/replica:0/task:0/device:GPU:0 with 72408 MB memory:  -> device: 0, name: NVIDIA A100 80GB PCIe, pci bus id: 0000:21:00.0, compute capability: 8.0\n"
     ]
    }
   ],
   "source": [
    "path = hf_hub_download(repo_id=\"roa7n/knots_simple_CNN\", filename=\"cnn_10epochs_94.h5\")\n",
    "model = tf.keras.models.load_model(path)"
   ]
  },
  {
   "cell_type": "code",
   "execution_count": 21,
   "id": "dd58730e-0901-467e-bdd9-1c2911a0ec3e",
   "metadata": {},
   "outputs": [
    {
     "name": "stdout",
     "output_type": "stream",
     "text": [
      "Model: \"sequential\"\n",
      "_________________________________________________________________\n",
      " Layer (type)                Output Shape              Param #   \n",
      "=================================================================\n",
      " conv1d (Conv1D)             (None, 493, 32)           5408      \n",
      "                                                                 \n",
      " batch_normalization (BatchN  (None, 493, 32)          128       \n",
      " ormalization)                                                   \n",
      "                                                                 \n",
      " max_pooling1d (MaxPooling1D  (None, 246, 32)          0         \n",
      " )                                                               \n",
      "                                                                 \n",
      " conv1d_1 (Conv1D)           (None, 239, 16)           4112      \n",
      "                                                                 \n",
      " batch_normalization_1 (Batc  (None, 239, 16)          64        \n",
      " hNormalization)                                                 \n",
      "                                                                 \n",
      " max_pooling1d_1 (MaxPooling  (None, 119, 16)          0         \n",
      " 1D)                                                             \n",
      "                                                                 \n",
      " conv1d_2 (Conv1D)           (None, 112, 4)            516       \n",
      "                                                                 \n",
      " batch_normalization_2 (Batc  (None, 112, 4)           16        \n",
      " hNormalization)                                                 \n",
      "                                                                 \n",
      " max_pooling1d_2 (MaxPooling  (None, 56, 4)            0         \n",
      " 1D)                                                             \n",
      "                                                                 \n",
      " dropout (Dropout)           (None, 56, 4)             0         \n",
      "                                                                 \n",
      " global_average_pooling1d (G  (None, 4)                0         \n",
      " lobalAveragePooling1D)                                          \n",
      "                                                                 \n",
      " dense (Dense)               (None, 1)                 5         \n",
      "                                                                 \n",
      "=================================================================\n",
      "Total params: 10,249\n",
      "Trainable params: 10,145\n",
      "Non-trainable params: 104\n",
      "_________________________________________________________________\n"
     ]
    }
   ],
   "source": [
    "model.summary()"
   ]
  }
 ],
 "metadata": {
  "kernelspec": {
   "display_name": "Python [conda env:transformers]",
   "language": "python",
   "name": "conda-env-transformers-py"
  },
  "language_info": {
   "codemirror_mode": {
    "name": "ipython",
    "version": 3
   },
   "file_extension": ".py",
   "mimetype": "text/x-python",
   "name": "python",
   "nbconvert_exporter": "python",
   "pygments_lexer": "ipython3",
   "version": "3.8.15"
  }
 },
 "nbformat": 4,
 "nbformat_minor": 5
}
