{
 "cells": [
  {
   "cell_type": "markdown",
   "id": "b63d29d2-9c46-4dc4-ba33-0eb5825af307",
   "metadata": {},
   "source": [
    "# Load models"
   ]
  },
  {
   "cell_type": "code",
   "execution_count": 1,
   "id": "342aa779-f8b6-4bd6-9428-b1d11e9e8ca1",
   "metadata": {},
   "outputs": [],
   "source": [
    "import numpy as np\n",
    "import pandas as pd\n",
    "import torch\n",
    "from torch import nn\n",
    "from torch.utils.data import Dataset\n",
    "from torch.utils.data import DataLoader\n",
    "from datasets import load_dataset\n",
    "from sklearn import metrics\n",
    "from sklearn.model_selection import train_test_split\n",
    "from tqdm import tqdm\n",
    "import matplotlib.pyplot as plt"
   ]
  },
  {
   "cell_type": "code",
   "execution_count": 2,
   "id": "2809dc67-3af1-477a-acc6-413b63b38554",
   "metadata": {},
   "outputs": [],
   "source": [
    "class Network(nn.Module):\n",
    "    def __init__(self, inp, hidden, output, device):\n",
    "        super(Network,self).__init__()\n",
    "        \n",
    "        self.device = device\n",
    "        \n",
    "        self.linear1=nn.Linear(inp, hidden)\n",
    "        self.linear2=nn.Linear(hidden, output)\n",
    "        \n",
    "        self.loss = nn.CrossEntropyLoss()\n",
    " \n",
    "        \n",
    "    def forward(self,x):\n",
    "        x=self.linear1(x)\n",
    "        x=self.linear2(x)\n",
    "        return x\n",
    "    \n",
    "    def train_model(self, dataset, epochs):  \n",
    "        self.train()\n",
    "        optimizer = torch.optim.Adam(self.parameters(), lr=0.0001) # TODO tune\n",
    "\n",
    "        for epoch in range(epochs):\n",
    "            with tqdm(dataset, unit=\"batch\") as tepoch:\n",
    "                for inputs, targets in tepoch:\n",
    "\n",
    "                    inputs, targets = inputs.to(self.device), targets.to(self.device)\n",
    "                    tepoch.set_description(f\"Epoch {epoch + 1}\")\n",
    "                    \n",
    "                    targets = targets[:, 0].long() # TODO what is that?\n",
    "\n",
    "                    # clear the gradients\n",
    "                    optimizer.zero_grad()\n",
    "                    # compute the model output\n",
    "                    yhat = self(inputs)\n",
    "                    # calculate accuracy\n",
    "                    correct = (yhat.argmax(1) == targets).type(torch.float).sum().item()\n",
    "                    accuracy = correct / len(inputs)\n",
    "                    # calculate loss\n",
    "                    loss = self.loss(yhat, targets)\n",
    "                    # credit assignment\n",
    "                    loss.backward()\n",
    "                    # update model weights\n",
    "                    optimizer.step()\n",
    "\n",
    "                    tepoch.set_postfix(loss=loss.item(), accuracy=100. * accuracy)\n",
    "        \n",
    "    def test(self, dataloader):\n",
    "        self.eval()\n",
    "        pred_label, actuals = list(), list()\n",
    "        \n",
    "        with torch.no_grad():\n",
    "            for inputs, targets in dataloader:\n",
    "                targets = targets[:, 0].long()\n",
    "                \n",
    "                inputs = inputs.to(self.device)\n",
    "                \n",
    "                # evaluate the model on the test set\n",
    "                yhat = self(inputs)\n",
    "                yhat = yhat.cpu().detach().numpy()\n",
    "                actual = targets.numpy()\n",
    "                yhat = yhat.argmax(1)\n",
    "                # reshape for stacking\n",
    "                actual = actual.reshape((len(actual), 1))\n",
    "                yhat = yhat.reshape((len(yhat), 1))\n",
    "                # store\n",
    "                pred_label.append(yhat)\n",
    "                actuals.append(actual)\n",
    "        pred_label, actuals = np.vstack(pred_label), np.vstack(actuals)\n",
    "        print(\"Predictions: \", pred_label[:10])\n",
    "        print(\"Real labels: \", actuals[:10])\n",
    "        # calculate accuracy\n",
    "        acc = metrics.accuracy_score(actuals, pred_label)\n",
    "        f1 = metrics.f1_score(actuals, pred_label, average='micro', zero_division=0)\n",
    "        print(f\"Test metrics: \\n Accuracy: {acc}, F1 score: {float(f1):>6f}\\n\")\n",
    "        return acc, f1\n",
    "\n"
   ]
  },
  {
   "cell_type": "code",
   "execution_count": 3,
   "id": "4ffad571-4bac-44bc-8260-1f335702d80f",
   "metadata": {},
   "outputs": [
    {
     "data": {
      "text/plain": [
       "Network(\n",
       "  (linear1): Linear(in_features=1024, out_features=64, bias=True)\n",
       "  (linear2): Linear(in_features=64, out_features=7, bias=True)\n",
       "  (loss): CrossEntropyLoss()\n",
       ")"
      ]
     },
     "execution_count": 3,
     "metadata": {},
     "output_type": "execute_result"
    }
   ],
   "source": [
    "model = torch.load(\"ProtBertBFD_embedding_CNN_family.pth\")\n",
    "model.eval()"
   ]
  },
  {
   "cell_type": "code",
   "execution_count": 4,
   "id": "bf358120-3f23-4a15-9746-08079ddefb7a",
   "metadata": {},
   "outputs": [
    {
     "name": "stderr",
     "output_type": "stream",
     "text": [
      "2023-03-31 07:37:11.108339: I tensorflow/core/platform/cpu_feature_guard.cc:193] This TensorFlow binary is optimized with oneAPI Deep Neural Network Library (oneDNN) to use the following CPU instructions in performance-critical operations:  SSE4.1 SSE4.2 AVX AVX2 FMA\n",
      "To enable them in other operations, rebuild TensorFlow with the appropriate compiler flags.\n"
     ]
    }
   ],
   "source": [
    "from transformers import AutoTokenizer, AutoModel, pipeline\n",
    "import re\n",
    "import skimage.measure"
   ]
  },
  {
   "cell_type": "code",
   "execution_count": 5,
   "id": "f4a5e465-d821-416d-9b52-c1a73e946dc7",
   "metadata": {},
   "outputs": [],
   "source": [
    "tqdm.pandas()"
   ]
  },
  {
   "cell_type": "code",
   "execution_count": 6,
   "id": "0fd86ff0-c593-4e15-b07d-36ba90ef333e",
   "metadata": {
    "colab": {
     "base_uri": "https://localhost:8080/",
     "height": 145,
     "referenced_widgets": [
      "c566f54bde0842f5b0d2e4101d4fcfbf",
      "480f4188614a4977a63a64a7eaf7d1b3",
      "c988ad3b5ab94eef943e78e4f6314f2f",
      "33a5e999c672427385187c5b5e4c9a2e",
      "adb66d4f60b3442488cc8ee13d525e72",
      "6a15f70816584148a43f51657235fec9",
      "fa788633e3fc4d04ae83969c7c5c349a",
      "bef7a8a6c8cf4236a219a1ae50a2c4e9",
      "7432f96b3761410b98c3ec1c2fc243e8",
      "181b2d89c48c4096b1b33c3c3932a133",
      "4637142cdab8474abfa142c3796c2b25",
      "3c1cbc3c63ca4a279cd27500233aa135",
      "ce1527f49c144effbac45604021ee2d4",
      "13f2b8a230304637bb4f77618b00e334",
      "7863c8db03f7445e9ddd424e0fea0977",
      "2355525fad4a47aeab35139bcbc63430",
      "b53fa95006bf4bafbdc8f20a3d694be0",
      "485f593c39c946c2a8392864c414b4af",
      "8771e66e2d794d67adfb70a542a9c2c2",
      "e9fc3dd1a7c94b719a62ef7323e71407",
      "bb84fa3aa00946a0a0d2991688540bd4",
      "ceb91b74c7014b4c8bea3f4372d51cc1",
      "e6ee48ecbb4f43e0af460ee4c2398576",
      "52b83182bf974acc9e383630c3cf3bcb",
      "de2f995068534e00a464168306df1124",
      "556c0d0a3e9a4aa89527adf4b3563f88",
      "b8b47b8a969e4a838d6a886b34d6b3f8",
      "ca63bf9d2c124283801128eaa3ad4c84",
      "75c96f8360c341fb9e4e5333fd513e5e",
      "0475f369b9f44755865df4edc0a86578",
      "d9955ade189b4160b1eb4f58a57a0767",
      "d687c52cb59e4beb96a4afacfc129fac",
      "1e629e67f21544a0931f35ae666b815a",
      "2f0a6ce77dc84f79985c9461012f7a7f",
      "9e12f6a8ead8412eb6b11e5c9f1a8b9b",
      "7f73b79f1371436ebc09e2579a8c8df5",
      "3b89dd1a7499415dbff2e88c154248f8",
      "95b650486971401b97c6af905fd08d3b",
      "4e129abdbd3f48439c3a668f4213cbaf",
      "8c7d0d586f784092afd11a7b3db352d5",
      "05722903f0b84c958bec1c1062ed9f02",
      "27b350c7f5db44b5ba9c490c70012444",
      "edef998446504935be458196c56b1f19",
      "88e708a1c14d45a1a95dd0f4188d8616"
     ]
    },
    "id": "HS8i5sOJ-h2W",
    "outputId": "ae55a274-f659-4d04-9306-05cbb635cf04"
   },
   "outputs": [],
   "source": [
    "tokenizer = AutoTokenizer.from_pretrained(\"Rostlab/prot_bert_bfd\", do_lower_case=False )"
   ]
  },
  {
   "cell_type": "code",
   "execution_count": 7,
   "id": "14f280e6-6c7c-4a8b-b505-cc338f9b2d50",
   "metadata": {
    "colab": {
     "base_uri": "https://localhost:8080/",
     "height": 121,
     "referenced_widgets": [
      "2bbf0e14943f49e381664fa4b8b00363",
      "37f1924edc1b445d8eaa05760416e372",
      "2c945ad12ed2447088b1ccb788c085b5",
      "b9a22721e5174e6dac9faa8ef3e56d0b",
      "4c71c77dc2ee401a95d73ce982a1685a",
      "52e6214f976247f8b1e0765fe21cc690",
      "b356e95d917e44e8b5dc9e12749f2f63",
      "9d35d5e7b7c447f5b08328bab4be2c6c",
      "dc2342a075e14711b1b120ca5df795f3",
      "6c25414a3b7c4dd9b1441fdbf12666a1",
      "2b12bb2ce9034869b14106c60ec151c8"
     ]
    },
    "id": "ERtkR05t-h2c",
    "outputId": "96d4c1cc-5082-4ca2-d3f3-3a5d0fe0242b"
   },
   "outputs": [
    {
     "name": "stderr",
     "output_type": "stream",
     "text": [
      "Some weights of the model checkpoint at Rostlab/prot_bert_bfd were not used when initializing BertModel: ['cls.predictions.transform.dense.weight', 'cls.predictions.transform.LayerNorm.bias', 'cls.predictions.transform.dense.bias', 'cls.predictions.decoder.weight', 'cls.seq_relationship.bias', 'cls.seq_relationship.weight', 'cls.predictions.decoder.bias', 'cls.predictions.bias', 'cls.predictions.transform.LayerNorm.weight']\n",
      "- This IS expected if you are initializing BertModel from the checkpoint of a model trained on another task or with another architecture (e.g. initializing a BertForSequenceClassification model from a BertForPreTraining model).\n",
      "- This IS NOT expected if you are initializing BertModel from the checkpoint of a model that you expect to be exactly identical (initializing a BertForSequenceClassification model from a BertForSequenceClassification model).\n"
     ]
    }
   ],
   "source": [
    "transformer = AutoModel.from_pretrained(\"Rostlab/prot_bert_bfd\")"
   ]
  },
  {
   "cell_type": "code",
   "execution_count": 8,
   "id": "fffe5655-3e76-45d3-8ee8-648f0d431c26",
   "metadata": {
    "id": "KNweYMPQ-h2h"
   },
   "outputs": [],
   "source": [
    "fe = pipeline('feature-extraction', model=transformer, tokenizer=tokenizer,device=0 ) # device=0 for GPU, -1 for CPU"
   ]
  },
  {
   "cell_type": "code",
   "execution_count": 9,
   "id": "0bf13666-3472-46c2-a4f6-f12dc5b5d714",
   "metadata": {
    "id": "bSuWCNo4bvOR"
   },
   "outputs": [],
   "source": [
    "def get_embedding(seq):\n",
    "    seq  = \" \".join(re.sub(r\"[UZOB]\", \"X\", seq))\n",
    "    embedding = fe(seq)\n",
    "    features =  np.array(embedding[0][1:len(seq)+1])\n",
    "    features = skimage.measure.block_reduce(features, (1024, 1), np.average)\n",
    "    return np.float32(np.array(features[0], dtype=float))"
   ]
  },
  {
   "cell_type": "markdown",
   "id": "514abc84-ee7d-464d-ad8b-0c7f38134265",
   "metadata": {},
   "source": [
    "---------------------------"
   ]
  },
  {
   "cell_type": "markdown",
   "id": "857a4b2b-ebff-4d9c-916a-cc8d354bcea2",
   "metadata": {},
   "source": [
    "## Load dataset"
   ]
  },
  {
   "cell_type": "code",
   "execution_count": 10,
   "id": "80a2e84d-4c1d-4295-86a2-d12f39d044b6",
   "metadata": {},
   "outputs": [
    {
     "data": {
      "text/html": [
       "<div>\n",
       "<style scoped>\n",
       "    .dataframe tbody tr th:only-of-type {\n",
       "        vertical-align: middle;\n",
       "    }\n",
       "\n",
       "    .dataframe tbody tr th {\n",
       "        vertical-align: top;\n",
       "    }\n",
       "\n",
       "    .dataframe thead th {\n",
       "        text-align: right;\n",
       "    }\n",
       "</style>\n",
       "<table border=\"1\" class=\"dataframe\">\n",
       "  <thead>\n",
       "    <tr style=\"text-align: right;\">\n",
       "      <th></th>\n",
       "      <th>ID</th>\n",
       "      <th>Sequence</th>\n",
       "      <th>xref_interpro</th>\n",
       "      <th>protein_families</th>\n",
       "    </tr>\n",
       "  </thead>\n",
       "  <tbody>\n",
       "    <tr>\n",
       "      <th>0</th>\n",
       "      <td>Q86U90</td>\n",
       "      <td>MSPARRCRGMRAAVAASVGLSEGPAGSRSGRLFRPPSPAPAAPGAR...</td>\n",
       "      <td>IPR017945;IPR006070;</td>\n",
       "      <td>SUA5 family</td>\n",
       "    </tr>\n",
       "    <tr>\n",
       "      <th>1</th>\n",
       "      <td>P32579</td>\n",
       "      <td>MYLGRHFLAMTSKALFDTKILKVNPLSIIFSPDAHIDGSLPTITDP...</td>\n",
       "      <td>IPR017945;IPR006070;IPR038385;IPR005145;IPR010...</td>\n",
       "      <td>SUA5 family</td>\n",
       "    </tr>\n",
       "    <tr>\n",
       "      <th>2</th>\n",
       "      <td>Q3U5F4</td>\n",
       "      <td>MSTARPCAGLRAAVAAGMGLSDGPASSGRGCRLLRPPEPAPALPGA...</td>\n",
       "      <td>IPR017945;IPR006070;</td>\n",
       "      <td>SUA5 family</td>\n",
       "    </tr>\n",
       "    <tr>\n",
       "      <th>3</th>\n",
       "      <td>P45748</td>\n",
       "      <td>MNNNLQRDAIAAAIDVLNEERVIAYPTEAVFGVGCDPDSETAVMRL...</td>\n",
       "      <td>IPR017945;IPR006070;IPR023535;</td>\n",
       "      <td>SUA5 family, TsaC subfamily</td>\n",
       "    </tr>\n",
       "    <tr>\n",
       "      <th>4</th>\n",
       "      <td>Q499R4</td>\n",
       "      <td>MSTARPCAGLRAAVAAGMGLSDGPAGSSRGCRLLRPPAPAPALPGA...</td>\n",
       "      <td>IPR017945;IPR006070;</td>\n",
       "      <td>SUA5 family</td>\n",
       "    </tr>\n",
       "    <tr>\n",
       "      <th>...</th>\n",
       "      <td>...</td>\n",
       "      <td>...</td>\n",
       "      <td>...</td>\n",
       "      <td>...</td>\n",
       "    </tr>\n",
       "    <tr>\n",
       "      <th>28205</th>\n",
       "      <td>A0A8J4YTV4</td>\n",
       "      <td>MTGEHVYRPDKAGLAAAVAAINAGQPIVIPTDTVYGLAVRAGDPAA...</td>\n",
       "      <td>IPR000793;IPR038376;IPR005294;IPR017945;IPR035...</td>\n",
       "      <td>ATPase A chain family; ATPase alpha/beta chain...</td>\n",
       "    </tr>\n",
       "    <tr>\n",
       "      <th>28206</th>\n",
       "      <td>A0A8U0Q8M2</td>\n",
       "      <td>MATLDGFPASFYGEPGVLGMLANGISAFLVLLQNFNTARTGVPAEG...</td>\n",
       "      <td>IPR017945;IPR000791;IPR006070;</td>\n",
       "      <td>SUA5 family; Acetate uptake transporter (AceTr...</td>\n",
       "    </tr>\n",
       "    <tr>\n",
       "      <th>28207</th>\n",
       "      <td>A0A8V0YD24</td>\n",
       "      <td>MVSTAGFAAVFYSEPAVLGLLANVISAFLLCLQNFATAHTGLKPQG...</td>\n",
       "      <td>IPR017945;IPR000791;IPR006070;</td>\n",
       "      <td>SUA5 family; Acetate uptake transporter (AceTr...</td>\n",
       "    </tr>\n",
       "    <tr>\n",
       "      <th>28208</th>\n",
       "      <td>A0A0A2VYR0</td>\n",
       "      <td>MTWDVLPQDFSIRHSGSGAMDTQIVPDAATCPECLRELNCPADRRY...</td>\n",
       "      <td>IPR004421;IPR017945;IPR041440;IPR004688;IPR011...</td>\n",
       "      <td>NiCoT transporter (TC 2.A.52) family; SUA5 fam...</td>\n",
       "    </tr>\n",
       "    <tr>\n",
       "      <th>28209</th>\n",
       "      <td>A0A448ZR73</td>\n",
       "      <td>MIAVAQHNEIESVGTTHGEIADNPSVSAVSARLVPQTELKECGERL...</td>\n",
       "      <td>IPR017945;IPR041095;IPR009022;IPR035647;IPR000...</td>\n",
       "      <td>GTP-binding elongation factor family, EF-G/EF-...</td>\n",
       "    </tr>\n",
       "  </tbody>\n",
       "</table>\n",
       "<p>28210 rows × 4 columns</p>\n",
       "</div>"
      ],
      "text/plain": [
       "               ID                                           Sequence  \\\n",
       "0          Q86U90  MSPARRCRGMRAAVAASVGLSEGPAGSRSGRLFRPPSPAPAAPGAR...   \n",
       "1          P32579  MYLGRHFLAMTSKALFDTKILKVNPLSIIFSPDAHIDGSLPTITDP...   \n",
       "2          Q3U5F4  MSTARPCAGLRAAVAAGMGLSDGPASSGRGCRLLRPPEPAPALPGA...   \n",
       "3          P45748  MNNNLQRDAIAAAIDVLNEERVIAYPTEAVFGVGCDPDSETAVMRL...   \n",
       "4          Q499R4  MSTARPCAGLRAAVAAGMGLSDGPAGSSRGCRLLRPPAPAPALPGA...   \n",
       "...           ...                                                ...   \n",
       "28205  A0A8J4YTV4  MTGEHVYRPDKAGLAAAVAAINAGQPIVIPTDTVYGLAVRAGDPAA...   \n",
       "28206  A0A8U0Q8M2  MATLDGFPASFYGEPGVLGMLANGISAFLVLLQNFNTARTGVPAEG...   \n",
       "28207  A0A8V0YD24  MVSTAGFAAVFYSEPAVLGLLANVISAFLLCLQNFATAHTGLKPQG...   \n",
       "28208  A0A0A2VYR0  MTWDVLPQDFSIRHSGSGAMDTQIVPDAATCPECLRELNCPADRRY...   \n",
       "28209  A0A448ZR73  MIAVAQHNEIESVGTTHGEIADNPSVSAVSARLVPQTELKECGERL...   \n",
       "\n",
       "                                           xref_interpro  \\\n",
       "0                                   IPR017945;IPR006070;   \n",
       "1      IPR017945;IPR006070;IPR038385;IPR005145;IPR010...   \n",
       "2                                   IPR017945;IPR006070;   \n",
       "3                         IPR017945;IPR006070;IPR023535;   \n",
       "4                                   IPR017945;IPR006070;   \n",
       "...                                                  ...   \n",
       "28205  IPR000793;IPR038376;IPR005294;IPR017945;IPR035...   \n",
       "28206                     IPR017945;IPR000791;IPR006070;   \n",
       "28207                     IPR017945;IPR000791;IPR006070;   \n",
       "28208  IPR004421;IPR017945;IPR041440;IPR004688;IPR011...   \n",
       "28209  IPR017945;IPR041095;IPR009022;IPR035647;IPR000...   \n",
       "\n",
       "                                        protein_families  \n",
       "0                                            SUA5 family  \n",
       "1                                            SUA5 family  \n",
       "2                                            SUA5 family  \n",
       "3                            SUA5 family, TsaC subfamily  \n",
       "4                                            SUA5 family  \n",
       "...                                                  ...  \n",
       "28205  ATPase A chain family; ATPase alpha/beta chain...  \n",
       "28206  SUA5 family; Acetate uptake transporter (AceTr...  \n",
       "28207  SUA5 family; Acetate uptake transporter (AceTr...  \n",
       "28208  NiCoT transporter (TC 2.A.52) family; SUA5 fam...  \n",
       "28209  GTP-binding elongation factor family, EF-G/EF-...  \n",
       "\n",
       "[28210 rows x 4 columns]"
      ]
     },
     "execution_count": 10,
     "metadata": {},
     "output_type": "execute_result"
    }
   ],
   "source": [
    "df = pd.read_csv(\"SUA5_family.csv\")\n",
    "#df.rename(columns = {'id2':'ID'}, inplace = True)\n",
    "df"
   ]
  },
  {
   "cell_type": "markdown",
   "id": "2c31e9c0-39df-49f2-881d-c5ac13241abc",
   "metadata": {},
   "source": [
    "### Preprocess"
   ]
  },
  {
   "cell_type": "code",
   "execution_count": 14,
   "id": "4b879975-2059-4c34-b50b-20f48ba0e3e3",
   "metadata": {},
   "outputs": [
    {
     "name": "stderr",
     "output_type": "stream",
     "text": [
      "/home/jovyan/my-conda-envs/transformers/lib/python3.8/site-packages/Bio/pairwise2.py:278: BiopythonDeprecationWarning: Bio.pairwise2 has been deprecated, and we intend to remove it in a future release of Biopython. As an alternative, please consider using Bio.Align.PairwiseAligner as a replacement, and contact the Biopython developers if you still need the Bio.pairwise2 module.\n",
      "  warnings.warn(\n"
     ]
    }
   ],
   "source": [
    "import spyprot"
   ]
  },
  {
   "cell_type": "code",
   "execution_count": 16,
   "id": "aacb1462-11a5-48aa-ace3-9db0de02620c",
   "metadata": {},
   "outputs": [
    {
     "name": "stderr",
     "output_type": "stream",
     "text": [
      "100%|██████████| 2/2 [00:00<00:00,  3.88it/s]\n",
      "100%|██████████| 268/268 [00:00<00:00, 222765.25it/s]\n",
      "100%|██████████| 268/268 [00:00<00:00, 289336.80it/s]\n"
     ]
    }
   ],
   "source": [
    "SIZE = 100\n",
    "SEARCH_FIELDS = ['sequence', 'protein_families']\n",
    "\n",
    "accessions = df['ID'].tolist()\n",
    "\n",
    "final_res = {}\n",
    "\n",
    "for i in tqdm(range(0, len(accessions) - SIZE, SIZE)):\n",
    "    uni = spyprot.UniprotSearch(SEARCH_FIELDS, accessions=accessions[i:i + SIZE])\n",
    "    res = uni.get()\n",
    "    final_res.update(res)\n",
    "    \n",
    "uni = spyprot.UniprotSearch(SEARCH_FIELDS, accessions=accessions[len(accessions) - SIZE:])\n",
    "res = uni.get()\n",
    "final_res.update(res)\n",
    "\n",
    "for i in range(len(SEARCH_FIELDS)):\n",
    "    df[SEARCH_FIELDS[i]] = df['ID'].progress_apply(lambda x: final_res[x][i] if x in final_res.keys() else \"\")"
   ]
  },
  {
   "cell_type": "markdown",
   "id": "d18936da-e829-4ce6-a46a-2547307d4f90",
   "metadata": {},
   "source": [
    "## Run SPOUT classification"
   ]
  },
  {
   "cell_type": "code",
   "execution_count": 11,
   "id": "66910706-4df1-4679-9075-cb1375e63b08",
   "metadata": {},
   "outputs": [],
   "source": [
    "# PARAMS\n",
    "SIGNAL_STRENGTH = 10\n",
    "THRESHOLD = 0.8\n",
    "OTHER_SIGNAL_MAX = 3 # originaly 1"
   ]
  },
  {
   "cell_type": "code",
   "execution_count": 14,
   "id": "9e12971d-4f1a-440d-8c1a-34fd63e72eb9",
   "metadata": {},
   "outputs": [],
   "source": [
    "def get_class(row):\n",
    "    em = get_embedding(row['Sequence'])\n",
    "    embedding = torch.from_numpy(em).to('cuda')\n",
    "    prediction = model(embedding)\n",
    "    prediction = prediction.cpu().detach().tolist()\n",
    "    if (prediction[0] > SIGNAL_STRENGTH) & (max(prediction) == prediction[0]) & ((np.exp(prediction[0]) / np.sum(np.exp(prediction), axis=0)) > THRESHOLD) & (prediction[1] < OTHER_SIGNAL_MAX) & (prediction[2] < OTHER_SIGNAL_MAX) & (prediction[3] < OTHER_SIGNAL_MAX) & (prediction[4] < OTHER_SIGNAL_MAX) & (prediction[5] < OTHER_SIGNAL_MAX) & (prediction[6] < OTHER_SIGNAL_MAX):\n",
    "        return prediction[0]\n",
    "    return prediction"
   ]
  },
  {
   "cell_type": "code",
   "execution_count": null,
   "id": "c1bcc083-389a-4c8f-98ed-53580d1b7974",
   "metadata": {},
   "outputs": [
    {
     "name": "stderr",
     "output_type": "stream",
     "text": [
      "  0%|          | 9/28210 [00:09<4:46:56,  1.64it/s] /home/jovyan/my-conda-envs/transformers/lib/python3.8/site-packages/transformers/pipelines/base.py:1043: UserWarning: You seem to be using the pipelines sequentially on GPU. In order to maximize efficiency please use a dataset\n",
      "  warnings.warn(\n",
      " 50%|████▉     | 13986/28210 [22:46<12:03, 19.65it/s]  "
     ]
    }
   ],
   "source": [
    "df['SPOUT_classification'] = df.progress_apply(get_class, axis=1)"
   ]
  },
  {
   "cell_type": "code",
   "execution_count": 16,
   "id": "9f5cd5c6-4898-4004-897f-0fea955fbdd0",
   "metadata": {},
   "outputs": [
    {
     "data": {
      "text/html": [
       "<div>\n",
       "<style scoped>\n",
       "    .dataframe tbody tr th:only-of-type {\n",
       "        vertical-align: middle;\n",
       "    }\n",
       "\n",
       "    .dataframe tbody tr th {\n",
       "        vertical-align: top;\n",
       "    }\n",
       "\n",
       "    .dataframe thead th {\n",
       "        text-align: right;\n",
       "    }\n",
       "</style>\n",
       "<table border=\"1\" class=\"dataframe\">\n",
       "  <thead>\n",
       "    <tr style=\"text-align: right;\">\n",
       "      <th></th>\n",
       "      <th>ID</th>\n",
       "      <th>Sequence</th>\n",
       "      <th>xref_interpro</th>\n",
       "      <th>protein_families</th>\n",
       "      <th>SPOUT_classification</th>\n",
       "    </tr>\n",
       "  </thead>\n",
       "  <tbody>\n",
       "    <tr>\n",
       "      <th>0</th>\n",
       "      <td>Q86U90</td>\n",
       "      <td>MSPARRCRGMRAAVAASVGLSEGPAGSRSGRLFRPPSPAPAAPGAR...</td>\n",
       "      <td>IPR017945;IPR006070;</td>\n",
       "      <td>SUA5 family</td>\n",
       "      <td>[5.620612621307373, -5.080528736114502, -4.030...</td>\n",
       "    </tr>\n",
       "    <tr>\n",
       "      <th>1</th>\n",
       "      <td>P32579</td>\n",
       "      <td>MYLGRHFLAMTSKALFDTKILKVNPLSIIFSPDAHIDGSLPTITDP...</td>\n",
       "      <td>IPR017945;IPR006070;IPR038385;IPR005145;IPR010...</td>\n",
       "      <td>SUA5 family</td>\n",
       "      <td>[11.250757217407227, -4.741343975067139, -2.76...</td>\n",
       "    </tr>\n",
       "    <tr>\n",
       "      <th>2</th>\n",
       "      <td>Q3U5F4</td>\n",
       "      <td>MSTARPCAGLRAAVAAGMGLSDGPASSGRGCRLLRPPEPAPALPGA...</td>\n",
       "      <td>IPR017945;IPR006070;</td>\n",
       "      <td>SUA5 family</td>\n",
       "      <td>[5.418772220611572, -4.671252250671387, -3.143...</td>\n",
       "    </tr>\n",
       "    <tr>\n",
       "      <th>3</th>\n",
       "      <td>P45748</td>\n",
       "      <td>MNNNLQRDAIAAAIDVLNEERVIAYPTEAVFGVGCDPDSETAVMRL...</td>\n",
       "      <td>IPR017945;IPR006070;IPR023535;</td>\n",
       "      <td>SUA5 family, TsaC subfamily</td>\n",
       "      <td>[4.522557735443115, -3.3533084392547607, -3.33...</td>\n",
       "    </tr>\n",
       "    <tr>\n",
       "      <th>4</th>\n",
       "      <td>Q499R4</td>\n",
       "      <td>MSTARPCAGLRAAVAAGMGLSDGPAGSSRGCRLLRPPAPAPALPGA...</td>\n",
       "      <td>IPR017945;IPR006070;</td>\n",
       "      <td>SUA5 family</td>\n",
       "      <td>[5.367674350738525, -4.529707431793213, -3.948...</td>\n",
       "    </tr>\n",
       "    <tr>\n",
       "      <th>...</th>\n",
       "      <td>...</td>\n",
       "      <td>...</td>\n",
       "      <td>...</td>\n",
       "      <td>...</td>\n",
       "      <td>...</td>\n",
       "    </tr>\n",
       "    <tr>\n",
       "      <th>28205</th>\n",
       "      <td>A0A8J4YTV4</td>\n",
       "      <td>MTGEHVYRPDKAGLAAAVAAINAGQPIVIPTDTVYGLAVRAGDPAA...</td>\n",
       "      <td>IPR000793;IPR038376;IPR005294;IPR017945;IPR035...</td>\n",
       "      <td>ATPase A chain family; ATPase alpha/beta chain...</td>\n",
       "      <td>[-1.4523119926452637, -5.212150573730469, -2.9...</td>\n",
       "    </tr>\n",
       "    <tr>\n",
       "      <th>28206</th>\n",
       "      <td>A0A8U0Q8M2</td>\n",
       "      <td>MATLDGFPASFYGEPGVLGMLANGISAFLVLLQNFNTARTGVPAEG...</td>\n",
       "      <td>IPR017945;IPR000791;IPR006070;</td>\n",
       "      <td>SUA5 family; Acetate uptake transporter (AceTr...</td>\n",
       "      <td>[-1.874422311782837, -15.126782417297363, -6.8...</td>\n",
       "    </tr>\n",
       "    <tr>\n",
       "      <th>28207</th>\n",
       "      <td>A0A8V0YD24</td>\n",
       "      <td>MVSTAGFAAVFYSEPAVLGLLANVISAFLLCLQNFATAHTGLKPQG...</td>\n",
       "      <td>IPR017945;IPR000791;IPR006070;</td>\n",
       "      <td>SUA5 family; Acetate uptake transporter (AceTr...</td>\n",
       "      <td>[-1.7296158075332642, -12.199769020080566, -5....</td>\n",
       "    </tr>\n",
       "    <tr>\n",
       "      <th>28208</th>\n",
       "      <td>A0A0A2VYR0</td>\n",
       "      <td>MTWDVLPQDFSIRHSGSGAMDTQIVPDAATCPECLRELNCPADRRY...</td>\n",
       "      <td>IPR004421;IPR017945;IPR041440;IPR004688;IPR011...</td>\n",
       "      <td>NiCoT transporter (TC 2.A.52) family; SUA5 fam...</td>\n",
       "      <td>11.500462</td>\n",
       "    </tr>\n",
       "    <tr>\n",
       "      <th>28209</th>\n",
       "      <td>A0A448ZR73</td>\n",
       "      <td>MIAVAQHNEIESVGTTHGEIADNPSVSAVSARLVPQTELKECGERL...</td>\n",
       "      <td>IPR017945;IPR041095;IPR009022;IPR035647;IPR000...</td>\n",
       "      <td>GTP-binding elongation factor family, EF-G/EF-...</td>\n",
       "      <td>[12.561044692993164, 10.569371223449707, -6.74...</td>\n",
       "    </tr>\n",
       "  </tbody>\n",
       "</table>\n",
       "<p>28210 rows × 5 columns</p>\n",
       "</div>"
      ],
      "text/plain": [
       "               ID                                           Sequence  \\\n",
       "0          Q86U90  MSPARRCRGMRAAVAASVGLSEGPAGSRSGRLFRPPSPAPAAPGAR...   \n",
       "1          P32579  MYLGRHFLAMTSKALFDTKILKVNPLSIIFSPDAHIDGSLPTITDP...   \n",
       "2          Q3U5F4  MSTARPCAGLRAAVAAGMGLSDGPASSGRGCRLLRPPEPAPALPGA...   \n",
       "3          P45748  MNNNLQRDAIAAAIDVLNEERVIAYPTEAVFGVGCDPDSETAVMRL...   \n",
       "4          Q499R4  MSTARPCAGLRAAVAAGMGLSDGPAGSSRGCRLLRPPAPAPALPGA...   \n",
       "...           ...                                                ...   \n",
       "28205  A0A8J4YTV4  MTGEHVYRPDKAGLAAAVAAINAGQPIVIPTDTVYGLAVRAGDPAA...   \n",
       "28206  A0A8U0Q8M2  MATLDGFPASFYGEPGVLGMLANGISAFLVLLQNFNTARTGVPAEG...   \n",
       "28207  A0A8V0YD24  MVSTAGFAAVFYSEPAVLGLLANVISAFLLCLQNFATAHTGLKPQG...   \n",
       "28208  A0A0A2VYR0  MTWDVLPQDFSIRHSGSGAMDTQIVPDAATCPECLRELNCPADRRY...   \n",
       "28209  A0A448ZR73  MIAVAQHNEIESVGTTHGEIADNPSVSAVSARLVPQTELKECGERL...   \n",
       "\n",
       "                                           xref_interpro  \\\n",
       "0                                   IPR017945;IPR006070;   \n",
       "1      IPR017945;IPR006070;IPR038385;IPR005145;IPR010...   \n",
       "2                                   IPR017945;IPR006070;   \n",
       "3                         IPR017945;IPR006070;IPR023535;   \n",
       "4                                   IPR017945;IPR006070;   \n",
       "...                                                  ...   \n",
       "28205  IPR000793;IPR038376;IPR005294;IPR017945;IPR035...   \n",
       "28206                     IPR017945;IPR000791;IPR006070;   \n",
       "28207                     IPR017945;IPR000791;IPR006070;   \n",
       "28208  IPR004421;IPR017945;IPR041440;IPR004688;IPR011...   \n",
       "28209  IPR017945;IPR041095;IPR009022;IPR035647;IPR000...   \n",
       "\n",
       "                                        protein_families  \\\n",
       "0                                            SUA5 family   \n",
       "1                                            SUA5 family   \n",
       "2                                            SUA5 family   \n",
       "3                            SUA5 family, TsaC subfamily   \n",
       "4                                            SUA5 family   \n",
       "...                                                  ...   \n",
       "28205  ATPase A chain family; ATPase alpha/beta chain...   \n",
       "28206  SUA5 family; Acetate uptake transporter (AceTr...   \n",
       "28207  SUA5 family; Acetate uptake transporter (AceTr...   \n",
       "28208  NiCoT transporter (TC 2.A.52) family; SUA5 fam...   \n",
       "28209  GTP-binding elongation factor family, EF-G/EF-...   \n",
       "\n",
       "                                    SPOUT_classification  \n",
       "0      [5.620612621307373, -5.080528736114502, -4.030...  \n",
       "1      [11.250757217407227, -4.741343975067139, -2.76...  \n",
       "2      [5.418772220611572, -4.671252250671387, -3.143...  \n",
       "3      [4.522557735443115, -3.3533084392547607, -3.33...  \n",
       "4      [5.367674350738525, -4.529707431793213, -3.948...  \n",
       "...                                                  ...  \n",
       "28205  [-1.4523119926452637, -5.212150573730469, -2.9...  \n",
       "28206  [-1.874422311782837, -15.126782417297363, -6.8...  \n",
       "28207  [-1.7296158075332642, -12.199769020080566, -5....  \n",
       "28208                                          11.500462  \n",
       "28209  [12.561044692993164, 10.569371223449707, -6.74...  \n",
       "\n",
       "[28210 rows x 5 columns]"
      ]
     },
     "execution_count": 16,
     "metadata": {},
     "output_type": "execute_result"
    }
   ],
   "source": [
    "df"
   ]
  },
  {
   "cell_type": "markdown",
   "id": "75b53263-8fcb-490c-af15-a0ad4c5d8fb6",
   "metadata": {},
   "source": [
    "## See if knotted"
   ]
  },
  {
   "cell_type": "code",
   "execution_count": 18,
   "id": "36432154-98ef-47f0-9abd-4d8f005cc08b",
   "metadata": {},
   "outputs": [],
   "source": [
    "from datasets import Dataset, load_dataset\n",
    "import pandas as pd\n",
    "from tqdm import tqdm\n",
    "import torch\n",
    "import numpy as np\n",
    "from transformers import AutoModelForSequenceClassification, AutoTokenizer, DataCollator, Trainer, TrainingArguments\n",
    "from datasets import load_metric, Features, Value\n",
    "from sklearn.metrics import accuracy_score, precision_recall_fscore_support, recall_score\n",
    "from math import exp"
   ]
  },
  {
   "cell_type": "code",
   "execution_count": 22,
   "id": "b0f312cd-3443-4980-84c2-0e3dfd8a9070",
   "metadata": {},
   "outputs": [],
   "source": [
    "def tokenize_function(s):\n",
    "  seq_split = \" \".join(s['Sequence'])\n",
    "  return tokenizerM1(seq_split)"
   ]
  },
  {
   "cell_type": "code",
   "execution_count": 23,
   "id": "1c9e8521-ce7b-4fdb-99e4-89c10984cefe",
   "metadata": {},
   "outputs": [],
   "source": [
    "tokenizerM1 = AutoTokenizer.from_pretrained(\"roa7n/knots_protbertBFD_alphafold\")\n",
    "modelM1 = AutoModelForSequenceClassification.from_pretrained(\"roa7n/knots_protbertBFD_alphafold\")"
   ]
  },
  {
   "cell_type": "code",
   "execution_count": 25,
   "id": "05eaa5fa-245a-4340-8958-4eabfa1c9c45",
   "metadata": {},
   "outputs": [
    {
     "name": "stdout",
     "output_type": "stream",
     "text": [
      "     "
     ]
    },
    {
     "data": {
      "application/vnd.jupyter.widget-view+json": {
       "model_id": "6399018cb1754cc68ea6190191d1e071",
       "version_major": 2,
       "version_minor": 0
      },
      "text/plain": [
       "#0:   0%|          | 0/7053 [00:00<?, ?ex/s]"
      ]
     },
     "metadata": {},
     "output_type": "display_data"
    },
    {
     "name": "stdout",
     "output_type": "stream",
     "text": [
      " "
     ]
    },
    {
     "data": {
      "application/vnd.jupyter.widget-view+json": {
       "model_id": "90deb6f95c6241a693563f030d0b8176",
       "version_major": 2,
       "version_minor": 0
      },
      "text/plain": [
       "#1:   0%|          | 0/7053 [00:00<?, ?ex/s]"
      ]
     },
     "metadata": {},
     "output_type": "display_data"
    },
    {
     "name": "stdout",
     "output_type": "stream",
     "text": [
      " "
     ]
    },
    {
     "data": {
      "application/vnd.jupyter.widget-view+json": {
       "model_id": "533a2d12b2bd4ddea73208bbffffe2c8",
       "version_major": 2,
       "version_minor": 0
      },
      "text/plain": [
       "#2:   0%|          | 0/7052 [00:00<?, ?ex/s]"
      ]
     },
     "metadata": {},
     "output_type": "display_data"
    },
    {
     "name": "stdout",
     "output_type": "stream",
     "text": [
      " "
     ]
    },
    {
     "data": {
      "application/vnd.jupyter.widget-view+json": {
       "model_id": "0926e58c1a70406f8974898de16f5b88",
       "version_major": 2,
       "version_minor": 0
      },
      "text/plain": [
       "#3:   0%|          | 0/7052 [00:00<?, ?ex/s]"
      ]
     },
     "metadata": {},
     "output_type": "display_data"
    }
   ],
   "source": [
    "dss = Dataset.from_pandas(df[['Sequence']])\n",
    "\n",
    "tokenized_dataset = dss.map(tokenize_function, num_proc=4)\n",
    "tokenized_dataset.set_format(\"pt\")"
   ]
  },
  {
   "cell_type": "code",
   "execution_count": 26,
   "id": "c9da092b-cd3a-4ff3-be08-1c49525716ae",
   "metadata": {},
   "outputs": [
    {
     "name": "stderr",
     "output_type": "stream",
     "text": [
      "Using cuda_amp half precision backend\n",
      "The following columns in the test set don't have a corresponding argument in `BertForSequenceClassification.forward` and have been ignored: Sequence. If Sequence are not expected by `BertForSequenceClassification.forward`,  you can safely ignore this message.\n",
      "***** Running Prediction *****\n",
      "  Num examples = 28210\n",
      "  Batch size = 1\n",
      "You're using a BertTokenizerFast tokenizer. Please note that with a fast tokenizer, using the `__call__` method is faster than using a method to encode the text followed by a call to the `pad` method to get a padded encoding.\n"
     ]
    },
    {
     "data": {
      "text/html": [],
      "text/plain": [
       "<IPython.core.display.HTML object>"
      ]
     },
     "metadata": {},
     "output_type": "display_data"
    }
   ],
   "source": [
    "training_args = TrainingArguments('outputs', fp16=True, per_device_eval_batch_size=1, report_to='none')  \n",
    "\n",
    "trainer = Trainer(\n",
    "    modelM1,\n",
    "    training_args,\n",
    "    train_dataset=tokenized_dataset,\n",
    "    eval_dataset=tokenized_dataset,\n",
    "    tokenizer=tokenizerM1\n",
    ")\n",
    "\n",
    "predictions, _, _ = trainer.predict(tokenized_dataset)\n",
    "predictions = [np.exp(p[1]) / np.sum(np.exp(p), axis=0) for p in predictions]\n",
    "df['knotted'] = predictions"
   ]
  },
  {
   "cell_type": "code",
   "execution_count": 27,
   "id": "f0c67bec-8a9b-4a96-8840-c29448a09570",
   "metadata": {},
   "outputs": [],
   "source": [
    "df.to_csv('SUA5_SPOUT_evaluation.tsv', sep='\\t', index=False)"
   ]
  },
  {
   "cell_type": "code",
   "execution_count": 31,
   "id": "098e0fff-8786-4f39-a159-5d4dbc2b1c57",
   "metadata": {},
   "outputs": [
    {
     "data": {
      "text/html": [
       "<div>\n",
       "<style scoped>\n",
       "    .dataframe tbody tr th:only-of-type {\n",
       "        vertical-align: middle;\n",
       "    }\n",
       "\n",
       "    .dataframe tbody tr th {\n",
       "        vertical-align: top;\n",
       "    }\n",
       "\n",
       "    .dataframe thead th {\n",
       "        text-align: right;\n",
       "    }\n",
       "</style>\n",
       "<table border=\"1\" class=\"dataframe\">\n",
       "  <thead>\n",
       "    <tr style=\"text-align: right;\">\n",
       "      <th></th>\n",
       "      <th>ID</th>\n",
       "      <th>Sequence</th>\n",
       "      <th>xref_interpro</th>\n",
       "      <th>protein_families</th>\n",
       "      <th>SPOUT_classification</th>\n",
       "      <th>knotted</th>\n",
       "    </tr>\n",
       "  </thead>\n",
       "  <tbody>\n",
       "    <tr>\n",
       "      <th>5</th>\n",
       "      <td>P39153</td>\n",
       "      <td>MKTKRWFVDVTDELSTNDPQIAQAAALLRENEVVAFPTETVYGLGA...</td>\n",
       "      <td>IPR017945;IPR006070;IPR038385;IPR005145;IPR010...</td>\n",
       "      <td>SUA5 family</td>\n",
       "      <td>10.207406</td>\n",
       "      <td>0.996094</td>\n",
       "    </tr>\n",
       "    <tr>\n",
       "      <th>10</th>\n",
       "      <td>Q9UYB2</td>\n",
       "      <td>MTIIINVRERIEEWKIRIAAGFIREGKLVAFPTETVYGLGANALDE...</td>\n",
       "      <td>IPR017945;IPR006070;IPR038385;IPR005145;IPR010...</td>\n",
       "      <td>SUA5 family</td>\n",
       "      <td>11.630935</td>\n",
       "      <td>0.995117</td>\n",
       "    </tr>\n",
       "    <tr>\n",
       "      <th>187</th>\n",
       "      <td>A5HY38</td>\n",
       "      <td>MKTKVMRLDENNIDEHVISEAGDILRQGGLVVFPTETVYGLGANAL...</td>\n",
       "      <td>IPR017945;IPR006070;IPR038385;IPR005145;IPR010...</td>\n",
       "      <td>SUA5 family</td>\n",
       "      <td>10.680384</td>\n",
       "      <td>0.978516</td>\n",
       "    </tr>\n",
       "    <tr>\n",
       "      <th>194</th>\n",
       "      <td>Q5JIA4</td>\n",
       "      <td>MTIVINMRDGLDEKKIKVAARLILEGKLVAFPTETVYGLGADALNE...</td>\n",
       "      <td>IPR017945;IPR006070;IPR038385;IPR005145;IPR010...</td>\n",
       "      <td>SUA5 family</td>\n",
       "      <td>11.213667</td>\n",
       "      <td>0.995117</td>\n",
       "    </tr>\n",
       "    <tr>\n",
       "      <th>198</th>\n",
       "      <td>A0A075AQP2</td>\n",
       "      <td>MDTKILEFPPVKRKTGGKHSYLYEEIDFFENLNIKRAVKSLKEGSV...</td>\n",
       "      <td>IPR017945;IPR006070;IPR038385;IPR005145;IPR010...</td>\n",
       "      <td>SUA5 family</td>\n",
       "      <td>10.967866</td>\n",
       "      <td>0.970215</td>\n",
       "    </tr>\n",
       "    <tr>\n",
       "      <th>...</th>\n",
       "      <td>...</td>\n",
       "      <td>...</td>\n",
       "      <td>...</td>\n",
       "      <td>...</td>\n",
       "      <td>...</td>\n",
       "      <td>...</td>\n",
       "    </tr>\n",
       "    <tr>\n",
       "      <th>27807</th>\n",
       "      <td>A0A6A6D6I1</td>\n",
       "      <td>METRTLPVDASKLGKVIATPLPDDILDELDIELSLDSQDARHLKDA...</td>\n",
       "      <td>IPR017945;IPR006070;IPR038385;IPR005145;</td>\n",
       "      <td>SUA5 family</td>\n",
       "      <td>10.754261</td>\n",
       "      <td>0.997559</td>\n",
       "    </tr>\n",
       "    <tr>\n",
       "      <th>27971</th>\n",
       "      <td>A0A8H2ZZW0</td>\n",
       "      <td>MTVNHHPLRVLKCDPSSVNFDSPSPSTSRHVINDTETRTAIKAAAE...</td>\n",
       "      <td>IPR017945;IPR006070;IPR038385;IPR005145;</td>\n",
       "      <td>SUA5 family</td>\n",
       "      <td>10.371222</td>\n",
       "      <td>0.994141</td>\n",
       "    </tr>\n",
       "    <tr>\n",
       "      <th>28024</th>\n",
       "      <td>A7AVF9</td>\n",
       "      <td>MDVLSGIQRVTPVRVTLTDTSIETLDLLKSHLSIPGNLIALPTETV...</td>\n",
       "      <td>IPR017945;IPR006070;IPR038385;IPR005145;</td>\n",
       "      <td>SUA5 family</td>\n",
       "      <td>10.173036</td>\n",
       "      <td>0.991699</td>\n",
       "    </tr>\n",
       "    <tr>\n",
       "      <th>28046</th>\n",
       "      <td>K8YNJ8</td>\n",
       "      <td>MTVSTSASTSSSPPTIEAELTSDVDRAGDYLRAGGLVAFPTETVYG...</td>\n",
       "      <td>IPR017945;IPR006070;IPR038385;IPR005145;</td>\n",
       "      <td>SUA5 family</td>\n",
       "      <td>11.472482</td>\n",
       "      <td>0.994141</td>\n",
       "    </tr>\n",
       "    <tr>\n",
       "      <th>28208</th>\n",
       "      <td>A0A0A2VYR0</td>\n",
       "      <td>MTWDVLPQDFSIRHSGSGAMDTQIVPDAATCPECLRELNCPADRRY...</td>\n",
       "      <td>IPR004421;IPR017945;IPR041440;IPR004688;IPR011...</td>\n",
       "      <td>NiCoT transporter (TC 2.A.52) family; SUA5 fam...</td>\n",
       "      <td>11.500462</td>\n",
       "      <td>0.997559</td>\n",
       "    </tr>\n",
       "  </tbody>\n",
       "</table>\n",
       "<p>4188 rows × 6 columns</p>\n",
       "</div>"
      ],
      "text/plain": [
       "               ID                                           Sequence  \\\n",
       "5          P39153  MKTKRWFVDVTDELSTNDPQIAQAAALLRENEVVAFPTETVYGLGA...   \n",
       "10         Q9UYB2  MTIIINVRERIEEWKIRIAAGFIREGKLVAFPTETVYGLGANALDE...   \n",
       "187        A5HY38  MKTKVMRLDENNIDEHVISEAGDILRQGGLVVFPTETVYGLGANAL...   \n",
       "194        Q5JIA4  MTIVINMRDGLDEKKIKVAARLILEGKLVAFPTETVYGLGADALNE...   \n",
       "198    A0A075AQP2  MDTKILEFPPVKRKTGGKHSYLYEEIDFFENLNIKRAVKSLKEGSV...   \n",
       "...           ...                                                ...   \n",
       "27807  A0A6A6D6I1  METRTLPVDASKLGKVIATPLPDDILDELDIELSLDSQDARHLKDA...   \n",
       "27971  A0A8H2ZZW0  MTVNHHPLRVLKCDPSSVNFDSPSPSTSRHVINDTETRTAIKAAAE...   \n",
       "28024      A7AVF9  MDVLSGIQRVTPVRVTLTDTSIETLDLLKSHLSIPGNLIALPTETV...   \n",
       "28046      K8YNJ8  MTVSTSASTSSSPPTIEAELTSDVDRAGDYLRAGGLVAFPTETVYG...   \n",
       "28208  A0A0A2VYR0  MTWDVLPQDFSIRHSGSGAMDTQIVPDAATCPECLRELNCPADRRY...   \n",
       "\n",
       "                                           xref_interpro  \\\n",
       "5      IPR017945;IPR006070;IPR038385;IPR005145;IPR010...   \n",
       "10     IPR017945;IPR006070;IPR038385;IPR005145;IPR010...   \n",
       "187    IPR017945;IPR006070;IPR038385;IPR005145;IPR010...   \n",
       "194    IPR017945;IPR006070;IPR038385;IPR005145;IPR010...   \n",
       "198    IPR017945;IPR006070;IPR038385;IPR005145;IPR010...   \n",
       "...                                                  ...   \n",
       "27807           IPR017945;IPR006070;IPR038385;IPR005145;   \n",
       "27971           IPR017945;IPR006070;IPR038385;IPR005145;   \n",
       "28024           IPR017945;IPR006070;IPR038385;IPR005145;   \n",
       "28046           IPR017945;IPR006070;IPR038385;IPR005145;   \n",
       "28208  IPR004421;IPR017945;IPR041440;IPR004688;IPR011...   \n",
       "\n",
       "                                        protein_families SPOUT_classification  \\\n",
       "5                                            SUA5 family            10.207406   \n",
       "10                                           SUA5 family            11.630935   \n",
       "187                                          SUA5 family            10.680384   \n",
       "194                                          SUA5 family            11.213667   \n",
       "198                                          SUA5 family            10.967866   \n",
       "...                                                  ...                  ...   \n",
       "27807                                        SUA5 family            10.754261   \n",
       "27971                                        SUA5 family            10.371222   \n",
       "28024                                        SUA5 family            10.173036   \n",
       "28046                                        SUA5 family            11.472482   \n",
       "28208  NiCoT transporter (TC 2.A.52) family; SUA5 fam...            11.500462   \n",
       "\n",
       "        knotted  \n",
       "5      0.996094  \n",
       "10     0.995117  \n",
       "187    0.978516  \n",
       "194    0.995117  \n",
       "198    0.970215  \n",
       "...         ...  \n",
       "27807  0.997559  \n",
       "27971  0.994141  \n",
       "28024  0.991699  \n",
       "28046  0.994141  \n",
       "28208  0.997559  \n",
       "\n",
       "[4188 rows x 6 columns]"
      ]
     },
     "execution_count": 31,
     "metadata": {},
     "output_type": "execute_result"
    }
   ],
   "source": [
    "df[~df['SPOUT_classification'].apply(lambda x: isinstance(x, list))]"
   ]
  },
  {
   "cell_type": "code",
   "execution_count": 33,
   "id": "3147a7d5-1164-406c-863b-234aa7008701",
   "metadata": {},
   "outputs": [
    {
     "data": {
      "text/html": [
       "<div>\n",
       "<style scoped>\n",
       "    .dataframe tbody tr th:only-of-type {\n",
       "        vertical-align: middle;\n",
       "    }\n",
       "\n",
       "    .dataframe tbody tr th {\n",
       "        vertical-align: top;\n",
       "    }\n",
       "\n",
       "    .dataframe thead th {\n",
       "        text-align: right;\n",
       "    }\n",
       "</style>\n",
       "<table border=\"1\" class=\"dataframe\">\n",
       "  <thead>\n",
       "    <tr style=\"text-align: right;\">\n",
       "      <th></th>\n",
       "      <th>ID</th>\n",
       "      <th>Sequence</th>\n",
       "      <th>xref_interpro</th>\n",
       "      <th>protein_families</th>\n",
       "      <th>SPOUT_classification</th>\n",
       "      <th>knotted</th>\n",
       "    </tr>\n",
       "  </thead>\n",
       "  <tbody>\n",
       "    <tr>\n",
       "      <th>0</th>\n",
       "      <td>Q86U90</td>\n",
       "      <td>MSPARRCRGMRAAVAASVGLSEGPAGSRSGRLFRPPSPAPAAPGAR...</td>\n",
       "      <td>IPR017945;IPR006070;</td>\n",
       "      <td>SUA5 family</td>\n",
       "      <td>[5.620612621307373, -5.080528736114502, -4.030...</td>\n",
       "      <td>0.990234</td>\n",
       "    </tr>\n",
       "    <tr>\n",
       "      <th>1</th>\n",
       "      <td>P32579</td>\n",
       "      <td>MYLGRHFLAMTSKALFDTKILKVNPLSIIFSPDAHIDGSLPTITDP...</td>\n",
       "      <td>IPR017945;IPR006070;IPR038385;IPR005145;IPR010...</td>\n",
       "      <td>SUA5 family</td>\n",
       "      <td>[11.250757217407227, -4.741343975067139, -2.76...</td>\n",
       "      <td>0.996094</td>\n",
       "    </tr>\n",
       "    <tr>\n",
       "      <th>2</th>\n",
       "      <td>Q3U5F4</td>\n",
       "      <td>MSTARPCAGLRAAVAAGMGLSDGPASSGRGCRLLRPPEPAPALPGA...</td>\n",
       "      <td>IPR017945;IPR006070;</td>\n",
       "      <td>SUA5 family</td>\n",
       "      <td>[5.418772220611572, -4.671252250671387, -3.143...</td>\n",
       "      <td>0.991211</td>\n",
       "    </tr>\n",
       "    <tr>\n",
       "      <th>4</th>\n",
       "      <td>Q499R4</td>\n",
       "      <td>MSTARPCAGLRAAVAAGMGLSDGPAGSSRGCRLLRPPAPAPALPGA...</td>\n",
       "      <td>IPR017945;IPR006070;</td>\n",
       "      <td>SUA5 family</td>\n",
       "      <td>[5.367674350738525, -4.529707431793213, -3.948...</td>\n",
       "      <td>0.989746</td>\n",
       "    </tr>\n",
       "    <tr>\n",
       "      <th>5</th>\n",
       "      <td>P39153</td>\n",
       "      <td>MKTKRWFVDVTDELSTNDPQIAQAAALLRENEVVAFPTETVYGLGA...</td>\n",
       "      <td>IPR017945;IPR006070;IPR038385;IPR005145;IPR010...</td>\n",
       "      <td>SUA5 family</td>\n",
       "      <td>10.207406</td>\n",
       "      <td>0.996094</td>\n",
       "    </tr>\n",
       "    <tr>\n",
       "      <th>...</th>\n",
       "      <td>...</td>\n",
       "      <td>...</td>\n",
       "      <td>...</td>\n",
       "      <td>...</td>\n",
       "      <td>...</td>\n",
       "      <td>...</td>\n",
       "    </tr>\n",
       "    <tr>\n",
       "      <th>28128</th>\n",
       "      <td>A0A3P9BZC4</td>\n",
       "      <td>MATLEGFPASFYGEPGVMGMLANGISAFLVLLQNFNTAHTGKEAYG...</td>\n",
       "      <td>IPR017945;IPR000791;IPR006070;</td>\n",
       "      <td>SUA5 family; Acetate uptake transporter (AceTr...</td>\n",
       "      <td>[0.04365567862987518, -11.512506484985352, -7....</td>\n",
       "      <td>0.928223</td>\n",
       "    </tr>\n",
       "    <tr>\n",
       "      <th>28159</th>\n",
       "      <td>A0A484CYB5</td>\n",
       "      <td>MATSDGFPASFYGEPGVLGMLSNGISAFLVLLQNFNTAHTGNAPVG...</td>\n",
       "      <td>IPR017945;IPR000791;IPR006070;</td>\n",
       "      <td>SUA5 family; Acetate uptake transporter (AceTr...</td>\n",
       "      <td>[-1.5244265794754028, -12.74111270904541, -4.4...</td>\n",
       "      <td>0.931152</td>\n",
       "    </tr>\n",
       "    <tr>\n",
       "      <th>28182</th>\n",
       "      <td>A0A3P8NV22</td>\n",
       "      <td>MATLEGFPASFYGEPGVLGMLANGISAFLVLLQNFNTAHTGKEAYG...</td>\n",
       "      <td>IPR017945;IPR000791;IPR006070;</td>\n",
       "      <td>SUA5 family; Acetate uptake transporter (AceTr...</td>\n",
       "      <td>[-0.1679820567369461, -11.23070240020752, -6.4...</td>\n",
       "      <td>0.922363</td>\n",
       "    </tr>\n",
       "    <tr>\n",
       "      <th>28208</th>\n",
       "      <td>A0A0A2VYR0</td>\n",
       "      <td>MTWDVLPQDFSIRHSGSGAMDTQIVPDAATCPECLRELNCPADRRY...</td>\n",
       "      <td>IPR004421;IPR017945;IPR041440;IPR004688;IPR011...</td>\n",
       "      <td>NiCoT transporter (TC 2.A.52) family; SUA5 fam...</td>\n",
       "      <td>11.500462</td>\n",
       "      <td>0.997559</td>\n",
       "    </tr>\n",
       "    <tr>\n",
       "      <th>28209</th>\n",
       "      <td>A0A448ZR73</td>\n",
       "      <td>MIAVAQHNEIESVGTTHGEIADNPSVSAVSARLVPQTELKECGERL...</td>\n",
       "      <td>IPR017945;IPR041095;IPR009022;IPR035647;IPR000...</td>\n",
       "      <td>GTP-binding elongation factor family, EF-G/EF-...</td>\n",
       "      <td>[12.561044692993164, 10.569371223449707, -6.74...</td>\n",
       "      <td>0.983398</td>\n",
       "    </tr>\n",
       "  </tbody>\n",
       "</table>\n",
       "<p>18597 rows × 6 columns</p>\n",
       "</div>"
      ],
      "text/plain": [
       "               ID                                           Sequence  \\\n",
       "0          Q86U90  MSPARRCRGMRAAVAASVGLSEGPAGSRSGRLFRPPSPAPAAPGAR...   \n",
       "1          P32579  MYLGRHFLAMTSKALFDTKILKVNPLSIIFSPDAHIDGSLPTITDP...   \n",
       "2          Q3U5F4  MSTARPCAGLRAAVAAGMGLSDGPASSGRGCRLLRPPEPAPALPGA...   \n",
       "4          Q499R4  MSTARPCAGLRAAVAAGMGLSDGPAGSSRGCRLLRPPAPAPALPGA...   \n",
       "5          P39153  MKTKRWFVDVTDELSTNDPQIAQAAALLRENEVVAFPTETVYGLGA...   \n",
       "...           ...                                                ...   \n",
       "28128  A0A3P9BZC4  MATLEGFPASFYGEPGVMGMLANGISAFLVLLQNFNTAHTGKEAYG...   \n",
       "28159  A0A484CYB5  MATSDGFPASFYGEPGVLGMLSNGISAFLVLLQNFNTAHTGNAPVG...   \n",
       "28182  A0A3P8NV22  MATLEGFPASFYGEPGVLGMLANGISAFLVLLQNFNTAHTGKEAYG...   \n",
       "28208  A0A0A2VYR0  MTWDVLPQDFSIRHSGSGAMDTQIVPDAATCPECLRELNCPADRRY...   \n",
       "28209  A0A448ZR73  MIAVAQHNEIESVGTTHGEIADNPSVSAVSARLVPQTELKECGERL...   \n",
       "\n",
       "                                           xref_interpro  \\\n",
       "0                                   IPR017945;IPR006070;   \n",
       "1      IPR017945;IPR006070;IPR038385;IPR005145;IPR010...   \n",
       "2                                   IPR017945;IPR006070;   \n",
       "4                                   IPR017945;IPR006070;   \n",
       "5      IPR017945;IPR006070;IPR038385;IPR005145;IPR010...   \n",
       "...                                                  ...   \n",
       "28128                     IPR017945;IPR000791;IPR006070;   \n",
       "28159                     IPR017945;IPR000791;IPR006070;   \n",
       "28182                     IPR017945;IPR000791;IPR006070;   \n",
       "28208  IPR004421;IPR017945;IPR041440;IPR004688;IPR011...   \n",
       "28209  IPR017945;IPR041095;IPR009022;IPR035647;IPR000...   \n",
       "\n",
       "                                        protein_families  \\\n",
       "0                                            SUA5 family   \n",
       "1                                            SUA5 family   \n",
       "2                                            SUA5 family   \n",
       "4                                            SUA5 family   \n",
       "5                                            SUA5 family   \n",
       "...                                                  ...   \n",
       "28128  SUA5 family; Acetate uptake transporter (AceTr...   \n",
       "28159  SUA5 family; Acetate uptake transporter (AceTr...   \n",
       "28182  SUA5 family; Acetate uptake transporter (AceTr...   \n",
       "28208  NiCoT transporter (TC 2.A.52) family; SUA5 fam...   \n",
       "28209  GTP-binding elongation factor family, EF-G/EF-...   \n",
       "\n",
       "                                    SPOUT_classification   knotted  \n",
       "0      [5.620612621307373, -5.080528736114502, -4.030...  0.990234  \n",
       "1      [11.250757217407227, -4.741343975067139, -2.76...  0.996094  \n",
       "2      [5.418772220611572, -4.671252250671387, -3.143...  0.991211  \n",
       "4      [5.367674350738525, -4.529707431793213, -3.948...  0.989746  \n",
       "5                                              10.207406  0.996094  \n",
       "...                                                  ...       ...  \n",
       "28128  [0.04365567862987518, -11.512506484985352, -7....  0.928223  \n",
       "28159  [-1.5244265794754028, -12.74111270904541, -4.4...  0.931152  \n",
       "28182  [-0.1679820567369461, -11.23070240020752, -6.4...  0.922363  \n",
       "28208                                          11.500462  0.997559  \n",
       "28209  [12.561044692993164, 10.569371223449707, -6.74...  0.983398  \n",
       "\n",
       "[18597 rows x 6 columns]"
      ]
     },
     "execution_count": 33,
     "metadata": {},
     "output_type": "execute_result"
    }
   ],
   "source": [
    "df[df['knotted'] > 0.9]"
   ]
  }
 ],
 "metadata": {
  "kernelspec": {
   "display_name": "Python [conda env:transformers]",
   "language": "python",
   "name": "conda-env-transformers-py"
  },
  "language_info": {
   "codemirror_mode": {
    "name": "ipython",
    "version": 3
   },
   "file_extension": ".py",
   "mimetype": "text/x-python",
   "name": "python",
   "nbconvert_exporter": "python",
   "pygments_lexer": "ipython3",
   "version": "3.8.15"
  }
 },
 "nbformat": 4,
 "nbformat_minor": 5
}
