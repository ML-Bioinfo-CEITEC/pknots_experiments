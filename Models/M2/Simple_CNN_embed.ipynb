{
 "cells": [
  {
   "cell_type": "code",
   "execution_count": 1,
   "id": "b737c3ed-6981-46b5-b7c5-39a4a4cd77c4",
   "metadata": {},
   "outputs": [],
   "source": [
    "import tensorflow as tf\n",
    "from tensorflow.keras import Sequential\n",
    "from tensorflow.keras.layers import Conv1D, BatchNormalization, MaxPooling1D, Dropout, GlobalAveragePooling1D, Dense\n",
    "from sklearn.model_selection import train_test_split\n",
    "import numpy as np\n",
    "import pandas as pd\n",
    "from typing import Tuple\n",
    "import matplotlib.pyplot as plt\n",
    "from IPython.display import display, HTML\n",
    "import gc"
   ]
  },
  {
   "cell_type": "code",
   "execution_count": 2,
   "id": "c3fe6c8e-abef-4006-9b66-fcf47e51e990",
   "metadata": {},
   "outputs": [],
   "source": [
    "df_embed = pd.read_csv('./all_AF/new/embeddings_clustered_short.csv', header=0).drop(columns=['seq'])"
   ]
  },
  {
   "cell_type": "code",
   "execution_count": 3,
   "id": "01082101-fc55-4c44-889d-eca77d16d24d",
   "metadata": {},
   "outputs": [],
   "source": [
    "def make_train_test_dataset(df: pd.DataFrame, test_size: float = 0.2) -> Tuple[np.ndarray, np.ndarray,\n",
    "                                                                               np.ndarray, np.ndarray]:\n",
    "    df_train, df_test = train_test_split(df, test_size=test_size, random_state=24)\n",
    "\n",
    "    train_labels = df_train.pop('label').to_numpy()\n",
    "    test_labels = df_test.pop('label').to_numpy()\n",
    "\n",
    "    X_train = np.swapaxes(np.expand_dims(df_train, axis=1), 1, 2)\n",
    "    y_train = np.expand_dims(train_labels, axis=1)\n",
    "\n",
    "    X_test = np.swapaxes(np.expand_dims(df_test, axis=1), 1, 2)\n",
    "    y_test = np.expand_dims(test_labels, axis=1)\n",
    "\n",
    "    return X_train, y_train, X_test, y_test"
   ]
  },
  {
   "cell_type": "code",
   "execution_count": 4,
   "id": "99139468-e23a-4430-998c-38947f281784",
   "metadata": {},
   "outputs": [
    {
     "data": {
      "text/plain": [
       "109"
      ]
     },
     "execution_count": 4,
     "metadata": {},
     "output_type": "execute_result"
    }
   ],
   "source": [
    "X_train, y_train, X_test, y_test = make_train_test_dataset(df_embed)\n",
    "del(df_embed)\n",
    "gc.collect()"
   ]
  },
  {
   "cell_type": "code",
   "execution_count": 5,
   "id": "fb0c1186-5eae-46dc-923e-c7b7527f7f49",
   "metadata": {},
   "outputs": [
    {
     "data": {
      "text/plain": [
       "(192204, 1024, 1)"
      ]
     },
     "execution_count": 5,
     "metadata": {},
     "output_type": "execute_result"
    }
   ],
   "source": [
    "X_train.shape"
   ]
  },
  {
   "cell_type": "code",
   "execution_count": 6,
   "id": "183780b0-90fc-464e-867e-7eaafda0c3fc",
   "metadata": {},
   "outputs": [],
   "source": [
    "model = Sequential([\n",
    "        Conv1D(32, kernel_size=8, data_format='channels_last', activation='relu', input_shape=(1024,1)),\n",
    "        BatchNormalization(),\n",
    "        MaxPooling1D(),\n",
    "        Conv1D(16, kernel_size=8, data_format='channels_last', activation='relu'),\n",
    "        BatchNormalization(),\n",
    "        MaxPooling1D(),\n",
    "        Conv1D(4, kernel_size=8, data_format='channels_last', activation='relu'),\n",
    "        BatchNormalization(),\n",
    "        MaxPooling1D(),\n",
    "        Dropout(0.3),\n",
    "        GlobalAveragePooling1D(),\n",
    "        Dense(1, activation='sigmoid')])"
   ]
  },
  {
   "cell_type": "code",
   "execution_count": 7,
   "id": "cc378ee9-8d28-493a-8173-785a827dc3b0",
   "metadata": {},
   "outputs": [
    {
     "name": "stdout",
     "output_type": "stream",
     "text": [
      "Model: \"sequential\"\n",
      "_________________________________________________________________\n",
      " Layer (type)                Output Shape              Param #   \n",
      "=================================================================\n",
      " conv1d (Conv1D)             (None, 1017, 32)          288       \n",
      "                                                                 \n",
      " batch_normalization (BatchN  (None, 1017, 32)         128       \n",
      " ormalization)                                                   \n",
      "                                                                 \n",
      " max_pooling1d (MaxPooling1D  (None, 508, 32)          0         \n",
      " )                                                               \n",
      "                                                                 \n",
      " conv1d_1 (Conv1D)           (None, 501, 16)           4112      \n",
      "                                                                 \n",
      " batch_normalization_1 (Batc  (None, 501, 16)          64        \n",
      " hNormalization)                                                 \n",
      "                                                                 \n",
      " max_pooling1d_1 (MaxPooling  (None, 250, 16)          0         \n",
      " 1D)                                                             \n",
      "                                                                 \n",
      " conv1d_2 (Conv1D)           (None, 243, 4)            516       \n",
      "                                                                 \n",
      " batch_normalization_2 (Batc  (None, 243, 4)           16        \n",
      " hNormalization)                                                 \n",
      "                                                                 \n",
      " max_pooling1d_2 (MaxPooling  (None, 121, 4)           0         \n",
      " 1D)                                                             \n",
      "                                                                 \n",
      " dropout (Dropout)           (None, 121, 4)            0         \n",
      "                                                                 \n",
      " global_average_pooling1d (G  (None, 4)                0         \n",
      " lobalAveragePooling1D)                                          \n",
      "                                                                 \n",
      " dense (Dense)               (None, 1)                 5         \n",
      "                                                                 \n",
      "=================================================================\n",
      "Total params: 5,129\n",
      "Trainable params: 5,025\n",
      "Non-trainable params: 104\n",
      "_________________________________________________________________\n",
      "None\n"
     ]
    }
   ],
   "source": [
    "model.compile(\n",
    "    optimizer='adam',\n",
    "    loss='binary_crossentropy',\n",
    "    metrics=['accuracy']\n",
    ")\n",
    "\n",
    "print(model.summary())"
   ]
  },
  {
   "cell_type": "code",
   "execution_count": 8,
   "id": "35b4df08-0201-4a86-9531-429a950c9fb1",
   "metadata": {},
   "outputs": [
    {
     "name": "stdout",
     "output_type": "stream",
     "text": [
      "Epoch 1/10\n",
      "3004/3004 [==============================] - 324s 107ms/step - loss: 0.4113 - accuracy: 0.8302\n",
      "Epoch 2/10\n",
      "3004/3004 [==============================] - 318s 106ms/step - loss: 0.3719 - accuracy: 0.8532\n",
      "Epoch 3/10\n",
      "3004/3004 [==============================] - 308s 103ms/step - loss: 0.3649 - accuracy: 0.8587\n",
      "Epoch 4/10\n",
      "3004/3004 [==============================] - 314s 105ms/step - loss: 0.3595 - accuracy: 0.8612\n",
      "Epoch 5/10\n",
      "3004/3004 [==============================] - 322s 107ms/step - loss: 0.3552 - accuracy: 0.8636\n",
      "Epoch 6/10\n",
      "3004/3004 [==============================] - 426s 142ms/step - loss: 0.3522 - accuracy: 0.8646\n",
      "Epoch 7/10\n",
      "3004/3004 [==============================] - 437s 145ms/step - loss: 0.3501 - accuracy: 0.8663\n",
      "Epoch 8/10\n",
      "3004/3004 [==============================] - 440s 146ms/step - loss: 0.3488 - accuracy: 0.8675\n",
      "Epoch 9/10\n",
      "3004/3004 [==============================] - 470s 156ms/step - loss: 0.3458 - accuracy: 0.8688\n",
      "Epoch 10/10\n",
      "3004/3004 [==============================] - 446s 149ms/step - loss: 0.3450 - accuracy: 0.8695\n"
     ]
    },
    {
     "data": {
      "text/plain": [
       "<keras.callbacks.History at 0x230cedacdc0>"
      ]
     },
     "execution_count": 8,
     "metadata": {},
     "output_type": "execute_result"
    }
   ],
   "source": [
    "model.fit(\n",
    "    X_train,\n",
    "    y_train,\n",
    "    batch_size=64,\n",
    "    epochs=10\n",
    ")\n"
   ]
  },
  {
   "cell_type": "code",
   "execution_count": 9,
   "id": "19e91345-ba6c-4dfa-a7c6-bd982626b686",
   "metadata": {},
   "outputs": [
    {
     "name": "stdout",
     "output_type": "stream",
     "text": [
      "Test loss: 0.5542090535163879\n",
      "Test accuracy: 0.7502445578575134\n"
     ]
    }
   ],
   "source": [
    "score = model.evaluate(X_test, y_test, verbose = 0) \n",
    "\n",
    "print('Test loss:', score[0]) \n",
    "print('Test accuracy:', score[1])"
   ]
  },
  {
   "cell_type": "code",
   "execution_count": 77,
   "id": "672d8cf0-8602-4939-9a94-dc040d11667d",
   "metadata": {},
   "outputs": [],
   "source": [
    "model.save(\"tf_embed_cnn_10epochs.h5\", save_format='h5')"
   ]
  },
  {
   "cell_type": "code",
   "execution_count": null,
   "id": "8dc105c1-0cda-48c2-a0a8-b077850b87e2",
   "metadata": {},
   "outputs": [],
   "source": []
  }
 ],
 "metadata": {
  "kernelspec": {
   "display_name": "Python 3 (ipykernel)",
   "language": "python",
   "name": "python3"
  },
  "language_info": {
   "codemirror_mode": {
    "name": "ipython",
    "version": 3
   },
   "file_extension": ".py",
   "mimetype": "text/x-python",
   "name": "python",
   "nbconvert_exporter": "python",
   "pygments_lexer": "ipython3",
   "version": "3.10.6"
  }
 },
 "nbformat": 4,
 "nbformat_minor": 5
}
