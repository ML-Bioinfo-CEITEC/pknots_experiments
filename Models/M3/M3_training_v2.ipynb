{
 "cells": [
  {
   "cell_type": "markdown",
   "metadata": {
    "id": "3SBhmsvbdrS9"
   },
   "source": [
    "## Data"
   ]
  },
  {
   "cell_type": "code",
   "execution_count": 1,
   "metadata": {},
   "outputs": [],
   "source": [
    "!pip install datasets --quiet"
   ]
  },
  {
   "cell_type": "code",
   "execution_count": 2,
   "metadata": {
    "id": "MFO7oytsYB_L"
   },
   "outputs": [
    {
     "name": "stderr",
     "output_type": "stream",
     "text": [
      "2023-01-05 12:05:35.059824: I tensorflow/core/platform/cpu_feature_guard.cc:193] This TensorFlow binary is optimized with oneAPI Deep Neural Network Library (oneDNN) to use the following CPU instructions in performance-critical operations:  SSE4.1 SSE4.2 AVX AVX2 FMA\n",
      "To enable them in other operations, rebuild TensorFlow with the appropriate compiler flags.\n"
     ]
    }
   ],
   "source": [
    "import tensorflow as tf\n",
    "from tensorflow.keras import Sequential\n",
    "from tensorflow.keras.layers import Input, Conv1D, BatchNormalization, MaxPooling1D, Dropout, GlobalAveragePooling1D, Dense\n",
    "from sklearn.model_selection import train_test_split\n",
    "import numpy as np\n",
    "import pandas as pd\n",
    "import matplotlib.pyplot as plt\n",
    "from IPython.display import display, HTML\n",
    "import gc"
   ]
  },
  {
   "cell_type": "code",
   "execution_count": 3,
   "metadata": {},
   "outputs": [],
   "source": [
    "HF_DATASET = 'EvaKlimentova/knots_AF'\n",
    "\n",
    "nucleo_dic = {\n",
    "    'A': 0,\n",
    "    'R': 1,\n",
    "    'N': 2,\n",
    "    'D': 3,\n",
    "    'C': 4,\n",
    "    'Q': 5,\n",
    "    'E': 6,\n",
    "    'G': 7,\n",
    "    'H': 8,\n",
    "    'I': 9,\n",
    "    'L': 10,\n",
    "    'K': 11,\n",
    "    'M': 12,\n",
    "    'F': 13,\n",
    "    'P': 14,\n",
    "    'S': 15,\n",
    "    'T': 16,\n",
    "    'W': 17,\n",
    "    'Y': 18,\n",
    "    'V': 19,\n",
    "    'X': 20\n",
    "}"
   ]
  },
  {
   "cell_type": "code",
   "execution_count": 4,
   "metadata": {
    "id": "i4RWxGBL3QU7"
   },
   "outputs": [
    {
     "name": "stderr",
     "output_type": "stream",
     "text": [
      "Using custom data configuration EvaKlimentova--knots_AF-2c96f5fb76468be4\n",
      "Reusing dataset parquet (/home/jovyan/.cache/huggingface/datasets/EvaKlimentova___parquet/EvaKlimentova--knots_AF-2c96f5fb76468be4/0.0.0/2a3b91fbd88a2c90d1dbbb32b460cf621d31bd5b05b934492fdef7d8d6f236ec)\n"
     ]
    },
    {
     "data": {
      "application/vnd.jupyter.widget-view+json": {
       "model_id": "97de55aa9b924e78a6e63743bc461545",
       "version_major": 2,
       "version_minor": 0
      },
      "text/plain": [
       "  0%|          | 0/2 [00:00<?, ?it/s]"
      ]
     },
     "metadata": {},
     "output_type": "display_data"
    },
    {
     "data": {
      "text/plain": [
       "DatasetDict({\n",
       "    train: Dataset({\n",
       "        features: ['ID', 'latestVersion', 'globalMetricValue', 'uniprotStart', 'uniprotEnd', 'uniprotSequence', 'Length', 'Domain_architecture', 'InterPro', 'Max_Topology', 'Max Freq', 'Knot Core', 'label'],\n",
       "        num_rows: 166915\n",
       "    })\n",
       "    test: Dataset({\n",
       "        features: ['ID', 'latestVersion', 'globalMetricValue', 'uniprotStart', 'uniprotEnd', 'uniprotSequence', 'Length', 'Domain_architecture', 'InterPro', 'Max_Topology', 'Max Freq', 'Knot Core', 'label'],\n",
       "        num_rows: 41729\n",
       "    })\n",
       "})"
      ]
     },
     "execution_count": 4,
     "metadata": {},
     "output_type": "execute_result"
    }
   ],
   "source": [
    "from datasets import load_dataset\n",
    "\n",
    "dataset = load_dataset(HF_DATASET)\n",
    "dataset"
   ]
  },
  {
   "cell_type": "code",
   "execution_count": 5,
   "metadata": {},
   "outputs": [],
   "source": [
    "df_train = dataset['train'].to_pandas()\n",
    "df_test = dataset['test'].to_pandas()\n",
    "del(dataset)"
   ]
  },
  {
   "cell_type": "markdown",
   "metadata": {},
   "source": [
    "Fix sequence size:"
   ]
  },
  {
   "cell_type": "code",
   "execution_count": 6,
   "metadata": {},
   "outputs": [],
   "source": [
    "# skip sequences that are longer than 500\n",
    "df_train = df_train[df_train['uniprotSequence'].str.len() <= 500]\n",
    "df_test = df_test[df_test['uniprotSequence'].str.len() <= 500]"
   ]
  },
  {
   "cell_type": "code",
   "execution_count": 7,
   "metadata": {},
   "outputs": [],
   "source": [
    "# pad sequences that are shorter than 500 (with 'X' character)\n",
    "df_train['uniprotSequence'] = df_train['uniprotSequence'].apply(lambda x: x + (500 - len(x))*'X')\n",
    "df_test['uniprotSequence'] = df_test['uniprotSequence'].apply(lambda x: x + (500 - len(x))*'X')"
   ]
  },
  {
   "cell_type": "markdown",
   "metadata": {},
   "source": [
    "Encode the dataset:"
   ]
  },
  {
   "cell_type": "code",
   "execution_count": 8,
   "metadata": {},
   "outputs": [
    {
     "name": "stderr",
     "output_type": "stream",
     "text": [
      "2023-01-05 12:05:49.625086: I tensorflow/core/platform/cpu_feature_guard.cc:193] This TensorFlow binary is optimized with oneAPI Deep Neural Network Library (oneDNN) to use the following CPU instructions in performance-critical operations:  SSE4.1 SSE4.2 AVX AVX2 FMA\n",
      "To enable them in other operations, rebuild TensorFlow with the appropriate compiler flags.\n",
      "2023-01-05 12:05:50.726431: I tensorflow/core/common_runtime/gpu/gpu_device.cc:1616] Created device /job:localhost/replica:0/task:0/device:GPU:0 with 43651 MB memory:  -> device: 0, name: NVIDIA A40, pci bus id: 0000:a3:00.0, compute capability: 8.6\n"
     ]
    }
   ],
   "source": [
    "dataset_train = df_train['uniprotSequence'].tolist()\n",
    "labels_train = np.array(df_train['label'])\n",
    "\n",
    "# numericalize using the dictionary\n",
    "dataset_ordinal_train = [[nucleo_dic[letter] for letter in sequence] for sequence in dataset_train]\n",
    "\n",
    "# translate number values to one-hot vectors\n",
    "dataset_onehot_train = tf.one_hot(dataset_ordinal_train, depth=21)\n",
    "del(dataset_ordinal_train)"
   ]
  },
  {
   "cell_type": "code",
   "execution_count": 9,
   "metadata": {},
   "outputs": [
    {
     "data": {
      "text/plain": [
       "0"
      ]
     },
     "execution_count": 9,
     "metadata": {},
     "output_type": "execute_result"
    }
   ],
   "source": [
    "dataset_test = df_test['uniprotSequence'].tolist()\n",
    "labels_test = np.array(df_test['label'])\n",
    "dataset_ordinal_test = [[nucleo_dic[letter] for letter in sequence] for sequence in dataset_test]\n",
    "dataset_onehot_test = tf.one_hot(dataset_ordinal_test, depth=21)\n",
    "del(dataset_ordinal_test)\n",
    "gc.collect()"
   ]
  },
  {
   "cell_type": "markdown",
   "metadata": {
    "id": "NsCkvaT_dxDa"
   },
   "source": [
    "## Model\n",
    "\n",
    "Adapted model from this [paper](https://www.frontiersin.org/articles/10.3389/fgene.2020.568546/full)."
   ]
  },
  {
   "cell_type": "code",
   "execution_count": 10,
   "metadata": {},
   "outputs": [],
   "source": [
    "model = Sequential([\n",
    "        Conv1D(32, kernel_size=8, data_format='channels_last', activation='relu', input_shape=(500,21)),\n",
    "        BatchNormalization(),\n",
    "        MaxPooling1D(),\n",
    "        Conv1D(16, kernel_size=8, data_format='channels_last', activation='relu'),\n",
    "        BatchNormalization(),\n",
    "        MaxPooling1D(),\n",
    "        Conv1D(4, kernel_size=8, data_format='channels_last', activation='relu'),\n",
    "        BatchNormalization(),\n",
    "        MaxPooling1D(),\n",
    "        Dropout(0.3),\n",
    "        GlobalAveragePooling1D(),\n",
    "        Dense(1, activation='sigmoid')])"
   ]
  },
  {
   "cell_type": "code",
   "execution_count": 11,
   "metadata": {
    "id": "YROigDsQZ8Pd"
   },
   "outputs": [
    {
     "name": "stdout",
     "output_type": "stream",
     "text": [
      "Model: \"sequential\"\n",
      "_________________________________________________________________\n",
      " Layer (type)                Output Shape              Param #   \n",
      "=================================================================\n",
      " conv1d (Conv1D)             (None, 493, 32)           5408      \n",
      "                                                                 \n",
      " batch_normalization (BatchN  (None, 493, 32)          128       \n",
      " ormalization)                                                   \n",
      "                                                                 \n",
      " max_pooling1d (MaxPooling1D  (None, 246, 32)          0         \n",
      " )                                                               \n",
      "                                                                 \n",
      " conv1d_1 (Conv1D)           (None, 239, 16)           4112      \n",
      "                                                                 \n",
      " batch_normalization_1 (Batc  (None, 239, 16)          64        \n",
      " hNormalization)                                                 \n",
      "                                                                 \n",
      " max_pooling1d_1 (MaxPooling  (None, 119, 16)          0         \n",
      " 1D)                                                             \n",
      "                                                                 \n",
      " conv1d_2 (Conv1D)           (None, 112, 4)            516       \n",
      "                                                                 \n",
      " batch_normalization_2 (Batc  (None, 112, 4)           16        \n",
      " hNormalization)                                                 \n",
      "                                                                 \n",
      " max_pooling1d_2 (MaxPooling  (None, 56, 4)            0         \n",
      " 1D)                                                             \n",
      "                                                                 \n",
      " dropout (Dropout)           (None, 56, 4)             0         \n",
      "                                                                 \n",
      " global_average_pooling1d (G  (None, 4)                0         \n",
      " lobalAveragePooling1D)                                          \n",
      "                                                                 \n",
      " dense (Dense)               (None, 1)                 5         \n",
      "                                                                 \n",
      "=================================================================\n",
      "Total params: 10,249\n",
      "Trainable params: 10,145\n",
      "Non-trainable params: 104\n",
      "_________________________________________________________________\n",
      "None\n"
     ]
    }
   ],
   "source": [
    "model.compile(\n",
    "    optimizer='adam',\n",
    "    loss='binary_crossentropy',\n",
    "    metrics=['accuracy']\n",
    ")\n",
    "\n",
    "print(model.summary())"
   ]
  },
  {
   "cell_type": "markdown",
   "metadata": {
    "id": "B-JO2cahgodo"
   },
   "source": [
    "## Training and saving the model"
   ]
  },
  {
   "cell_type": "code",
   "execution_count": 12,
   "metadata": {
    "colab": {
     "base_uri": "https://localhost:8080/"
    },
    "id": "y2o83ueDZv59",
    "outputId": "a4f7d470-5152-4971-9670-eb0363d39835"
   },
   "outputs": [
    {
     "name": "stdout",
     "output_type": "stream",
     "text": [
      "Epoch 1/10\n"
     ]
    },
    {
     "name": "stderr",
     "output_type": "stream",
     "text": [
      "2023-01-05 12:06:03.436423: I tensorflow/stream_executor/cuda/cuda_dnn.cc:384] Loaded cuDNN version 8401\n",
      "2023-01-05 12:06:05.308639: I tensorflow/core/platform/default/subprocess.cc:304] Start cannot spawn child process: No such file or directory\n",
      "2023-01-05 12:06:05.309686: I tensorflow/core/platform/default/subprocess.cc:304] Start cannot spawn child process: No such file or directory\n",
      "2023-01-05 12:06:05.309717: W tensorflow/stream_executor/gpu/asm_compiler.cc:80] Couldn't get ptxas version string: INTERNAL: Couldn't invoke ptxas --version\n",
      "2023-01-05 12:06:05.310720: I tensorflow/core/platform/default/subprocess.cc:304] Start cannot spawn child process: No such file or directory\n",
      "2023-01-05 12:06:05.310826: W tensorflow/stream_executor/gpu/redzone_allocator.cc:314] INTERNAL: Failed to launch ptxas\n",
      "Relying on driver to perform ptx compilation. \n",
      "Modify $PATH to customize ptxas location.\n",
      "This message will be only logged once.\n",
      "2023-01-05 12:06:05.439007: I tensorflow/stream_executor/cuda/cuda_blas.cc:1614] TensorFloat-32 will be used for the matrix multiplication. This will only be logged once.\n"
     ]
    },
    {
     "name": "stdout",
     "output_type": "stream",
     "text": [
      "674/674 [==============================] - 12s 10ms/step - loss: 0.3300 - accuracy: 0.8665 - val_loss: 0.2472 - val_accuracy: 0.9059\n",
      "Epoch 2/10\n",
      "674/674 [==============================] - 6s 8ms/step - loss: 0.1897 - accuracy: 0.9337 - val_loss: 0.1726 - val_accuracy: 0.9379\n",
      "Epoch 3/10\n",
      "674/674 [==============================] - 6s 9ms/step - loss: 0.1619 - accuracy: 0.9445 - val_loss: 0.1735 - val_accuracy: 0.9365\n",
      "Epoch 4/10\n",
      "674/674 [==============================] - 6s 9ms/step - loss: 0.1455 - accuracy: 0.9502 - val_loss: 0.1900 - val_accuracy: 0.9278\n",
      "Epoch 5/10\n",
      "674/674 [==============================] - 6s 9ms/step - loss: 0.1356 - accuracy: 0.9534 - val_loss: 0.1611 - val_accuracy: 0.9421\n",
      "Epoch 6/10\n",
      "674/674 [==============================] - 6s 8ms/step - loss: 0.1281 - accuracy: 0.9561 - val_loss: 0.1516 - val_accuracy: 0.9472\n",
      "Epoch 7/10\n",
      "674/674 [==============================] - 6s 9ms/step - loss: 0.1221 - accuracy: 0.9589 - val_loss: 0.3747 - val_accuracy: 0.8822\n",
      "Epoch 8/10\n",
      "674/674 [==============================] - 6s 8ms/step - loss: 0.1172 - accuracy: 0.9600 - val_loss: 0.3993 - val_accuracy: 0.8374\n",
      "Epoch 9/10\n",
      "674/674 [==============================] - 6s 8ms/step - loss: 0.1112 - accuracy: 0.9628 - val_loss: 0.1608 - val_accuracy: 0.9473\n",
      "Epoch 10/10\n",
      "674/674 [==============================] - 6s 9ms/step - loss: 0.1080 - accuracy: 0.9627 - val_loss: 0.2293 - val_accuracy: 0.9289\n"
     ]
    },
    {
     "data": {
      "text/plain": [
       "<keras.callbacks.History at 0x7f2d44166d90>"
      ]
     },
     "execution_count": 12,
     "metadata": {},
     "output_type": "execute_result"
    }
   ],
   "source": [
    "model.fit(\n",
    "    dataset_onehot_train,\n",
    "    labels_train,\n",
    "    batch_size=128,\n",
    "    epochs=10,\n",
    "    validation_split=0.3\n",
    ")"
   ]
  },
  {
   "cell_type": "code",
   "execution_count": 13,
   "metadata": {
    "id": "bncLlx3PZ7GJ"
   },
   "outputs": [],
   "source": [
    "model.save('/home/jovyan/models/2023_data_v1/cnn_10epochs.h5', save_format='h5')"
   ]
  },
  {
   "cell_type": "markdown",
   "metadata": {},
   "source": [
    "## Test the model"
   ]
  },
  {
   "cell_type": "code",
   "execution_count": 18,
   "metadata": {
    "id": "aJdOi11WhIhC"
   },
   "outputs": [
    {
     "name": "stdout",
     "output_type": "stream",
     "text": [
      "Model: \"sequential\"\n",
      "_________________________________________________________________\n",
      " Layer (type)                Output Shape              Param #   \n",
      "=================================================================\n",
      " conv1d (Conv1D)             (None, 493, 32)           5408      \n",
      "                                                                 \n",
      " batch_normalization (BatchN  (None, 493, 32)          128       \n",
      " ormalization)                                                   \n",
      "                                                                 \n",
      " max_pooling1d (MaxPooling1D  (None, 246, 32)          0         \n",
      " )                                                               \n",
      "                                                                 \n",
      " conv1d_1 (Conv1D)           (None, 239, 16)           4112      \n",
      "                                                                 \n",
      " batch_normalization_1 (Batc  (None, 239, 16)          64        \n",
      " hNormalization)                                                 \n",
      "                                                                 \n",
      " max_pooling1d_1 (MaxPooling  (None, 119, 16)          0         \n",
      " 1D)                                                             \n",
      "                                                                 \n",
      " conv1d_2 (Conv1D)           (None, 112, 4)            516       \n",
      "                                                                 \n",
      " batch_normalization_2 (Batc  (None, 112, 4)           16        \n",
      " hNormalization)                                                 \n",
      "                                                                 \n",
      " max_pooling1d_2 (MaxPooling  (None, 56, 4)            0         \n",
      " 1D)                                                             \n",
      "                                                                 \n",
      " dropout (Dropout)           (None, 56, 4)             0         \n",
      "                                                                 \n",
      " global_average_pooling1d (G  (None, 4)                0         \n",
      " lobalAveragePooling1D)                                          \n",
      "                                                                 \n",
      " dense (Dense)               (None, 1)                 5         \n",
      "                                                                 \n",
      "=================================================================\n",
      "Total params: 10,249\n",
      "Trainable params: 10,145\n",
      "Non-trainable params: 104\n",
      "_________________________________________________________________\n"
     ]
    }
   ],
   "source": [
    "model = tf.keras.models.load_model('/home/jovyan/models/2023_data_v1/cnn_10epochs_95.h5')\n",
    "model.summary()"
   ]
  },
  {
   "cell_type": "code",
   "execution_count": 19,
   "metadata": {},
   "outputs": [
    {
     "name": "stdout",
     "output_type": "stream",
     "text": [
      "Test loss: 0.15690946578979492\n",
      "Test accuracy: 0.9518417119979858\n"
     ]
    }
   ],
   "source": [
    "score = model.evaluate(dataset_onehot_test, labels_test, verbose = 0) \n",
    "\n",
    "print('Test loss:', score[0]) \n",
    "print('Test accuracy:', score[1])"
   ]
  },
  {
   "cell_type": "code",
   "execution_count": null,
   "metadata": {},
   "outputs": [],
   "source": []
  }
 ],
 "metadata": {
  "accelerator": "GPU",
  "colab": {
   "collapsed_sections": [],
   "provenance": []
  },
  "kernelspec": {
   "display_name": "Python [conda env:ml_env]",
   "language": "python",
   "name": "conda-env-ml_env-py"
  },
  "language_info": {
   "codemirror_mode": {
    "name": "ipython",
    "version": 3
   },
   "file_extension": ".py",
   "mimetype": "text/x-python",
   "name": "python",
   "nbconvert_exporter": "python",
   "pygments_lexer": "ipython3",
   "version": "3.8.13"
  }
 },
 "nbformat": 4,
 "nbformat_minor": 4
}
